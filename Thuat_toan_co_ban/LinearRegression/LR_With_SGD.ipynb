{
  "nbformat": 4,
  "nbformat_minor": 0,
  "metadata": {
    "colab": {
      "name": "gd.ipynb",
      "provenance": [],
      "collapsed_sections": [
        "55VCT6sojHA4",
        "j5-GCth7jYFv",
        "WiCmftKXjlAf",
        "pfQDlRNbb5mn",
        "_sZ0rFB8alNm"
      ],
      "toc_visible": true
    },
    "kernelspec": {
      "display_name": "Python 3",
      "name": "python3"
    },
    "language_info": {
      "name": "python"
    },
    "accelerator": "GPU"
  },
  "cells": [
    {
      "cell_type": "markdown",
      "metadata": {
        "id": "DHzMzRTHECxo"
      },
      "source": [
        "# I. Import library"
      ]
    },
    {
      "cell_type": "code",
      "metadata": {
        "id": "XJqoWIZADlnj"
      },
      "source": [
        "import numpy as np\n",
        "import pandas as pd\n",
        "import matplotlib.pyplot as plt\n",
        "import seaborn as sns\n",
        "\n",
        "from sklearn.preprocessing import OneHotEncoder\n",
        "from sklearn.preprocessing import LabelEncoder\n",
        "label_encoder = LabelEncoder()\n",
        "from sklearn.preprocessing import StandardScaler\n",
        "standard_scaler = StandardScaler()\n",
        "from sklearn.model_selection import train_test_split\n",
        "\n",
        "from sklearn.linear_model import SGDRegressor\n",
        "from sklearn.pipeline import make_pipeline"
      ],
      "execution_count": 651,
      "outputs": []
    },
    {
      "cell_type": "markdown",
      "metadata": {
        "id": "DN5vTNI2cs44"
      },
      "source": [
        "# II. Function to clean training set"
      ]
    },
    {
      "cell_type": "code",
      "metadata": {
        "id": "8K98hYOTKzGA"
      },
      "source": [
        "def remove_outlier_boxplot(df, feature):\n",
        "  # compute Q1 & Q3\n",
        "  Q1 = df[feature].quantile(0.25)\n",
        "  Q3 = df[feature].quantile(0.75)\n",
        "  # compute low_fence & up_fence\n",
        "  IQR = Q3 - Q1\n",
        "  low_fence = Q1 - 1.5 * IQR\n",
        "  up_fence = Q3 + 1.5 * IQR\n",
        "  # remove outliers\n",
        "  return df[(df[feature] < up_fence) & (df[feature] > low_fence)]"
      ],
      "execution_count": 652,
      "outputs": []
    },
    {
      "cell_type": "code",
      "metadata": {
        "id": "vRhhWJeAc9zU"
      },
      "source": [
        "def add_ONE(Xtrain):\n",
        "  one = np.ones((Xtrain.shape[0], 1))\n",
        "  return np.concatenate((one, Xtrain), axis = 1)"
      ],
      "execution_count": 653,
      "outputs": []
    },
    {
      "cell_type": "markdown",
      "metadata": {
        "id": "5u9315LAdIrj"
      },
      "source": [
        "# II. Gradient descent for LR\n"
      ]
    },
    {
      "cell_type": "markdown",
      "metadata": {
        "id": "KGxt4cvfSTF0"
      },
      "source": [
        "![image.png](data:image/png;base64,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)"
      ]
    },
    {
      "cell_type": "code",
      "metadata": {
        "id": "Wl5Y8E6ajUqj"
      },
      "source": [
        "def lossFunction(X, y, w):\n",
        "  return 0.5 / N * np.linalg.norm(X @ w - y) ** 2"
      ],
      "execution_count": 654,
      "outputs": []
    },
    {
      "cell_type": "markdown",
      "metadata": {
        "id": "F3SnW4hiSYQ8"
      },
      "source": [
        "![image.png](data:image/png;base64,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)"
      ]
    },
    {
      "cell_type": "code",
      "metadata": {
        "id": "VplZ8SjIRnoz"
      },
      "source": [
        "def Gradient(X, y, w):\n",
        "  return 1/ N * (X.T @ (X @ w - y))"
      ],
      "execution_count": 655,
      "outputs": []
    },
    {
      "cell_type": "code",
      "metadata": {
        "id": "lFKujfVqR9wj"
      },
      "source": [
        "def GD(X, y, w, w_shape, lr= 0.01, iters= 10000):\n",
        "  w = w.reshape(w_shape, 1)\n",
        "  loss_full = []\n",
        "  while iters >= 0: \n",
        "    grad = Gradient(X, y, w)\n",
        "    if np.all(abs(grad) < 1e-3):\n",
        "      break\n",
        "    w = w - lr * grad\n",
        "    if iters > 9000:\n",
        "      loss_full.append(lossFunction(X, y, w))\n",
        "    iters -= 1\n",
        "\n",
        "  return w, loss_full\n"
      ],
      "execution_count": 656,
      "outputs": []
    },
    {
      "cell_type": "code",
      "metadata": {
        "id": "Oy--ylOOeHT9"
      },
      "source": [
        "def predict_normalGD(X, w):\n",
        "  return X @ w"
      ],
      "execution_count": 657,
      "outputs": []
    },
    {
      "cell_type": "code",
      "metadata": {
        "id": "bGyNqiegfg2-"
      },
      "source": [
        "def MSE(ytest, y_pre_GD, y_pre_SGD):\n",
        "  from sklearn.metrics import mean_squared_error\n",
        "  print('MSE:')\n",
        "  print('Normal Gradient descent: ', mean_squared_error(ytest, y_pre_GD))\n",
        "  print('Stochastic Gradient descent: ', mean_squared_error(ytest, y_pre_SGD))"
      ],
      "execution_count": 658,
      "outputs": []
    },
    {
      "cell_type": "code",
      "metadata": {
        "id": "5xtHwb_hgb4u"
      },
      "source": [
        "def r2_metric(ytest, y_pre_GD, y_pre_SGD):\n",
        "  from sklearn.metrics import r2_score\n",
        "  print('r2_square metric:')\n",
        "  print('Normal Gradient descent: {}%'.format(np.round(r2_score(ytest, y_pre_GD), 2) * 100))\n",
        "  print('Stochastic Gradient descent: {}%'.format(np.round(r2_score(ytest, y_pre_SGD), 2) * 100))\n"
      ],
      "execution_count": 659,
      "outputs": []
    },
    {
      "cell_type": "code",
      "metadata": {
        "id": "yJX0n7rfk6ME"
      },
      "source": [
        "def lossValue(loss):\n",
        "  plt.plot(np.arange(1000), loss[:1000], color = 'g')\n",
        "  plt.title('LOSS_VALUES')\n",
        "  plt.xlabel('iters')\n",
        "  plt.ylabel('Loss')\n",
        "  plt.show()"
      ],
      "execution_count": 660,
      "outputs": []
    },
    {
      "cell_type": "markdown",
      "metadata": {
        "id": "Oynx3f5mENSP"
      },
      "source": [
        "# III. Apply for dataset"
      ]
    },
    {
      "cell_type": "markdown",
      "metadata": {
        "id": "myPW2RtFEX9J"
      },
      "source": [
        "## 1. Dataset fish"
      ]
    },
    {
      "cell_type": "markdown",
      "metadata": {
        "id": "55VCT6sojHA4"
      },
      "source": [
        "###1. Preprocessing data & Create dataset\n"
      ]
    },
    {
      "cell_type": "code",
      "metadata": {
        "id": "5078huFxD9iB"
      },
      "source": [
        "df = pd.read_csv('fish.csv')"
      ],
      "execution_count": 661,
      "outputs": []
    },
    {
      "cell_type": "code",
      "metadata": {
        "id": "chORO-INEmaV",
        "colab": {
          "base_uri": "https://localhost:8080/",
          "height": 0
        },
        "outputId": "7c700bfe-2f8c-4ed0-87cf-8cbe2512a208"
      },
      "source": [
        "df"
      ],
      "execution_count": 662,
      "outputs": [
        {
          "output_type": "execute_result",
          "data": {
            "text/html": [
              "<div>\n",
              "<style scoped>\n",
              "    .dataframe tbody tr th:only-of-type {\n",
              "        vertical-align: middle;\n",
              "    }\n",
              "\n",
              "    .dataframe tbody tr th {\n",
              "        vertical-align: top;\n",
              "    }\n",
              "\n",
              "    .dataframe thead th {\n",
              "        text-align: right;\n",
              "    }\n",
              "</style>\n",
              "<table border=\"1\" class=\"dataframe\">\n",
              "  <thead>\n",
              "    <tr style=\"text-align: right;\">\n",
              "      <th></th>\n",
              "      <th>Species</th>\n",
              "      <th>Weight</th>\n",
              "      <th>Length1</th>\n",
              "      <th>Length2</th>\n",
              "      <th>Length3</th>\n",
              "      <th>Height</th>\n",
              "      <th>Width</th>\n",
              "    </tr>\n",
              "  </thead>\n",
              "  <tbody>\n",
              "    <tr>\n",
              "      <th>0</th>\n",
              "      <td>Bream</td>\n",
              "      <td>242.0</td>\n",
              "      <td>23.2</td>\n",
              "      <td>25.4</td>\n",
              "      <td>30.0</td>\n",
              "      <td>11.5200</td>\n",
              "      <td>4.0200</td>\n",
              "    </tr>\n",
              "    <tr>\n",
              "      <th>1</th>\n",
              "      <td>Bream</td>\n",
              "      <td>290.0</td>\n",
              "      <td>24.0</td>\n",
              "      <td>26.3</td>\n",
              "      <td>31.2</td>\n",
              "      <td>12.4800</td>\n",
              "      <td>4.3056</td>\n",
              "    </tr>\n",
              "    <tr>\n",
              "      <th>2</th>\n",
              "      <td>Bream</td>\n",
              "      <td>340.0</td>\n",
              "      <td>23.9</td>\n",
              "      <td>26.5</td>\n",
              "      <td>31.1</td>\n",
              "      <td>12.3778</td>\n",
              "      <td>4.6961</td>\n",
              "    </tr>\n",
              "    <tr>\n",
              "      <th>3</th>\n",
              "      <td>Bream</td>\n",
              "      <td>363.0</td>\n",
              "      <td>26.3</td>\n",
              "      <td>29.0</td>\n",
              "      <td>33.5</td>\n",
              "      <td>12.7300</td>\n",
              "      <td>4.4555</td>\n",
              "    </tr>\n",
              "    <tr>\n",
              "      <th>4</th>\n",
              "      <td>Bream</td>\n",
              "      <td>430.0</td>\n",
              "      <td>26.5</td>\n",
              "      <td>29.0</td>\n",
              "      <td>34.0</td>\n",
              "      <td>12.4440</td>\n",
              "      <td>5.1340</td>\n",
              "    </tr>\n",
              "    <tr>\n",
              "      <th>...</th>\n",
              "      <td>...</td>\n",
              "      <td>...</td>\n",
              "      <td>...</td>\n",
              "      <td>...</td>\n",
              "      <td>...</td>\n",
              "      <td>...</td>\n",
              "      <td>...</td>\n",
              "    </tr>\n",
              "    <tr>\n",
              "      <th>154</th>\n",
              "      <td>Smelt</td>\n",
              "      <td>12.2</td>\n",
              "      <td>11.5</td>\n",
              "      <td>12.2</td>\n",
              "      <td>13.4</td>\n",
              "      <td>2.0904</td>\n",
              "      <td>1.3936</td>\n",
              "    </tr>\n",
              "    <tr>\n",
              "      <th>155</th>\n",
              "      <td>Smelt</td>\n",
              "      <td>13.4</td>\n",
              "      <td>11.7</td>\n",
              "      <td>12.4</td>\n",
              "      <td>13.5</td>\n",
              "      <td>2.4300</td>\n",
              "      <td>1.2690</td>\n",
              "    </tr>\n",
              "    <tr>\n",
              "      <th>156</th>\n",
              "      <td>Smelt</td>\n",
              "      <td>12.2</td>\n",
              "      <td>12.1</td>\n",
              "      <td>13.0</td>\n",
              "      <td>13.8</td>\n",
              "      <td>2.2770</td>\n",
              "      <td>1.2558</td>\n",
              "    </tr>\n",
              "    <tr>\n",
              "      <th>157</th>\n",
              "      <td>Smelt</td>\n",
              "      <td>19.7</td>\n",
              "      <td>13.2</td>\n",
              "      <td>14.3</td>\n",
              "      <td>15.2</td>\n",
              "      <td>2.8728</td>\n",
              "      <td>2.0672</td>\n",
              "    </tr>\n",
              "    <tr>\n",
              "      <th>158</th>\n",
              "      <td>Smelt</td>\n",
              "      <td>19.9</td>\n",
              "      <td>13.8</td>\n",
              "      <td>15.0</td>\n",
              "      <td>16.2</td>\n",
              "      <td>2.9322</td>\n",
              "      <td>1.8792</td>\n",
              "    </tr>\n",
              "  </tbody>\n",
              "</table>\n",
              "<p>159 rows × 7 columns</p>\n",
              "</div>"
            ],
            "text/plain": [
              "    Species  Weight  Length1  Length2  Length3   Height   Width\n",
              "0     Bream   242.0     23.2     25.4     30.0  11.5200  4.0200\n",
              "1     Bream   290.0     24.0     26.3     31.2  12.4800  4.3056\n",
              "2     Bream   340.0     23.9     26.5     31.1  12.3778  4.6961\n",
              "3     Bream   363.0     26.3     29.0     33.5  12.7300  4.4555\n",
              "4     Bream   430.0     26.5     29.0     34.0  12.4440  5.1340\n",
              "..      ...     ...      ...      ...      ...      ...     ...\n",
              "154   Smelt    12.2     11.5     12.2     13.4   2.0904  1.3936\n",
              "155   Smelt    13.4     11.7     12.4     13.5   2.4300  1.2690\n",
              "156   Smelt    12.2     12.1     13.0     13.8   2.2770  1.2558\n",
              "157   Smelt    19.7     13.2     14.3     15.2   2.8728  2.0672\n",
              "158   Smelt    19.9     13.8     15.0     16.2   2.9322  1.8792\n",
              "\n",
              "[159 rows x 7 columns]"
            ]
          },
          "metadata": {},
          "execution_count": 662
        }
      ]
    },
    {
      "cell_type": "code",
      "metadata": {
        "id": "9sbjr8S8OSz9"
      },
      "source": [
        "train, test = train_test_split(df, test_size = 0.3)"
      ],
      "execution_count": 663,
      "outputs": []
    },
    {
      "cell_type": "code",
      "metadata": {
        "id": "5HYcIC-2IwmQ"
      },
      "source": [
        "features = ['Length1', 'Length2','Length3', 'Height', 'Width', 'Weight']"
      ],
      "execution_count": 664,
      "outputs": []
    },
    {
      "cell_type": "code",
      "metadata": {
        "id": "92pHfnH9Em7v",
        "colab": {
          "base_uri": "https://localhost:8080/"
        },
        "outputId": "680b8d39-0b1a-4c61-a439-4e98608ac926"
      },
      "source": [
        "train.info()"
      ],
      "execution_count": 665,
      "outputs": [
        {
          "output_type": "stream",
          "name": "stdout",
          "text": [
            "<class 'pandas.core.frame.DataFrame'>\n",
            "Int64Index: 111 entries, 63 to 138\n",
            "Data columns (total 7 columns):\n",
            " #   Column   Non-Null Count  Dtype  \n",
            "---  ------   --------------  -----  \n",
            " 0   Species  111 non-null    object \n",
            " 1   Weight   111 non-null    float64\n",
            " 2   Length1  111 non-null    float64\n",
            " 3   Length2  111 non-null    float64\n",
            " 4   Length3  111 non-null    float64\n",
            " 5   Height   111 non-null    float64\n",
            " 6   Width    111 non-null    float64\n",
            "dtypes: float64(6), object(1)\n",
            "memory usage: 6.9+ KB\n"
          ]
        }
      ]
    },
    {
      "cell_type": "code",
      "metadata": {
        "id": "OvFuSyL8LvgB"
      },
      "source": [
        "for i in range(0, len(features) -1):\n",
        "  train = remove_outlier_boxplot(train, features[i])"
      ],
      "execution_count": 666,
      "outputs": []
    },
    {
      "cell_type": "code",
      "metadata": {
        "id": "xTtuRM26N0gS",
        "colab": {
          "base_uri": "https://localhost:8080/",
          "height": 0
        },
        "outputId": "a30ecacd-259b-4000-d3b7-7371ac5bdab4"
      },
      "source": [
        "figure, axes = plt.subplots(2, 3, sharex=True, figsize=(7,7))\n",
        "figure.suptitle('BOXPLOT')\n",
        "axes[0][0].boxplot(train[features[0]])\n",
        "axes[0][1].boxplot(train[features[1]])\n",
        "axes[0][2].boxplot(train[features[2]])\n",
        "axes[1][0].boxplot(train[features[3]])\n",
        "axes[1][1].boxplot(train[features[4]]);"
      ],
      "execution_count": 667,
      "outputs": [
        {
          "output_type": "display_data",
          "data": {
            "image/png": "[encoded data removed]",
            "text/plain": [
              "<Figure size 504x504 with 6 Axes>"
            ]
          },
          "metadata": {
            "needs_background": "light"
          }
        }
      ]
    },
    {
      "cell_type": "markdown",
      "metadata": {
        "id": "Cm6pwoeJQ8J0"
      },
      "source": [
        "Nhận Xét: Các outlier đã bị loại bỏ ra khỏi dataframe"
      ]
    },
    {
      "cell_type": "code",
      "metadata": {
        "id": "XOw4ri3oOqjH",
        "colab": {
          "base_uri": "https://localhost:8080/"
        },
        "outputId": "eb3cd33f-3173-4656-d4fc-ce2afb56793b"
      },
      "source": [
        "train.info()"
      ],
      "execution_count": 668,
      "outputs": [
        {
          "output_type": "stream",
          "name": "stdout",
          "text": [
            "<class 'pandas.core.frame.DataFrame'>\n",
            "Int64Index: 106 entries, 63 to 138\n",
            "Data columns (total 7 columns):\n",
            " #   Column   Non-Null Count  Dtype  \n",
            "---  ------   --------------  -----  \n",
            " 0   Species  106 non-null    object \n",
            " 1   Weight   106 non-null    float64\n",
            " 2   Length1  106 non-null    float64\n",
            " 3   Length2  106 non-null    float64\n",
            " 4   Length3  106 non-null    float64\n",
            " 5   Height   106 non-null    float64\n",
            " 6   Width    106 non-null    float64\n",
            "dtypes: float64(6), object(1)\n",
            "memory usage: 6.6+ KB\n"
          ]
        }
      ]
    },
    {
      "cell_type": "code",
      "metadata": {
        "id": "KpK0hbtWSo-p"
      },
      "source": [
        "# training set\n",
        "Xtrain = train[features[:5]]\n",
        "ytrain = train[features[-1]]\n",
        "\n",
        "# test set\n",
        "Xtest = test[features[:5]]\n",
        "ytest = test[features[-1]]"
      ],
      "execution_count": 669,
      "outputs": []
    },
    {
      "cell_type": "code",
      "metadata": {
        "id": "QStTjv4qqcO5",
        "colab": {
          "base_uri": "https://localhost:8080/"
        },
        "outputId": "530a280c-34bb-4f0f-8aea-45b0a2733189"
      },
      "source": [
        "print('mean Length1: ', train.Length1.mean())\n",
        "print('mean Width: ', train.Width.mean())"
      ],
      "execution_count": 670,
      "outputs": [
        {
          "output_type": "stream",
          "name": "stdout",
          "text": [
            "mean Length1:  24.645283018867925\n",
            "mean Width:  4.2151084905660365\n"
          ]
        }
      ]
    },
    {
      "cell_type": "markdown",
      "metadata": {
        "id": "R9LpAkIHpY1m"
      },
      "source": [
        "Data của các columns chênh nhau một lượng tương đối nhiều. Ví dụ Length1 vs width. Việc có sự chênh lệch này có thể gây ảnh hưởng xấu trong mô hình.\n",
        "\n",
        "Ví dụ: Trọng số của Length1 là a, của width là b. Khi a tăng 1 đơn vị thì kết quả tăng khoảng 25.8, còn làm điều tương tự với b thì kết quả chỉ tăng 4.3.\n",
        "\n",
        "Mình sẽ thử Standard data để giảm sự chênh lệch này."
      ]
    },
    {
      "cell_type": "code",
      "metadata": {
        "id": "dJ068cE_oALh",
        "colab": {
          "base_uri": "https://localhost:8080/"
        },
        "outputId": "9b037f75-9e25-4957-c48b-4b84b3afed89"
      },
      "source": [
        "for i in range(0, len(features) -1):\n",
        "  Xtrain[[features[i]]] = standard_scaler.fit_transform(Xtrain[[features[i]]])\n",
        "  Xtest[[features[i]]] = standard_scaler.fit_transform(Xtest[[features[i]]])"
      ],
      "execution_count": 671,
      "outputs": [
        {
          "output_type": "stream",
          "name": "stderr",
          "text": [
            "/usr/local/lib/python3.7/dist-packages/ipykernel_launcher.py:2: SettingWithCopyWarning: \n",
            "A value is trying to be set on a copy of a slice from a DataFrame.\n",
            "Try using .loc[row_indexer,col_indexer] = value instead\n",
            "\n",
            "See the caveats in the documentation: https://pandas.pydata.org/pandas-docs/stable/user_guide/indexing.html#returning-a-view-versus-a-copy\n",
            "  \n",
            "/usr/local/lib/python3.7/dist-packages/pandas/core/frame.py:3076: SettingWithCopyWarning: \n",
            "A value is trying to be set on a copy of a slice from a DataFrame\n",
            "\n",
            "See the caveats in the documentation: https://pandas.pydata.org/pandas-docs/stable/user_guide/indexing.html#returning-a-view-versus-a-copy\n",
            "  self.iloc._setitem_with_indexer((slice(None), indexer), value)\n",
            "/usr/local/lib/python3.7/dist-packages/pandas/core/frame.py:3041: SettingWithCopyWarning: \n",
            "A value is trying to be set on a copy of a slice from a DataFrame\n",
            "\n",
            "See the caveats in the documentation: https://pandas.pydata.org/pandas-docs/stable/user_guide/indexing.html#returning-a-view-versus-a-copy\n",
            "  self._setitem_array(key, value)\n",
            "/usr/local/lib/python3.7/dist-packages/ipykernel_launcher.py:3: SettingWithCopyWarning: \n",
            "A value is trying to be set on a copy of a slice from a DataFrame.\n",
            "Try using .loc[row_indexer,col_indexer] = value instead\n",
            "\n",
            "See the caveats in the documentation: https://pandas.pydata.org/pandas-docs/stable/user_guide/indexing.html#returning-a-view-versus-a-copy\n",
            "  This is separate from the ipykernel package so we can avoid doing imports until\n",
            "/usr/local/lib/python3.7/dist-packages/pandas/core/frame.py:3076: SettingWithCopyWarning: \n",
            "A value is trying to be set on a copy of a slice from a DataFrame\n",
            "\n",
            "See the caveats in the documentation: https://pandas.pydata.org/pandas-docs/stable/user_guide/indexing.html#returning-a-view-versus-a-copy\n",
            "  self.iloc._setitem_with_indexer((slice(None), indexer), value)\n",
            "/usr/local/lib/python3.7/dist-packages/pandas/core/frame.py:3041: SettingWithCopyWarning: \n",
            "A value is trying to be set on a copy of a slice from a DataFrame\n",
            "\n",
            "See the caveats in the documentation: https://pandas.pydata.org/pandas-docs/stable/user_guide/indexing.html#returning-a-view-versus-a-copy\n",
            "  self._setitem_array(key, value)\n",
            "/usr/local/lib/python3.7/dist-packages/ipykernel_launcher.py:2: SettingWithCopyWarning: \n",
            "A value is trying to be set on a copy of a slice from a DataFrame.\n",
            "Try using .loc[row_indexer,col_indexer] = value instead\n",
            "\n",
            "See the caveats in the documentation: https://pandas.pydata.org/pandas-docs/stable/user_guide/indexing.html#returning-a-view-versus-a-copy\n",
            "  \n",
            "/usr/local/lib/python3.7/dist-packages/pandas/core/frame.py:3076: SettingWithCopyWarning: \n",
            "A value is trying to be set on a copy of a slice from a DataFrame\n",
            "\n",
            "See the caveats in the documentation: https://pandas.pydata.org/pandas-docs/stable/user_guide/indexing.html#returning-a-view-versus-a-copy\n",
            "  self.iloc._setitem_with_indexer((slice(None), indexer), value)\n",
            "/usr/local/lib/python3.7/dist-packages/pandas/core/frame.py:3041: SettingWithCopyWarning: \n",
            "A value is trying to be set on a copy of a slice from a DataFrame\n",
            "\n",
            "See the caveats in the documentation: https://pandas.pydata.org/pandas-docs/stable/user_guide/indexing.html#returning-a-view-versus-a-copy\n",
            "  self._setitem_array(key, value)\n",
            "/usr/local/lib/python3.7/dist-packages/ipykernel_launcher.py:3: SettingWithCopyWarning: \n",
            "A value is trying to be set on a copy of a slice from a DataFrame.\n",
            "Try using .loc[row_indexer,col_indexer] = value instead\n",
            "\n",
            "See the caveats in the documentation: https://pandas.pydata.org/pandas-docs/stable/user_guide/indexing.html#returning-a-view-versus-a-copy\n",
            "  This is separate from the ipykernel package so we can avoid doing imports until\n",
            "/usr/local/lib/python3.7/dist-packages/pandas/core/frame.py:3076: SettingWithCopyWarning: \n",
            "A value is trying to be set on a copy of a slice from a DataFrame\n",
            "\n",
            "See the caveats in the documentation: https://pandas.pydata.org/pandas-docs/stable/user_guide/indexing.html#returning-a-view-versus-a-copy\n",
            "  self.iloc._setitem_with_indexer((slice(None), indexer), value)\n",
            "/usr/local/lib/python3.7/dist-packages/pandas/core/frame.py:3041: SettingWithCopyWarning: \n",
            "A value is trying to be set on a copy of a slice from a DataFrame\n",
            "\n",
            "See the caveats in the documentation: https://pandas.pydata.org/pandas-docs/stable/user_guide/indexing.html#returning-a-view-versus-a-copy\n",
            "  self._setitem_array(key, value)\n",
            "/usr/local/lib/python3.7/dist-packages/ipykernel_launcher.py:2: SettingWithCopyWarning: \n",
            "A value is trying to be set on a copy of a slice from a DataFrame.\n",
            "Try using .loc[row_indexer,col_indexer] = value instead\n",
            "\n",
            "See the caveats in the documentation: https://pandas.pydata.org/pandas-docs/stable/user_guide/indexing.html#returning-a-view-versus-a-copy\n",
            "  \n",
            "/usr/local/lib/python3.7/dist-packages/pandas/core/frame.py:3076: SettingWithCopyWarning: \n",
            "A value is trying to be set on a copy of a slice from a DataFrame\n",
            "\n",
            "See the caveats in the documentation: https://pandas.pydata.org/pandas-docs/stable/user_guide/indexing.html#returning-a-view-versus-a-copy\n",
            "  self.iloc._setitem_with_indexer((slice(None), indexer), value)\n",
            "/usr/local/lib/python3.7/dist-packages/pandas/core/frame.py:3041: SettingWithCopyWarning: \n",
            "A value is trying to be set on a copy of a slice from a DataFrame\n",
            "\n",
            "See the caveats in the documentation: https://pandas.pydata.org/pandas-docs/stable/user_guide/indexing.html#returning-a-view-versus-a-copy\n",
            "  self._setitem_array(key, value)\n",
            "/usr/local/lib/python3.7/dist-packages/ipykernel_launcher.py:3: SettingWithCopyWarning: \n",
            "A value is trying to be set on a copy of a slice from a DataFrame.\n",
            "Try using .loc[row_indexer,col_indexer] = value instead\n",
            "\n",
            "See the caveats in the documentation: https://pandas.pydata.org/pandas-docs/stable/user_guide/indexing.html#returning-a-view-versus-a-copy\n",
            "  This is separate from the ipykernel package so we can avoid doing imports until\n",
            "/usr/local/lib/python3.7/dist-packages/pandas/core/frame.py:3076: SettingWithCopyWarning: \n",
            "A value is trying to be set on a copy of a slice from a DataFrame\n",
            "\n",
            "See the caveats in the documentation: https://pandas.pydata.org/pandas-docs/stable/user_guide/indexing.html#returning-a-view-versus-a-copy\n",
            "  self.iloc._setitem_with_indexer((slice(None), indexer), value)\n",
            "/usr/local/lib/python3.7/dist-packages/pandas/core/frame.py:3041: SettingWithCopyWarning: \n",
            "A value is trying to be set on a copy of a slice from a DataFrame\n",
            "\n",
            "See the caveats in the documentation: https://pandas.pydata.org/pandas-docs/stable/user_guide/indexing.html#returning-a-view-versus-a-copy\n",
            "  self._setitem_array(key, value)\n",
            "/usr/local/lib/python3.7/dist-packages/ipykernel_launcher.py:2: SettingWithCopyWarning: \n",
            "A value is trying to be set on a copy of a slice from a DataFrame.\n",
            "Try using .loc[row_indexer,col_indexer] = value instead\n",
            "\n",
            "See the caveats in the documentation: https://pandas.pydata.org/pandas-docs/stable/user_guide/indexing.html#returning-a-view-versus-a-copy\n",
            "  \n",
            "/usr/local/lib/python3.7/dist-packages/pandas/core/frame.py:3076: SettingWithCopyWarning: \n",
            "A value is trying to be set on a copy of a slice from a DataFrame\n",
            "\n",
            "See the caveats in the documentation: https://pandas.pydata.org/pandas-docs/stable/user_guide/indexing.html#returning-a-view-versus-a-copy\n",
            "  self.iloc._setitem_with_indexer((slice(None), indexer), value)\n",
            "/usr/local/lib/python3.7/dist-packages/pandas/core/frame.py:3041: SettingWithCopyWarning: \n",
            "A value is trying to be set on a copy of a slice from a DataFrame\n",
            "\n",
            "See the caveats in the documentation: https://pandas.pydata.org/pandas-docs/stable/user_guide/indexing.html#returning-a-view-versus-a-copy\n",
            "  self._setitem_array(key, value)\n",
            "/usr/local/lib/python3.7/dist-packages/ipykernel_launcher.py:3: SettingWithCopyWarning: \n",
            "A value is trying to be set on a copy of a slice from a DataFrame.\n",
            "Try using .loc[row_indexer,col_indexer] = value instead\n",
            "\n",
            "See the caveats in the documentation: https://pandas.pydata.org/pandas-docs/stable/user_guide/indexing.html#returning-a-view-versus-a-copy\n",
            "  This is separate from the ipykernel package so we can avoid doing imports until\n",
            "/usr/local/lib/python3.7/dist-packages/pandas/core/frame.py:3076: SettingWithCopyWarning: \n",
            "A value is trying to be set on a copy of a slice from a DataFrame\n",
            "\n",
            "See the caveats in the documentation: https://pandas.pydata.org/pandas-docs/stable/user_guide/indexing.html#returning-a-view-versus-a-copy\n",
            "  self.iloc._setitem_with_indexer((slice(None), indexer), value)\n",
            "/usr/local/lib/python3.7/dist-packages/pandas/core/frame.py:3041: SettingWithCopyWarning: \n",
            "A value is trying to be set on a copy of a slice from a DataFrame\n",
            "\n",
            "See the caveats in the documentation: https://pandas.pydata.org/pandas-docs/stable/user_guide/indexing.html#returning-a-view-versus-a-copy\n",
            "  self._setitem_array(key, value)\n",
            "/usr/local/lib/python3.7/dist-packages/ipykernel_launcher.py:2: SettingWithCopyWarning: \n",
            "A value is trying to be set on a copy of a slice from a DataFrame.\n",
            "Try using .loc[row_indexer,col_indexer] = value instead\n",
            "\n",
            "See the caveats in the documentation: https://pandas.pydata.org/pandas-docs/stable/user_guide/indexing.html#returning-a-view-versus-a-copy\n",
            "  \n",
            "/usr/local/lib/python3.7/dist-packages/pandas/core/frame.py:3076: SettingWithCopyWarning: \n",
            "A value is trying to be set on a copy of a slice from a DataFrame\n",
            "\n",
            "See the caveats in the documentation: https://pandas.pydata.org/pandas-docs/stable/user_guide/indexing.html#returning-a-view-versus-a-copy\n",
            "  self.iloc._setitem_with_indexer((slice(None), indexer), value)\n",
            "/usr/local/lib/python3.7/dist-packages/pandas/core/frame.py:3041: SettingWithCopyWarning: \n",
            "A value is trying to be set on a copy of a slice from a DataFrame\n",
            "\n",
            "See the caveats in the documentation: https://pandas.pydata.org/pandas-docs/stable/user_guide/indexing.html#returning-a-view-versus-a-copy\n",
            "  self._setitem_array(key, value)\n",
            "/usr/local/lib/python3.7/dist-packages/ipykernel_launcher.py:3: SettingWithCopyWarning: \n",
            "A value is trying to be set on a copy of a slice from a DataFrame.\n",
            "Try using .loc[row_indexer,col_indexer] = value instead\n",
            "\n",
            "See the caveats in the documentation: https://pandas.pydata.org/pandas-docs/stable/user_guide/indexing.html#returning-a-view-versus-a-copy\n",
            "  This is separate from the ipykernel package so we can avoid doing imports until\n",
            "/usr/local/lib/python3.7/dist-packages/pandas/core/frame.py:3076: SettingWithCopyWarning: \n",
            "A value is trying to be set on a copy of a slice from a DataFrame\n",
            "\n",
            "See the caveats in the documentation: https://pandas.pydata.org/pandas-docs/stable/user_guide/indexing.html#returning-a-view-versus-a-copy\n",
            "  self.iloc._setitem_with_indexer((slice(None), indexer), value)\n",
            "/usr/local/lib/python3.7/dist-packages/pandas/core/frame.py:3041: SettingWithCopyWarning: \n",
            "A value is trying to be set on a copy of a slice from a DataFrame\n",
            "\n",
            "See the caveats in the documentation: https://pandas.pydata.org/pandas-docs/stable/user_guide/indexing.html#returning-a-view-versus-a-copy\n",
            "  self._setitem_array(key, value)\n"
          ]
        }
      ]
    },
    {
      "cell_type": "markdown",
      "metadata": {
        "id": "j5-GCth7jYFv"
      },
      "source": [
        "###2. Train model"
      ]
    },
    {
      "cell_type": "markdown",
      "metadata": {
        "id": "a6qdVo0ufZ7T"
      },
      "source": [
        "**Stochastic GD**"
      ]
    },
    {
      "cell_type": "code",
      "metadata": {
        "id": "4KB9N2cvbcnT"
      },
      "source": [
        "Xtrain = np.array(Xtrain).reshape(-1, 5)\n",
        "Xtest = np.array(Xtest).reshape(-1, 5)\n",
        "ytrain = np.array(ytrain).reshape(-1, 1)\n",
        "ytest = np.array(ytest).reshape(-1, 1)"
      ],
      "execution_count": 672,
      "outputs": []
    },
    {
      "cell_type": "code",
      "metadata": {
        "id": "oe87iCVzgJtM",
        "colab": {
          "base_uri": "https://localhost:8080/"
        },
        "outputId": "77dfbe5a-6aba-4da6-c98c-d0fe24e28a71"
      },
      "source": [
        "reg = make_pipeline(StandardScaler(), SGDRegressor(max_iter=10000000, tol=1e-3))\n",
        "reg.fit(Xtrain, ytrain)"
      ],
      "execution_count": 673,
      "outputs": [
        {
          "output_type": "stream",
          "name": "stderr",
          "text": [
            "/usr/local/lib/python3.7/dist-packages/sklearn/utils/validation.py:760: DataConversionWarning: A column-vector y was passed when a 1d array was expected. Please change the shape of y to (n_samples, ), for example using ravel().\n",
            "  y = column_or_1d(y, warn=True)\n"
          ]
        },
        {
          "output_type": "execute_result",
          "data": {
            "text/plain": [
              "Pipeline(memory=None,\n",
              "         steps=[('standardscaler',\n",
              "                 StandardScaler(copy=True, with_mean=True, with_std=True)),\n",
              "                ('sgdregressor',\n",
              "                 SGDRegressor(alpha=0.0001, average=False, early_stopping=False,\n",
              "                              epsilon=0.1, eta0=0.01, fit_intercept=True,\n",
              "                              l1_ratio=0.15, learning_rate='invscaling',\n",
              "                              loss='squared_loss', max_iter=10000000,\n",
              "                              n_iter_no_change=5, penalty='l2', power_t=0.25,\n",
              "                              random_state=None, shuffle=True, tol=0.001,\n",
              "                              validation_fraction=0.1, verbose=0,\n",
              "                              warm_start=False))],\n",
              "         verbose=False)"
            ]
          },
          "metadata": {},
          "execution_count": 673
        }
      ]
    },
    {
      "cell_type": "code",
      "metadata": {
        "id": "pJfpbXy_hIIs"
      },
      "source": [
        "y_pre_SGD = reg.predict(Xtest)"
      ],
      "execution_count": 674,
      "outputs": []
    },
    {
      "cell_type": "markdown",
      "metadata": {
        "id": "Be-f-4y1RoK3"
      },
      "source": [
        "**Coding from scratch**"
      ]
    },
    {
      "cell_type": "code",
      "metadata": {
        "id": "nSI5RTdqcvzu"
      },
      "source": [
        "Xtrain = add_ONE(Xtrain)\n",
        "Xtest = add_ONE(Xtest)"
      ],
      "execution_count": 675,
      "outputs": []
    },
    {
      "cell_type": "code",
      "metadata": {
        "id": "7lF_d4GOWn7k"
      },
      "source": [
        "Xtrain = np.array(Xtrain).reshape(-1, 6)\n",
        "Xtest = np.array(Xtest).reshape(-1, 6)\n",
        "ytrain = np.array(ytrain).reshape(-1, 1)\n",
        "ytest = np.array(ytest).reshape(-1, 1)"
      ],
      "execution_count": 676,
      "outputs": []
    },
    {
      "cell_type": "code",
      "metadata": {
        "id": "NHnC7eYxSg2a"
      },
      "source": [
        "# Number of training_example\n",
        "N = Xtrain.shape[0]"
      ],
      "execution_count": 677,
      "outputs": []
    },
    {
      "cell_type": "code",
      "metadata": {
        "id": "xSronVeHVkV1"
      },
      "source": [
        " w = np.arange(Xtrain.shape[1]).reshape(-1, 1) "
      ],
      "execution_count": 678,
      "outputs": []
    },
    {
      "cell_type": "code",
      "metadata": {
        "id": "itCDGiLwbZLr",
        "colab": {
          "base_uri": "https://localhost:8080/"
        },
        "outputId": "fa2b4f71-637f-4737-dfef-8ca1c8e8ebc1"
      },
      "source": [
        "print(Xtrain.shape)\n",
        "print(ytrain.shape)\n",
        "print(w.shape)"
      ],
      "execution_count": 679,
      "outputs": [
        {
          "output_type": "stream",
          "name": "stdout",
          "text": [
            "(106, 6)\n",
            "(106, 1)\n",
            "(6, 1)\n"
          ]
        }
      ]
    },
    {
      "cell_type": "code",
      "metadata": {
        "id": "hE1Bc9wfR9sY"
      },
      "source": [
        "w, loss = GD(Xtrain, ytrain, w, 6)"
      ],
      "execution_count": 680,
      "outputs": []
    },
    {
      "cell_type": "code",
      "metadata": {
        "id": "RPcrOX7paAKl",
        "colab": {
          "base_uri": "https://localhost:8080/"
        },
        "outputId": "a7e8c78d-227b-4f46-a00e-662ec39acd2b"
      },
      "source": [
        "w"
      ],
      "execution_count": 681,
      "outputs": [
        {
          "output_type": "execute_result",
          "data": {
            "text/plain": [
              "array([[335.95      ],\n",
              "       [ 99.94865607],\n",
              "       [ 50.73735342],\n",
              "       [-69.72235217],\n",
              "       [ 96.41442164],\n",
              "       [121.13188615]])"
            ]
          },
          "metadata": {},
          "execution_count": 681
        }
      ]
    },
    {
      "cell_type": "code",
      "metadata": {
        "id": "pppCuC77eSYd"
      },
      "source": [
        "y_pre_GD = predict_normalGD(Xtest, w)"
      ],
      "execution_count": 682,
      "outputs": []
    },
    {
      "cell_type": "markdown",
      "metadata": {
        "id": "WiCmftKXjlAf"
      },
      "source": [
        "### 3. Evaluate"
      ]
    },
    {
      "cell_type": "code",
      "metadata": {
        "id": "eKTmKDSibaQT",
        "colab": {
          "base_uri": "https://localhost:8080/"
        },
        "outputId": "d3436757-b842-419b-9624-66ff47ac77f2"
      },
      "source": [
        "MSE(ytest, y_pre_GD, y_pre_SGD)"
      ],
      "execution_count": 683,
      "outputs": [
        {
          "output_type": "stream",
          "name": "stdout",
          "text": [
            "MSE:\n",
            "Normal Gradient descent:  21396.043249860417\n",
            "Stochastic Gradient descent:  21602.429687134423\n"
          ]
        }
      ]
    },
    {
      "cell_type": "code",
      "metadata": {
        "id": "UoU0UXuPbzs4",
        "colab": {
          "base_uri": "https://localhost:8080/"
        },
        "outputId": "b3273f7b-f460-43ad-8c0c-cbbbd067705a"
      },
      "source": [
        "r2_metric(ytest, y_pre_GD, y_pre_SGD)"
      ],
      "execution_count": 684,
      "outputs": [
        {
          "output_type": "stream",
          "name": "stdout",
          "text": [
            "r2_square metric:\n",
            "Normal Gradient descent: 80.0%\n",
            "Stochastic Gradient descent: 79.0%\n"
          ]
        }
      ]
    },
    {
      "cell_type": "code",
      "metadata": {
        "id": "P_QcF91kaLu0",
        "colab": {
          "base_uri": "https://localhost:8080/",
          "height": 0
        },
        "outputId": "86eabc4c-bacb-4730-82af-6818756855f4"
      },
      "source": [
        "lossValue(loss)"
      ],
      "execution_count": 685,
      "outputs": [
        {
          "output_type": "display_data",
          "data": {
            "image/png": "[encoded data removed]",
            "text/plain": [
              "<Figure size 432x288 with 1 Axes>"
            ]
          },
          "metadata": {
            "needs_background": "light"
          }
        }
      ]
    },
    {
      "cell_type": "markdown",
      "metadata": {
        "id": "GvmKSw9Rz7xv"
      },
      "source": [
        "## 2. Dataset insurance"
      ]
    },
    {
      "cell_type": "markdown",
      "metadata": {
        "id": "O4ibEi8k0PFq"
      },
      "source": [
        "###1. Preprocessing data & Create dataset\n"
      ]
    },
    {
      "cell_type": "code",
      "metadata": {
        "id": "HTRDgren0PFq"
      },
      "source": [
        "df = pd.read_csv('insurance.csv')"
      ],
      "execution_count": 686,
      "outputs": []
    },
    {
      "cell_type": "code",
      "metadata": {
        "id": "vWEaQPz00PFq",
        "colab": {
          "base_uri": "https://localhost:8080/",
          "height": 112
        },
        "outputId": "82f93d86-be3a-4d34-8f4e-be33aa4356bf"
      },
      "source": [
        "df.head(2)"
      ],
      "execution_count": 687,
      "outputs": [
        {
          "output_type": "execute_result",
          "data": {
            "text/html": [
              "<div>\n",
              "<style scoped>\n",
              "    .dataframe tbody tr th:only-of-type {\n",
              "        vertical-align: middle;\n",
              "    }\n",
              "\n",
              "    .dataframe tbody tr th {\n",
              "        vertical-align: top;\n",
              "    }\n",
              "\n",
              "    .dataframe thead th {\n",
              "        text-align: right;\n",
              "    }\n",
              "</style>\n",
              "<table border=\"1\" class=\"dataframe\">\n",
              "  <thead>\n",
              "    <tr style=\"text-align: right;\">\n",
              "      <th></th>\n",
              "      <th>age</th>\n",
              "      <th>sex</th>\n",
              "      <th>bmi</th>\n",
              "      <th>children</th>\n",
              "      <th>smoker</th>\n",
              "      <th>region</th>\n",
              "      <th>charges</th>\n",
              "    </tr>\n",
              "  </thead>\n",
              "  <tbody>\n",
              "    <tr>\n",
              "      <th>0</th>\n",
              "      <td>19</td>\n",
              "      <td>female</td>\n",
              "      <td>27.90</td>\n",
              "      <td>0</td>\n",
              "      <td>yes</td>\n",
              "      <td>southwest</td>\n",
              "      <td>16884.9240</td>\n",
              "    </tr>\n",
              "    <tr>\n",
              "      <th>1</th>\n",
              "      <td>18</td>\n",
              "      <td>male</td>\n",
              "      <td>33.77</td>\n",
              "      <td>1</td>\n",
              "      <td>no</td>\n",
              "      <td>southeast</td>\n",
              "      <td>1725.5523</td>\n",
              "    </tr>\n",
              "  </tbody>\n",
              "</table>\n",
              "</div>"
            ],
            "text/plain": [
              "   age     sex    bmi  children smoker     region     charges\n",
              "0   19  female  27.90         0    yes  southwest  16884.9240\n",
              "1   18    male  33.77         1     no  southeast   1725.5523"
            ]
          },
          "metadata": {},
          "execution_count": 687
        }
      ]
    },
    {
      "cell_type": "code",
      "metadata": {
        "id": "NAo-nu7QROJA"
      },
      "source": [
        "train, test = train_test_split(df, test_size = 0.3)"
      ],
      "execution_count": 688,
      "outputs": []
    },
    {
      "cell_type": "code",
      "metadata": {
        "id": "AtttwLwh0PFq"
      },
      "source": [
        "features = ['age', 'sex', 'bmi', 'children', 'smoker', 'region', 'charges']"
      ],
      "execution_count": 689,
      "outputs": []
    },
    {
      "cell_type": "code",
      "metadata": {
        "id": "Gt9A5pZ50PFq",
        "colab": {
          "base_uri": "https://localhost:8080/"
        },
        "outputId": "5207f013-ae7a-415c-d8a8-7c2d01a3764a"
      },
      "source": [
        "train.info()"
      ],
      "execution_count": 690,
      "outputs": [
        {
          "output_type": "stream",
          "name": "stdout",
          "text": [
            "<class 'pandas.core.frame.DataFrame'>\n",
            "Int64Index: 936 entries, 327 to 854\n",
            "Data columns (total 7 columns):\n",
            " #   Column    Non-Null Count  Dtype  \n",
            "---  ------    --------------  -----  \n",
            " 0   age       936 non-null    int64  \n",
            " 1   sex       936 non-null    object \n",
            " 2   bmi       936 non-null    float64\n",
            " 3   children  936 non-null    int64  \n",
            " 4   smoker    936 non-null    object \n",
            " 5   region    936 non-null    object \n",
            " 6   charges   936 non-null    float64\n",
            "dtypes: float64(2), int64(2), object(3)\n",
            "memory usage: 58.5+ KB\n"
          ]
        }
      ]
    },
    {
      "cell_type": "code",
      "metadata": {
        "id": "TEPRfaHK0PFq"
      },
      "source": [
        "def remove_outlier_boxplot(df, feature):\n",
        "  # compute Q1 & Q3\n",
        "  Q1 = df[feature].quantile(0.25)\n",
        "  Q3 = df[feature].quantile(0.75)\n",
        "  # compute low_fence & up_fence\n",
        "  IQR = Q3 - Q1\n",
        "  low_fence = Q1 - 1.5 * IQR\n",
        "  up_fence = Q3 + 1.5 * IQR\n",
        "  # remove outliers\n",
        "  return df[(df[feature] < up_fence) & (df[feature] > low_fence)]"
      ],
      "execution_count": 691,
      "outputs": []
    },
    {
      "cell_type": "code",
      "metadata": {
        "id": "T5BUP1YE2sJ5",
        "colab": {
          "base_uri": "https://localhost:8080/"
        },
        "outputId": "93a78945-2255-433e-bf72-4506af8cc452"
      },
      "source": [
        "for i in [1, 4, 5]:\n",
        "  train[features[i]] = label_encoder.fit_transform(train[features[i]])\n",
        "  test[features[i]] = label_encoder.fit_transform(test[features[i]])"
      ],
      "execution_count": 692,
      "outputs": [
        {
          "output_type": "stream",
          "name": "stderr",
          "text": [
            "/usr/local/lib/python3.7/dist-packages/ipykernel_launcher.py:2: SettingWithCopyWarning: \n",
            "A value is trying to be set on a copy of a slice from a DataFrame.\n",
            "Try using .loc[row_indexer,col_indexer] = value instead\n",
            "\n",
            "See the caveats in the documentation: https://pandas.pydata.org/pandas-docs/stable/user_guide/indexing.html#returning-a-view-versus-a-copy\n",
            "  \n",
            "/usr/local/lib/python3.7/dist-packages/ipykernel_launcher.py:3: SettingWithCopyWarning: \n",
            "A value is trying to be set on a copy of a slice from a DataFrame.\n",
            "Try using .loc[row_indexer,col_indexer] = value instead\n",
            "\n",
            "See the caveats in the documentation: https://pandas.pydata.org/pandas-docs/stable/user_guide/indexing.html#returning-a-view-versus-a-copy\n",
            "  This is separate from the ipykernel package so we can avoid doing imports until\n"
          ]
        }
      ]
    },
    {
      "cell_type": "code",
      "metadata": {
        "id": "dnYw9Doi3LPe",
        "colab": {
          "base_uri": "https://localhost:8080/",
          "height": 423
        },
        "outputId": "2157d2ee-bd77-45bc-ff2a-b78b742ef961"
      },
      "source": [
        "test"
      ],
      "execution_count": 693,
      "outputs": [
        {
          "output_type": "execute_result",
          "data": {
            "text/html": [
              "<div>\n",
              "<style scoped>\n",
              "    .dataframe tbody tr th:only-of-type {\n",
              "        vertical-align: middle;\n",
              "    }\n",
              "\n",
              "    .dataframe tbody tr th {\n",
              "        vertical-align: top;\n",
              "    }\n",
              "\n",
              "    .dataframe thead th {\n",
              "        text-align: right;\n",
              "    }\n",
              "</style>\n",
              "<table border=\"1\" class=\"dataframe\">\n",
              "  <thead>\n",
              "    <tr style=\"text-align: right;\">\n",
              "      <th></th>\n",
              "      <th>age</th>\n",
              "      <th>sex</th>\n",
              "      <th>bmi</th>\n",
              "      <th>children</th>\n",
              "      <th>smoker</th>\n",
              "      <th>region</th>\n",
              "      <th>charges</th>\n",
              "    </tr>\n",
              "  </thead>\n",
              "  <tbody>\n",
              "    <tr>\n",
              "      <th>949</th>\n",
              "      <td>25</td>\n",
              "      <td>1</td>\n",
              "      <td>29.700</td>\n",
              "      <td>3</td>\n",
              "      <td>1</td>\n",
              "      <td>3</td>\n",
              "      <td>19933.45800</td>\n",
              "    </tr>\n",
              "    <tr>\n",
              "      <th>1223</th>\n",
              "      <td>20</td>\n",
              "      <td>0</td>\n",
              "      <td>24.420</td>\n",
              "      <td>0</td>\n",
              "      <td>1</td>\n",
              "      <td>2</td>\n",
              "      <td>26125.67477</td>\n",
              "    </tr>\n",
              "    <tr>\n",
              "      <th>684</th>\n",
              "      <td>33</td>\n",
              "      <td>0</td>\n",
              "      <td>18.500</td>\n",
              "      <td>1</td>\n",
              "      <td>0</td>\n",
              "      <td>3</td>\n",
              "      <td>4766.02200</td>\n",
              "    </tr>\n",
              "    <tr>\n",
              "      <th>718</th>\n",
              "      <td>51</td>\n",
              "      <td>0</td>\n",
              "      <td>36.670</td>\n",
              "      <td>2</td>\n",
              "      <td>0</td>\n",
              "      <td>1</td>\n",
              "      <td>10848.13430</td>\n",
              "    </tr>\n",
              "    <tr>\n",
              "      <th>677</th>\n",
              "      <td>60</td>\n",
              "      <td>1</td>\n",
              "      <td>31.350</td>\n",
              "      <td>3</td>\n",
              "      <td>1</td>\n",
              "      <td>1</td>\n",
              "      <td>46130.52650</td>\n",
              "    </tr>\n",
              "    <tr>\n",
              "      <th>...</th>\n",
              "      <td>...</td>\n",
              "      <td>...</td>\n",
              "      <td>...</td>\n",
              "      <td>...</td>\n",
              "      <td>...</td>\n",
              "      <td>...</td>\n",
              "      <td>...</td>\n",
              "    </tr>\n",
              "    <tr>\n",
              "      <th>660</th>\n",
              "      <td>37</td>\n",
              "      <td>1</td>\n",
              "      <td>46.530</td>\n",
              "      <td>3</td>\n",
              "      <td>0</td>\n",
              "      <td>2</td>\n",
              "      <td>6435.62370</td>\n",
              "    </tr>\n",
              "    <tr>\n",
              "      <th>316</th>\n",
              "      <td>50</td>\n",
              "      <td>1</td>\n",
              "      <td>32.205</td>\n",
              "      <td>0</td>\n",
              "      <td>0</td>\n",
              "      <td>1</td>\n",
              "      <td>8835.26495</td>\n",
              "    </tr>\n",
              "    <tr>\n",
              "      <th>214</th>\n",
              "      <td>45</td>\n",
              "      <td>0</td>\n",
              "      <td>30.900</td>\n",
              "      <td>2</td>\n",
              "      <td>0</td>\n",
              "      <td>3</td>\n",
              "      <td>8520.02600</td>\n",
              "    </tr>\n",
              "    <tr>\n",
              "      <th>82</th>\n",
              "      <td>22</td>\n",
              "      <td>1</td>\n",
              "      <td>37.620</td>\n",
              "      <td>1</td>\n",
              "      <td>1</td>\n",
              "      <td>2</td>\n",
              "      <td>37165.16380</td>\n",
              "    </tr>\n",
              "    <tr>\n",
              "      <th>1247</th>\n",
              "      <td>33</td>\n",
              "      <td>1</td>\n",
              "      <td>29.400</td>\n",
              "      <td>4</td>\n",
              "      <td>0</td>\n",
              "      <td>3</td>\n",
              "      <td>6059.17300</td>\n",
              "    </tr>\n",
              "  </tbody>\n",
              "</table>\n",
              "<p>402 rows × 7 columns</p>\n",
              "</div>"
            ],
            "text/plain": [
              "      age  sex     bmi  children  smoker  region      charges\n",
              "949    25    1  29.700         3       1       3  19933.45800\n",
              "1223   20    0  24.420         0       1       2  26125.67477\n",
              "684    33    0  18.500         1       0       3   4766.02200\n",
              "718    51    0  36.670         2       0       1  10848.13430\n",
              "677    60    1  31.350         3       1       1  46130.52650\n",
              "...   ...  ...     ...       ...     ...     ...          ...\n",
              "660    37    1  46.530         3       0       2   6435.62370\n",
              "316    50    1  32.205         0       0       1   8835.26495\n",
              "214    45    0  30.900         2       0       3   8520.02600\n",
              "82     22    1  37.620         1       1       2  37165.16380\n",
              "1247   33    1  29.400         4       0       3   6059.17300\n",
              "\n",
              "[402 rows x 7 columns]"
            ]
          },
          "metadata": {},
          "execution_count": 693
        }
      ]
    },
    {
      "cell_type": "code",
      "metadata": {
        "id": "jnytG2Jz8cPd",
        "colab": {
          "base_uri": "https://localhost:8080/"
        },
        "outputId": "cd53af48-6431-4641-c95b-30777ce6b77b"
      },
      "source": [
        "df.info()"
      ],
      "execution_count": 694,
      "outputs": [
        {
          "output_type": "stream",
          "name": "stdout",
          "text": [
            "<class 'pandas.core.frame.DataFrame'>\n",
            "RangeIndex: 1338 entries, 0 to 1337\n",
            "Data columns (total 7 columns):\n",
            " #   Column    Non-Null Count  Dtype  \n",
            "---  ------    --------------  -----  \n",
            " 0   age       1338 non-null   int64  \n",
            " 1   sex       1338 non-null   object \n",
            " 2   bmi       1338 non-null   float64\n",
            " 3   children  1338 non-null   int64  \n",
            " 4   smoker    1338 non-null   object \n",
            " 5   region    1338 non-null   object \n",
            " 6   charges   1338 non-null   float64\n",
            "dtypes: float64(2), int64(2), object(3)\n",
            "memory usage: 73.3+ KB\n"
          ]
        }
      ]
    },
    {
      "cell_type": "code",
      "metadata": {
        "id": "J68jJ-W50PFr"
      },
      "source": [
        "Xtrain = train[features[:6]]\n",
        "Xtest = test[features[:6]]\n",
        "\n",
        "# Thấy giá trị của Label quá lớn so với dữ liệu trong tập X. Nên chuẩn hóa nó theo đơn vị nghìn.\n",
        "ytrain = train[features[-1]] /1000\n",
        "ytest = test[features[-1]]/1000"
      ],
      "execution_count": 695,
      "outputs": []
    },
    {
      "cell_type": "code",
      "metadata": {
        "id": "Ps4X2jw8TgIr",
        "colab": {
          "base_uri": "https://localhost:8080/"
        },
        "outputId": "1fc3856b-5c57-4c67-ad03-421ade8312bb"
      },
      "source": [
        "Xtrain[['age']] /= max(df.age)\n",
        "Xtest[['age']] /= max(df.age)\n",
        "\n",
        "Xtrain[['bmi']] /= max(df.bmi)\n",
        "Xtest[['bmi']] /= max(df.bmi)"
      ],
      "execution_count": 696,
      "outputs": [
        {
          "output_type": "stream",
          "name": "stderr",
          "text": [
            "/usr/local/lib/python3.7/dist-packages/pandas/core/frame.py:3069: SettingWithCopyWarning: \n",
            "A value is trying to be set on a copy of a slice from a DataFrame.\n",
            "Try using .loc[row_indexer,col_indexer] = value instead\n",
            "\n",
            "See the caveats in the documentation: https://pandas.pydata.org/pandas-docs/stable/user_guide/indexing.html#returning-a-view-versus-a-copy\n",
            "  self[k1] = value[k2]\n"
          ]
        }
      ]
    },
    {
      "cell_type": "code",
      "metadata": {
        "id": "kQwIFcL93ktu",
        "colab": {
          "base_uri": "https://localhost:8080/",
          "height": 423
        },
        "outputId": "e5297df0-aa00-4db1-fe85-d0ea1bb18cf9"
      },
      "source": [
        "Xtrain"
      ],
      "execution_count": 697,
      "outputs": [
        {
          "output_type": "execute_result",
          "data": {
            "text/html": [
              "<div>\n",
              "<style scoped>\n",
              "    .dataframe tbody tr th:only-of-type {\n",
              "        vertical-align: middle;\n",
              "    }\n",
              "\n",
              "    .dataframe tbody tr th {\n",
              "        vertical-align: top;\n",
              "    }\n",
              "\n",
              "    .dataframe thead th {\n",
              "        text-align: right;\n",
              "    }\n",
              "</style>\n",
              "<table border=\"1\" class=\"dataframe\">\n",
              "  <thead>\n",
              "    <tr style=\"text-align: right;\">\n",
              "      <th></th>\n",
              "      <th>age</th>\n",
              "      <th>sex</th>\n",
              "      <th>bmi</th>\n",
              "      <th>children</th>\n",
              "      <th>smoker</th>\n",
              "      <th>region</th>\n",
              "    </tr>\n",
              "  </thead>\n",
              "  <tbody>\n",
              "    <tr>\n",
              "      <th>327</th>\n",
              "      <td>0.703125</td>\n",
              "      <td>1</td>\n",
              "      <td>0.686618</td>\n",
              "      <td>2</td>\n",
              "      <td>1</td>\n",
              "      <td>1</td>\n",
              "    </tr>\n",
              "    <tr>\n",
              "      <th>42</th>\n",
              "      <td>0.640625</td>\n",
              "      <td>1</td>\n",
              "      <td>0.409938</td>\n",
              "      <td>1</td>\n",
              "      <td>0</td>\n",
              "      <td>2</td>\n",
              "    </tr>\n",
              "    <tr>\n",
              "      <th>391</th>\n",
              "      <td>0.296875</td>\n",
              "      <td>0</td>\n",
              "      <td>0.704498</td>\n",
              "      <td>0</td>\n",
              "      <td>0</td>\n",
              "      <td>1</td>\n",
              "    </tr>\n",
              "    <tr>\n",
              "      <th>615</th>\n",
              "      <td>0.734375</td>\n",
              "      <td>0</td>\n",
              "      <td>0.689441</td>\n",
              "      <td>1</td>\n",
              "      <td>1</td>\n",
              "      <td>2</td>\n",
              "    </tr>\n",
              "    <tr>\n",
              "      <th>865</th>\n",
              "      <td>0.625000</td>\n",
              "      <td>1</td>\n",
              "      <td>0.562771</td>\n",
              "      <td>2</td>\n",
              "      <td>0</td>\n",
              "      <td>3</td>\n",
              "    </tr>\n",
              "    <tr>\n",
              "      <th>...</th>\n",
              "      <td>...</td>\n",
              "      <td>...</td>\n",
              "      <td>...</td>\n",
              "      <td>...</td>\n",
              "      <td>...</td>\n",
              "      <td>...</td>\n",
              "    </tr>\n",
              "    <tr>\n",
              "      <th>928</th>\n",
              "      <td>0.968750</td>\n",
              "      <td>0</td>\n",
              "      <td>0.737060</td>\n",
              "      <td>0</td>\n",
              "      <td>0</td>\n",
              "      <td>2</td>\n",
              "    </tr>\n",
              "    <tr>\n",
              "      <th>590</th>\n",
              "      <td>0.906250</td>\n",
              "      <td>0</td>\n",
              "      <td>0.545831</td>\n",
              "      <td>0</td>\n",
              "      <td>0</td>\n",
              "      <td>3</td>\n",
              "    </tr>\n",
              "    <tr>\n",
              "      <th>927</th>\n",
              "      <td>0.890625</td>\n",
              "      <td>0</td>\n",
              "      <td>0.378317</td>\n",
              "      <td>1</td>\n",
              "      <td>0</td>\n",
              "      <td>3</td>\n",
              "    </tr>\n",
              "    <tr>\n",
              "      <th>1057</th>\n",
              "      <td>0.703125</td>\n",
              "      <td>0</td>\n",
              "      <td>0.598344</td>\n",
              "      <td>0</td>\n",
              "      <td>0</td>\n",
              "      <td>2</td>\n",
              "    </tr>\n",
              "    <tr>\n",
              "      <th>854</th>\n",
              "      <td>0.765625</td>\n",
              "      <td>0</td>\n",
              "      <td>0.448805</td>\n",
              "      <td>3</td>\n",
              "      <td>1</td>\n",
              "      <td>0</td>\n",
              "    </tr>\n",
              "  </tbody>\n",
              "</table>\n",
              "<p>936 rows × 6 columns</p>\n",
              "</div>"
            ],
            "text/plain": [
              "           age  sex       bmi  children  smoker  region\n",
              "327   0.703125    1  0.686618         2       1       1\n",
              "42    0.640625    1  0.409938         1       0       2\n",
              "391   0.296875    0  0.704498         0       0       1\n",
              "615   0.734375    0  0.689441         1       1       2\n",
              "865   0.625000    1  0.562771         2       0       3\n",
              "...        ...  ...       ...       ...     ...     ...\n",
              "928   0.968750    0  0.737060         0       0       2\n",
              "590   0.906250    0  0.545831         0       0       3\n",
              "927   0.890625    0  0.378317         1       0       3\n",
              "1057  0.703125    0  0.598344         0       0       2\n",
              "854   0.765625    0  0.448805         3       1       0\n",
              "\n",
              "[936 rows x 6 columns]"
            ]
          },
          "metadata": {},
          "execution_count": 697
        }
      ]
    },
    {
      "cell_type": "markdown",
      "metadata": {
        "id": "riELEMfQ0PFr"
      },
      "source": [
        "###2. Train model"
      ]
    },
    {
      "cell_type": "markdown",
      "metadata": {
        "id": "3lLGIcFlUT3o"
      },
      "source": [
        "**Stochastic GD**"
      ]
    },
    {
      "cell_type": "code",
      "metadata": {
        "id": "CmmqWL2ybEfV"
      },
      "source": [
        "Xtrain = np.array(Xtrain).reshape(-1, 6)\n",
        "Xtest = np.array(Xtest).reshape(-1, 6)\n",
        "ytrain = np.array(ytrain).reshape(-1, 1)\n",
        "ytest = np.array(ytest).reshape(-1, 1)"
      ],
      "execution_count": 698,
      "outputs": []
    },
    {
      "cell_type": "code",
      "metadata": {
        "id": "IAH_idRIUT3o",
        "colab": {
          "base_uri": "https://localhost:8080/"
        },
        "outputId": "31961535-0183-4b0c-c826-bd5dd5a3e978"
      },
      "source": [
        "reg = make_pipeline(StandardScaler(), SGDRegressor(max_iter=10000000, tol=1e-3))\n",
        "reg.fit(Xtrain, ytrain)"
      ],
      "execution_count": 699,
      "outputs": [
        {
          "output_type": "stream",
          "name": "stderr",
          "text": [
            "/usr/local/lib/python3.7/dist-packages/sklearn/utils/validation.py:760: DataConversionWarning: A column-vector y was passed when a 1d array was expected. Please change the shape of y to (n_samples, ), for example using ravel().\n",
            "  y = column_or_1d(y, warn=True)\n"
          ]
        },
        {
          "output_type": "execute_result",
          "data": {
            "text/plain": [
              "Pipeline(memory=None,\n",
              "         steps=[('standardscaler',\n",
              "                 StandardScaler(copy=True, with_mean=True, with_std=True)),\n",
              "                ('sgdregressor',\n",
              "                 SGDRegressor(alpha=0.0001, average=False, early_stopping=False,\n",
              "                              epsilon=0.1, eta0=0.01, fit_intercept=True,\n",
              "                              l1_ratio=0.15, learning_rate='invscaling',\n",
              "                              loss='squared_loss', max_iter=10000000,\n",
              "                              n_iter_no_change=5, penalty='l2', power_t=0.25,\n",
              "                              random_state=None, shuffle=True, tol=0.001,\n",
              "                              validation_fraction=0.1, verbose=0,\n",
              "                              warm_start=False))],\n",
              "         verbose=False)"
            ]
          },
          "metadata": {},
          "execution_count": 699
        }
      ]
    },
    {
      "cell_type": "code",
      "metadata": {
        "id": "zEaSH6nLUT3p"
      },
      "source": [
        "y_pre_SGD = reg.predict(Xtest)"
      ],
      "execution_count": 700,
      "outputs": []
    },
    {
      "cell_type": "markdown",
      "metadata": {
        "id": "_TvmNxx8UT3f"
      },
      "source": [
        "**Coding from scratch**"
      ]
    },
    {
      "cell_type": "code",
      "metadata": {
        "id": "faWd2Agn0PFr"
      },
      "source": [
        "Xtrain = add_ONE(Xtrain)\n",
        "Xtest = add_ONE(Xtest)"
      ],
      "execution_count": 701,
      "outputs": []
    },
    {
      "cell_type": "code",
      "metadata": {
        "id": "dRFtwjAqUhUk"
      },
      "source": [
        "Xtrain = np.array(Xtrain).reshape(-1, 7)\n",
        "Xtest = np.array(Xtest).reshape(-1, 7)\n",
        "ytrain = np.array(ytrain).reshape(-1, 1)\n",
        "ytest = np.array(ytest).reshape(-1, 1)"
      ],
      "execution_count": 702,
      "outputs": []
    },
    {
      "cell_type": "code",
      "metadata": {
        "id": "L8tUXYNkUT3g"
      },
      "source": [
        "# Number of training_example\n",
        "N = Xtrain.shape[0]"
      ],
      "execution_count": 703,
      "outputs": []
    },
    {
      "cell_type": "code",
      "metadata": {
        "id": "X3Z8bZuuUT3g"
      },
      "source": [
        " w = np.arange(Xtrain.shape[1]).reshape(-1, 1) "
      ],
      "execution_count": 704,
      "outputs": []
    },
    {
      "cell_type": "code",
      "metadata": {
        "id": "ET5-c33MUT3g",
        "colab": {
          "base_uri": "https://localhost:8080/"
        },
        "outputId": "61f93754-4e9e-4822-8ae2-e19a1237fbae"
      },
      "source": [
        "print(Xtrain.shape)\n",
        "print(ytrain.shape)\n",
        "print(w.shape)"
      ],
      "execution_count": 705,
      "outputs": [
        {
          "output_type": "stream",
          "name": "stdout",
          "text": [
            "(936, 7)\n",
            "(936, 1)\n",
            "(7, 1)\n"
          ]
        }
      ]
    },
    {
      "cell_type": "code",
      "metadata": {
        "id": "TJ1toa9QUT3o"
      },
      "source": [
        "w, loss = GD(Xtrain, ytrain, w, 7)"
      ],
      "execution_count": 706,
      "outputs": []
    },
    {
      "cell_type": "code",
      "metadata": {
        "id": "IG7K_V3aUT3o",
        "colab": {
          "base_uri": "https://localhost:8080/"
        },
        "outputId": "cf68a4af-bb40-4c0e-a87e-4de8bd1faf0c"
      },
      "source": [
        "w"
      ],
      "execution_count": 707,
      "outputs": [
        {
          "output_type": "execute_result",
          "data": {
            "text/plain": [
              "array([[-7.40428006],\n",
              "       [16.46133587],\n",
              "       [-0.05279379],\n",
              "       [10.04055474],\n",
              "       [ 0.58573834],\n",
              "       [23.14831763],\n",
              "       [-0.34650212]])"
            ]
          },
          "metadata": {},
          "execution_count": 707
        }
      ]
    },
    {
      "cell_type": "code",
      "metadata": {
        "id": "1YBrEeBOUT3o"
      },
      "source": [
        "y_pre_GD = predict_normalGD(Xtest, w)"
      ],
      "execution_count": 708,
      "outputs": []
    },
    {
      "cell_type": "markdown",
      "metadata": {
        "id": "buYamv-L0PFs"
      },
      "source": [
        "### 3. Evaluate"
      ]
    },
    {
      "cell_type": "code",
      "metadata": {
        "id": "ckKHQOATVvnD",
        "colab": {
          "base_uri": "https://localhost:8080/"
        },
        "outputId": "69186908-ccd2-4ce0-c4fb-f2589cbe1448"
      },
      "source": [
        "MSE(ytest, y_pre_GD, y_pre_SGD)"
      ],
      "execution_count": 709,
      "outputs": [
        {
          "output_type": "stream",
          "name": "stdout",
          "text": [
            "MSE:\n",
            "Normal Gradient descent:  39.361847719531255\n",
            "Stochastic Gradient descent:  37.92794227609973\n"
          ]
        }
      ]
    },
    {
      "cell_type": "code",
      "metadata": {
        "id": "M6GUa9VuVvnD",
        "colab": {
          "base_uri": "https://localhost:8080/"
        },
        "outputId": "97865313-ff25-4a41-b153-ea12ae88ef39"
      },
      "source": [
        "r2_metric(ytest, y_pre_GD, y_pre_SGD)"
      ],
      "execution_count": 710,
      "outputs": [
        {
          "output_type": "stream",
          "name": "stdout",
          "text": [
            "r2_square metric:\n",
            "Normal Gradient descent: 76.0%\n",
            "Stochastic Gradient descent: 77.0%\n"
          ]
        }
      ]
    },
    {
      "cell_type": "code",
      "metadata": {
        "id": "qH2E-Kg-aQz4",
        "colab": {
          "base_uri": "https://localhost:8080/",
          "height": 295
        },
        "outputId": "e0c08982-2221-435f-ab6a-cb4cae7e31c7"
      },
      "source": [
        "lossValue(loss)"
      ],
      "execution_count": 711,
      "outputs": [
        {
          "output_type": "display_data",
          "data": {
            "image/png": "[encoded data removed]",
            "text/plain": [
              "<Figure size 432x288 with 1 Axes>"
            ]
          },
          "metadata": {
            "needs_background": "light"
          }
        }
      ]
    },
    {
      "cell_type": "markdown",
      "metadata": {
        "id": "RmcWff4nBoOO"
      },
      "source": [
        "## 3. Dataset wine"
      ]
    },
    {
      "cell_type": "markdown",
      "metadata": {
        "id": "sRQfpFfNB92Q"
      },
      "source": [
        "###1. Preprocessing data & Create dataset\n"
      ]
    },
    {
      "cell_type": "code",
      "metadata": {
        "id": "I6kxiFHnB92R"
      },
      "source": [
        "df = pd.read_csv('wine.csv')"
      ],
      "execution_count": 712,
      "outputs": []
    },
    {
      "cell_type": "code",
      "metadata": {
        "id": "KkKObRwfB92R",
        "colab": {
          "base_uri": "https://localhost:8080/",
          "height": 241
        },
        "outputId": "465d99c9-b9b6-47f6-87f7-b915076757fe"
      },
      "source": [
        "df.head(5)"
      ],
      "execution_count": 713,
      "outputs": [
        {
          "output_type": "execute_result",
          "data": {
            "text/html": [
              "<div>\n",
              "<style scoped>\n",
              "    .dataframe tbody tr th:only-of-type {\n",
              "        vertical-align: middle;\n",
              "    }\n",
              "\n",
              "    .dataframe tbody tr th {\n",
              "        vertical-align: top;\n",
              "    }\n",
              "\n",
              "    .dataframe thead th {\n",
              "        text-align: right;\n",
              "    }\n",
              "</style>\n",
              "<table border=\"1\" class=\"dataframe\">\n",
              "  <thead>\n",
              "    <tr style=\"text-align: right;\">\n",
              "      <th></th>\n",
              "      <th>fixed acidity</th>\n",
              "      <th>volatile acidity</th>\n",
              "      <th>citric acid</th>\n",
              "      <th>residual sugar</th>\n",
              "      <th>chlorides</th>\n",
              "      <th>free sulfur dioxide</th>\n",
              "      <th>total sulfur dioxide</th>\n",
              "      <th>density</th>\n",
              "      <th>pH</th>\n",
              "      <th>sulphates</th>\n",
              "      <th>alcohol</th>\n",
              "      <th>quality</th>\n",
              "    </tr>\n",
              "  </thead>\n",
              "  <tbody>\n",
              "    <tr>\n",
              "      <th>0</th>\n",
              "      <td>7.4</td>\n",
              "      <td>0.70</td>\n",
              "      <td>0.00</td>\n",
              "      <td>1.9</td>\n",
              "      <td>0.076</td>\n",
              "      <td>11.0</td>\n",
              "      <td>34.0</td>\n",
              "      <td>0.9978</td>\n",
              "      <td>3.51</td>\n",
              "      <td>0.56</td>\n",
              "      <td>9.4</td>\n",
              "      <td>5</td>\n",
              "    </tr>\n",
              "    <tr>\n",
              "      <th>1</th>\n",
              "      <td>7.8</td>\n",
              "      <td>0.88</td>\n",
              "      <td>0.00</td>\n",
              "      <td>2.6</td>\n",
              "      <td>0.098</td>\n",
              "      <td>25.0</td>\n",
              "      <td>67.0</td>\n",
              "      <td>0.9968</td>\n",
              "      <td>3.20</td>\n",
              "      <td>0.68</td>\n",
              "      <td>9.8</td>\n",
              "      <td>5</td>\n",
              "    </tr>\n",
              "    <tr>\n",
              "      <th>2</th>\n",
              "      <td>7.8</td>\n",
              "      <td>0.76</td>\n",
              "      <td>0.04</td>\n",
              "      <td>2.3</td>\n",
              "      <td>0.092</td>\n",
              "      <td>15.0</td>\n",
              "      <td>54.0</td>\n",
              "      <td>0.9970</td>\n",
              "      <td>3.26</td>\n",
              "      <td>0.65</td>\n",
              "      <td>9.8</td>\n",
              "      <td>5</td>\n",
              "    </tr>\n",
              "    <tr>\n",
              "      <th>3</th>\n",
              "      <td>11.2</td>\n",
              "      <td>0.28</td>\n",
              "      <td>0.56</td>\n",
              "      <td>1.9</td>\n",
              "      <td>0.075</td>\n",
              "      <td>17.0</td>\n",
              "      <td>60.0</td>\n",
              "      <td>0.9980</td>\n",
              "      <td>3.16</td>\n",
              "      <td>0.58</td>\n",
              "      <td>9.8</td>\n",
              "      <td>6</td>\n",
              "    </tr>\n",
              "    <tr>\n",
              "      <th>4</th>\n",
              "      <td>7.4</td>\n",
              "      <td>0.70</td>\n",
              "      <td>0.00</td>\n",
              "      <td>1.9</td>\n",
              "      <td>0.076</td>\n",
              "      <td>11.0</td>\n",
              "      <td>34.0</td>\n",
              "      <td>0.9978</td>\n",
              "      <td>3.51</td>\n",
              "      <td>0.56</td>\n",
              "      <td>9.4</td>\n",
              "      <td>5</td>\n",
              "    </tr>\n",
              "  </tbody>\n",
              "</table>\n",
              "</div>"
            ],
            "text/plain": [
              "   fixed acidity  volatile acidity  citric acid  ...  sulphates  alcohol  quality\n",
              "0            7.4              0.70         0.00  ...       0.56      9.4        5\n",
              "1            7.8              0.88         0.00  ...       0.68      9.8        5\n",
              "2            7.8              0.76         0.04  ...       0.65      9.8        5\n",
              "3           11.2              0.28         0.56  ...       0.58      9.8        6\n",
              "4            7.4              0.70         0.00  ...       0.56      9.4        5\n",
              "\n",
              "[5 rows x 12 columns]"
            ]
          },
          "metadata": {},
          "execution_count": 713
        }
      ]
    },
    {
      "cell_type": "code",
      "metadata": {
        "id": "5_fpPVVTCLgF",
        "colab": {
          "base_uri": "https://localhost:8080/"
        },
        "outputId": "a0d5a66b-011b-4bbe-dd4a-070bb58b0e76"
      },
      "source": [
        "df.info()"
      ],
      "execution_count": 714,
      "outputs": [
        {
          "output_type": "stream",
          "name": "stdout",
          "text": [
            "<class 'pandas.core.frame.DataFrame'>\n",
            "RangeIndex: 1599 entries, 0 to 1598\n",
            "Data columns (total 12 columns):\n",
            " #   Column                Non-Null Count  Dtype  \n",
            "---  ------                --------------  -----  \n",
            " 0   fixed acidity         1599 non-null   float64\n",
            " 1   volatile acidity      1599 non-null   float64\n",
            " 2   citric acid           1599 non-null   float64\n",
            " 3   residual sugar        1599 non-null   float64\n",
            " 4   chlorides             1599 non-null   float64\n",
            " 5   free sulfur dioxide   1599 non-null   float64\n",
            " 6   total sulfur dioxide  1599 non-null   float64\n",
            " 7   density               1599 non-null   float64\n",
            " 8   pH                    1599 non-null   float64\n",
            " 9   sulphates             1599 non-null   float64\n",
            " 10  alcohol               1599 non-null   float64\n",
            " 11  quality               1599 non-null   int64  \n",
            "dtypes: float64(11), int64(1)\n",
            "memory usage: 150.0 KB\n"
          ]
        }
      ]
    },
    {
      "cell_type": "code",
      "metadata": {
        "id": "PzaCMbx9B92R"
      },
      "source": [
        "features = ['fixed acidity', 'volatile acidity', 'citric acid', 'residual sugar', 'chlorides', 'free sulfur dioxide', 'total sulfur dioxide', 'density', 'pH', 'sulphates', 'alcohol', 'quality']"
      ],
      "execution_count": 715,
      "outputs": []
    },
    {
      "cell_type": "code",
      "metadata": {
        "id": "oWYJzoq8it1X"
      },
      "source": [
        "for i in [0, 5, 6, 10]:\n",
        "  df[features[i]] /= max(df[features[i]])"
      ],
      "execution_count": 716,
      "outputs": []
    },
    {
      "cell_type": "code",
      "metadata": {
        "id": "gA7DYd4YdvJg"
      },
      "source": [
        "train, test = train_test_split(df, test_size = 0.3)"
      ],
      "execution_count": 717,
      "outputs": []
    },
    {
      "cell_type": "code",
      "metadata": {
        "id": "TdC-nmkiB92S"
      },
      "source": [
        "for count in range(1):\n",
        "  for i in range(len(features) -1):\n",
        "    train = remove_outlier_boxplot(train, features[i])"
      ],
      "execution_count": 718,
      "outputs": []
    },
    {
      "cell_type": "code",
      "metadata": {
        "id": "Jgrl1_1MB92S",
        "colab": {
          "base_uri": "https://localhost:8080/",
          "height": 479
        },
        "outputId": "70eab43c-959c-4ed4-dda1-494ca4125c23"
      },
      "source": [
        "figure, axes = plt.subplots(4, 3, sharex=True, figsize=(7,7))\n",
        "figure.suptitle('BOXPLOT')\n",
        "axes[0][0].boxplot(train[features[0]])\n",
        "axes[0][1].boxplot(train[features[1]])\n",
        "axes[0][2].boxplot(train[features[2]])\n",
        "axes[1][0].boxplot(train[features[3]])\n",
        "axes[1][1].boxplot(train[features[4]])\n",
        "axes[1][2].boxplot(train[features[5]])\n",
        "axes[2][0].boxplot(train[features[6]])\n",
        "axes[2][1].boxplot(train[features[7]])\n",
        "axes[2][2].boxplot(train[features[8]])\n",
        "axes[3][0].boxplot(train[features[9]])\n",
        "axes[3][1].boxplot(train[features[10]]);"
      ],
      "execution_count": 719,
      "outputs": [
        {
          "output_type": "display_data",
          "data": {
            "image/png": "[encoded data removed]",
            "text/plain": [
              "<Figure size 504x504 with 12 Axes>"
            ]
          },
          "metadata": {
            "needs_background": "light"
          }
        }
      ]
    },
    {
      "cell_type": "code",
      "metadata": {
        "id": "uaXt6BYwB92T",
        "colab": {
          "base_uri": "https://localhost:8080/"
        },
        "outputId": "9e1cf921-9092-4fe2-b399-123c74e7c34e"
      },
      "source": [
        "train.info()"
      ],
      "execution_count": 720,
      "outputs": [
        {
          "output_type": "stream",
          "name": "stdout",
          "text": [
            "<class 'pandas.core.frame.DataFrame'>\n",
            "Int64Index: 792 entries, 875 to 103\n",
            "Data columns (total 12 columns):\n",
            " #   Column                Non-Null Count  Dtype  \n",
            "---  ------                --------------  -----  \n",
            " 0   fixed acidity         792 non-null    float64\n",
            " 1   volatile acidity      792 non-null    float64\n",
            " 2   citric acid           792 non-null    float64\n",
            " 3   residual sugar        792 non-null    float64\n",
            " 4   chlorides             792 non-null    float64\n",
            " 5   free sulfur dioxide   792 non-null    float64\n",
            " 6   total sulfur dioxide  792 non-null    float64\n",
            " 7   density               792 non-null    float64\n",
            " 8   pH                    792 non-null    float64\n",
            " 9   sulphates             792 non-null    float64\n",
            " 10  alcohol               792 non-null    float64\n",
            " 11  quality               792 non-null    int64  \n",
            "dtypes: float64(11), int64(1)\n",
            "memory usage: 80.4 KB\n"
          ]
        }
      ]
    },
    {
      "cell_type": "code",
      "metadata": {
        "id": "2HfpVGtcB92T"
      },
      "source": [
        "# training set\n",
        "Xtrain = train[features[:11]]\n",
        "ytrain = train[features[-1]]\n",
        "\n",
        "# test set\n",
        "Xtest = test[features[:11]]\n",
        "ytest = test[features[-1]]"
      ],
      "execution_count": 721,
      "outputs": []
    },
    {
      "cell_type": "code",
      "metadata": {
        "id": "HTgLcTI9Fy7Y",
        "colab": {
          "base_uri": "https://localhost:8080/",
          "height": 241
        },
        "outputId": "72d6525f-1fa5-4a91-c438-e083fda587ea"
      },
      "source": [
        "Xtrain.head(5)"
      ],
      "execution_count": 722,
      "outputs": [
        {
          "output_type": "execute_result",
          "data": {
            "text/html": [
              "<div>\n",
              "<style scoped>\n",
              "    .dataframe tbody tr th:only-of-type {\n",
              "        vertical-align: middle;\n",
              "    }\n",
              "\n",
              "    .dataframe tbody tr th {\n",
              "        vertical-align: top;\n",
              "    }\n",
              "\n",
              "    .dataframe thead th {\n",
              "        text-align: right;\n",
              "    }\n",
              "</style>\n",
              "<table border=\"1\" class=\"dataframe\">\n",
              "  <thead>\n",
              "    <tr style=\"text-align: right;\">\n",
              "      <th></th>\n",
              "      <th>fixed acidity</th>\n",
              "      <th>volatile acidity</th>\n",
              "      <th>citric acid</th>\n",
              "      <th>residual sugar</th>\n",
              "      <th>chlorides</th>\n",
              "      <th>free sulfur dioxide</th>\n",
              "      <th>total sulfur dioxide</th>\n",
              "      <th>density</th>\n",
              "      <th>pH</th>\n",
              "      <th>sulphates</th>\n",
              "      <th>alcohol</th>\n",
              "    </tr>\n",
              "  </thead>\n",
              "  <tbody>\n",
              "    <tr>\n",
              "      <th>875</th>\n",
              "      <td>0.553459</td>\n",
              "      <td>0.31</td>\n",
              "      <td>0.40</td>\n",
              "      <td>2.8</td>\n",
              "      <td>0.109</td>\n",
              "      <td>0.097222</td>\n",
              "      <td>0.055363</td>\n",
              "      <td>0.99614</td>\n",
              "      <td>3.31</td>\n",
              "      <td>0.79</td>\n",
              "      <td>0.791946</td>\n",
              "    </tr>\n",
              "    <tr>\n",
              "      <th>1521</th>\n",
              "      <td>0.433962</td>\n",
              "      <td>0.48</td>\n",
              "      <td>0.20</td>\n",
              "      <td>1.9</td>\n",
              "      <td>0.082</td>\n",
              "      <td>0.125000</td>\n",
              "      <td>0.079585</td>\n",
              "      <td>0.99585</td>\n",
              "      <td>3.39</td>\n",
              "      <td>0.43</td>\n",
              "      <td>0.607383</td>\n",
              "    </tr>\n",
              "    <tr>\n",
              "      <th>1483</th>\n",
              "      <td>0.509434</td>\n",
              "      <td>0.33</td>\n",
              "      <td>0.44</td>\n",
              "      <td>1.5</td>\n",
              "      <td>0.042</td>\n",
              "      <td>0.083333</td>\n",
              "      <td>0.041522</td>\n",
              "      <td>0.99542</td>\n",
              "      <td>3.35</td>\n",
              "      <td>0.61</td>\n",
              "      <td>0.718121</td>\n",
              "    </tr>\n",
              "    <tr>\n",
              "      <th>410</th>\n",
              "      <td>0.566038</td>\n",
              "      <td>0.43</td>\n",
              "      <td>0.34</td>\n",
              "      <td>2.5</td>\n",
              "      <td>0.080</td>\n",
              "      <td>0.361111</td>\n",
              "      <td>0.297578</td>\n",
              "      <td>0.99870</td>\n",
              "      <td>3.38</td>\n",
              "      <td>0.62</td>\n",
              "      <td>0.637584</td>\n",
              "    </tr>\n",
              "    <tr>\n",
              "      <th>822</th>\n",
              "      <td>0.421384</td>\n",
              "      <td>0.54</td>\n",
              "      <td>0.13</td>\n",
              "      <td>2.0</td>\n",
              "      <td>0.076</td>\n",
              "      <td>0.208333</td>\n",
              "      <td>0.124567</td>\n",
              "      <td>0.99730</td>\n",
              "      <td>3.61</td>\n",
              "      <td>0.64</td>\n",
              "      <td>0.657718</td>\n",
              "    </tr>\n",
              "  </tbody>\n",
              "</table>\n",
              "</div>"
            ],
            "text/plain": [
              "      fixed acidity  volatile acidity  citric acid  ...    pH  sulphates   alcohol\n",
              "875        0.553459              0.31         0.40  ...  3.31       0.79  0.791946\n",
              "1521       0.433962              0.48         0.20  ...  3.39       0.43  0.607383\n",
              "1483       0.509434              0.33         0.44  ...  3.35       0.61  0.718121\n",
              "410        0.566038              0.43         0.34  ...  3.38       0.62  0.637584\n",
              "822        0.421384              0.54         0.13  ...  3.61       0.64  0.657718\n",
              "\n",
              "[5 rows x 11 columns]"
            ]
          },
          "metadata": {},
          "execution_count": 722
        }
      ]
    },
    {
      "cell_type": "markdown",
      "metadata": {
        "id": "gQF4gIv_B92U"
      },
      "source": [
        "###2. Train model"
      ]
    },
    {
      "cell_type": "markdown",
      "metadata": {
        "id": "eJd7MHYbeoUd"
      },
      "source": [
        "**Stochastic GD**"
      ]
    },
    {
      "cell_type": "code",
      "metadata": {
        "id": "HJKqnByipcDp"
      },
      "source": [
        "Xtrain = np.array(Xtrain).reshape(-1, 11)\n",
        "Xtest = np.array(Xtest).reshape(-1, 11)\n",
        "ytrain = np.array(ytrain).reshape(-1, 1)\n",
        "ytest = np.array(ytest).reshape(-1, 1)"
      ],
      "execution_count": 723,
      "outputs": []
    },
    {
      "cell_type": "code",
      "metadata": {
        "id": "M89QXHrweoUd",
        "colab": {
          "base_uri": "https://localhost:8080/"
        },
        "outputId": "323f22bb-45aa-4469-9603-c982f8aa10ed"
      },
      "source": [
        "reg = make_pipeline(StandardScaler(), SGDRegressor(max_iter=10000000, tol=1e-3))\n",
        "reg.fit(Xtrain, ytrain)"
      ],
      "execution_count": 724,
      "outputs": [
        {
          "output_type": "stream",
          "name": "stderr",
          "text": [
            "/usr/local/lib/python3.7/dist-packages/sklearn/utils/validation.py:760: DataConversionWarning: A column-vector y was passed when a 1d array was expected. Please change the shape of y to (n_samples, ), for example using ravel().\n",
            "  y = column_or_1d(y, warn=True)\n"
          ]
        },
        {
          "output_type": "execute_result",
          "data": {
            "text/plain": [
              "Pipeline(memory=None,\n",
              "         steps=[('standardscaler',\n",
              "                 StandardScaler(copy=True, with_mean=True, with_std=True)),\n",
              "                ('sgdregressor',\n",
              "                 SGDRegressor(alpha=0.0001, average=False, early_stopping=False,\n",
              "                              epsilon=0.1, eta0=0.01, fit_intercept=True,\n",
              "                              l1_ratio=0.15, learning_rate='invscaling',\n",
              "                              loss='squared_loss', max_iter=10000000,\n",
              "                              n_iter_no_change=5, penalty='l2', power_t=0.25,\n",
              "                              random_state=None, shuffle=True, tol=0.001,\n",
              "                              validation_fraction=0.1, verbose=0,\n",
              "                              warm_start=False))],\n",
              "         verbose=False)"
            ]
          },
          "metadata": {},
          "execution_count": 724
        }
      ]
    },
    {
      "cell_type": "code",
      "metadata": {
        "id": "KswQVhNJeoUd"
      },
      "source": [
        "y_pre_SGD = reg.predict(Xtest)"
      ],
      "execution_count": 725,
      "outputs": []
    },
    {
      "cell_type": "markdown",
      "metadata": {
        "id": "kmquRVhgeoUc"
      },
      "source": [
        "**Coding from scratch**"
      ]
    },
    {
      "cell_type": "code",
      "metadata": {
        "id": "2nOZN4UOeX5a"
      },
      "source": [
        "Xtrain = add_ONE(Xtrain)\n",
        "Xtest = add_ONE(Xtest)"
      ],
      "execution_count": 726,
      "outputs": []
    },
    {
      "cell_type": "code",
      "metadata": {
        "id": "Nv-J4yJDeX5a"
      },
      "source": [
        "Xtrain = np.array(Xtrain).reshape(-1, 12)\n",
        "Xtest = np.array(Xtest).reshape(-1, 12)\n",
        "ytrain = np.array(ytrain).reshape(-1, 1)\n",
        "ytest = np.array(ytest).reshape(-1, 1)"
      ],
      "execution_count": 727,
      "outputs": []
    },
    {
      "cell_type": "code",
      "metadata": {
        "id": "DOX1fHyveoUc"
      },
      "source": [
        "# Number of training_example\n",
        "N = Xtrain.shape[0]"
      ],
      "execution_count": 728,
      "outputs": []
    },
    {
      "cell_type": "code",
      "metadata": {
        "id": "RVaBnIMKeoUd"
      },
      "source": [
        " w = np.arange(Xtrain.shape[1]).reshape(-1, 1) "
      ],
      "execution_count": 729,
      "outputs": []
    },
    {
      "cell_type": "code",
      "metadata": {
        "id": "DYVlJoRgeoUd",
        "colab": {
          "base_uri": "https://localhost:8080/"
        },
        "outputId": "7e33cf0b-e332-4943-c705-0ea3dbe9777f"
      },
      "source": [
        "print(Xtrain.shape)\n",
        "print(ytrain.shape)\n",
        "print(w.shape)"
      ],
      "execution_count": 730,
      "outputs": [
        {
          "output_type": "stream",
          "name": "stdout",
          "text": [
            "(792, 12)\n",
            "(792, 1)\n",
            "(12, 1)\n"
          ]
        }
      ]
    },
    {
      "cell_type": "code",
      "metadata": {
        "id": "4kWN9S1ieoUd"
      },
      "source": [
        "w, loss = GD(Xtrain, ytrain, w, 12, 0.001, 1000000)"
      ],
      "execution_count": 731,
      "outputs": []
    },
    {
      "cell_type": "code",
      "metadata": {
        "id": "AH_j9vZreoUd",
        "colab": {
          "base_uri": "https://localhost:8080/"
        },
        "outputId": "00ac6f1c-b341-4e32-adae-6875a225ac5e"
      },
      "source": [
        "w"
      ],
      "execution_count": 732,
      "outputs": [
        {
          "output_type": "execute_result",
          "data": {
            "text/plain": [
              "array([[-2.53510461],\n",
              "       [ 0.39757776],\n",
              "       [-0.99928167],\n",
              "       [-0.44807235],\n",
              "       [-0.04966049],\n",
              "       [ 4.00893954],\n",
              "       [-0.07496808],\n",
              "       [-0.39676592],\n",
              "       [ 5.50140588],\n",
              "       [-0.58515384],\n",
              "       [ 1.96273167],\n",
              "       [ 5.33784346]])"
            ]
          },
          "metadata": {},
          "execution_count": 732
        }
      ]
    },
    {
      "cell_type": "code",
      "metadata": {
        "id": "0eCWJvZweoUd"
      },
      "source": [
        "y_pre_GD = predict_normalGD(Xtest, w)"
      ],
      "execution_count": 733,
      "outputs": []
    },
    {
      "cell_type": "markdown",
      "metadata": {
        "id": "GU8mQyRAeoUd"
      },
      "source": [
        "### 3. Evaluate"
      ]
    },
    {
      "cell_type": "code",
      "metadata": {
        "id": "J_hKz_SzeoUe",
        "colab": {
          "base_uri": "https://localhost:8080/"
        },
        "outputId": "77902a66-a30a-44a9-980e-ca360d3485c1"
      },
      "source": [
        "MSE(ytest, y_pre_GD, y_pre_SGD)"
      ],
      "execution_count": 734,
      "outputs": [
        {
          "output_type": "stream",
          "name": "stdout",
          "text": [
            "MSE:\n",
            "Normal Gradient descent:  0.5038416365255809\n",
            "Stochastic Gradient descent:  0.43411740120407954\n"
          ]
        }
      ]
    },
    {
      "cell_type": "code",
      "metadata": {
        "id": "dimS1VW0eoUe",
        "colab": {
          "base_uri": "https://localhost:8080/"
        },
        "outputId": "83a73c19-66fd-4b73-b5d3-3d490e311c72"
      },
      "source": [
        "r2_metric(ytest, y_pre_GD, y_pre_SGD)"
      ],
      "execution_count": 735,
      "outputs": [
        {
          "output_type": "stream",
          "name": "stdout",
          "text": [
            "r2_square metric:\n",
            "Normal Gradient descent: 18.0%\n",
            "Stochastic Gradient descent: 30.0%\n"
          ]
        }
      ]
    },
    {
      "cell_type": "code",
      "metadata": {
        "id": "smlZrqfWeoUe",
        "colab": {
          "base_uri": "https://localhost:8080/",
          "height": 295
        },
        "outputId": "b296e2dc-daa0-428f-b523-9153d55863ed"
      },
      "source": [
        "lossValue(loss)"
      ],
      "execution_count": 736,
      "outputs": [
        {
          "output_type": "display_data",
          "data": {
            "image/png": "[encoded data removed]",
            "text/plain": [
              "<Figure size 432x288 with 1 Axes>"
            ]
          },
          "metadata": {
            "needs_background": "light"
          }
        }
      ]
    },
    {
      "cell_type": "markdown",
      "metadata": {
        "id": "M5WTzi_1bcf9"
      },
      "source": [
        "## Dataset weather"
      ]
    },
    {
      "cell_type": "markdown",
      "metadata": {
        "id": "pfQDlRNbb5mn"
      },
      "source": [
        "###1. Preprocessing data & Create dataset\n"
      ]
    },
    {
      "cell_type": "code",
      "metadata": {
        "id": "O8uGJ_Izb5mo"
      },
      "source": [
        "df = pd.read_csv('weather.csv')"
      ],
      "execution_count": 737,
      "outputs": []
    },
    {
      "cell_type": "code",
      "metadata": {
        "colab": {
          "base_uri": "https://localhost:8080/",
          "height": 0
        },
        "id": "12-MQ2MCPW3q",
        "outputId": "4d84711b-77e0-41fb-bc5a-1aa4c2c7f8cb"
      },
      "source": [
        "df.head()\n"
      ],
      "execution_count": 738,
      "outputs": [
        {
          "output_type": "execute_result",
          "data": {
            "text/html": [
              "<div>\n",
              "<style scoped>\n",
              "    .dataframe tbody tr th:only-of-type {\n",
              "        vertical-align: middle;\n",
              "    }\n",
              "\n",
              "    .dataframe tbody tr th {\n",
              "        vertical-align: top;\n",
              "    }\n",
              "\n",
              "    .dataframe thead th {\n",
              "        text-align: right;\n",
              "    }\n",
              "</style>\n",
              "<table border=\"1\" class=\"dataframe\">\n",
              "  <thead>\n",
              "    <tr style=\"text-align: right;\">\n",
              "      <th></th>\n",
              "      <th>Temperature_c</th>\n",
              "      <th>Humidity</th>\n",
              "      <th>Wind_Speed_kmh</th>\n",
              "      <th>Wind_Bearing_degrees</th>\n",
              "      <th>Visibility_km</th>\n",
              "      <th>Pressure_millibars</th>\n",
              "      <th>Rain</th>\n",
              "      <th>Description</th>\n",
              "    </tr>\n",
              "  </thead>\n",
              "  <tbody>\n",
              "    <tr>\n",
              "      <th>0</th>\n",
              "      <td>-0.555556</td>\n",
              "      <td>0.92</td>\n",
              "      <td>11.2700</td>\n",
              "      <td>130</td>\n",
              "      <td>8.0500</td>\n",
              "      <td>1021.60</td>\n",
              "      <td>0</td>\n",
              "      <td>Cold</td>\n",
              "    </tr>\n",
              "    <tr>\n",
              "      <th>1</th>\n",
              "      <td>21.111111</td>\n",
              "      <td>0.73</td>\n",
              "      <td>20.9300</td>\n",
              "      <td>330</td>\n",
              "      <td>16.1000</td>\n",
              "      <td>1017.00</td>\n",
              "      <td>1</td>\n",
              "      <td>Warm</td>\n",
              "    </tr>\n",
              "    <tr>\n",
              "      <th>2</th>\n",
              "      <td>16.600000</td>\n",
              "      <td>0.97</td>\n",
              "      <td>5.9731</td>\n",
              "      <td>193</td>\n",
              "      <td>14.9086</td>\n",
              "      <td>1013.99</td>\n",
              "      <td>1</td>\n",
              "      <td>Normal</td>\n",
              "    </tr>\n",
              "    <tr>\n",
              "      <th>3</th>\n",
              "      <td>1.600000</td>\n",
              "      <td>0.82</td>\n",
              "      <td>3.2200</td>\n",
              "      <td>300</td>\n",
              "      <td>16.1000</td>\n",
              "      <td>1031.59</td>\n",
              "      <td>1</td>\n",
              "      <td>Cold</td>\n",
              "    </tr>\n",
              "    <tr>\n",
              "      <th>4</th>\n",
              "      <td>2.194444</td>\n",
              "      <td>0.60</td>\n",
              "      <td>10.8836</td>\n",
              "      <td>116</td>\n",
              "      <td>9.9820</td>\n",
              "      <td>1020.88</td>\n",
              "      <td>1</td>\n",
              "      <td>Cold</td>\n",
              "    </tr>\n",
              "  </tbody>\n",
              "</table>\n",
              "</div>"
            ],
            "text/plain": [
              "   Temperature_c  Humidity  ...  Rain  Description\n",
              "0      -0.555556      0.92  ...     0         Cold\n",
              "1      21.111111      0.73  ...     1         Warm\n",
              "2      16.600000      0.97  ...     1       Normal\n",
              "3       1.600000      0.82  ...     1         Cold\n",
              "4       2.194444      0.60  ...     1         Cold\n",
              "\n",
              "[5 rows x 8 columns]"
            ]
          },
          "metadata": {},
          "execution_count": 738
        }
      ]
    },
    {
      "cell_type": "code",
      "metadata": {
        "id": "vuH8J7kHb5mp"
      },
      "source": [
        "features = ['Humidity', 'Wind_Speed_kmh','Wind_Bearing_degrees', 'Visibility_km', 'Pressure_millibars', 'Rain', 'Description', 'Temperature_c']"
      ],
      "execution_count": 739,
      "outputs": []
    },
    {
      "cell_type": "code",
      "metadata": {
        "id": "HW8rM8tof3Az"
      },
      "source": [
        "onehot_encoder = OneHotEncoder(sparse=False)"
      ],
      "execution_count": 740,
      "outputs": []
    },
    {
      "cell_type": "code",
      "metadata": {
        "id": "yP3bczrYf5ZL"
      },
      "source": [
        "df[features[-2]] = onehot_encoder.fit_transform(df[[features[-2]]])"
      ],
      "execution_count": 741,
      "outputs": []
    },
    {
      "cell_type": "code",
      "metadata": {
        "id": "BWTdzSELfBYm"
      },
      "source": [
        "for i in range(5):\n",
        "  df[features[i]] /= max(df[features[i]])"
      ],
      "execution_count": 742,
      "outputs": []
    },
    {
      "cell_type": "code",
      "metadata": {
        "colab": {
          "base_uri": "https://localhost:8080/",
          "height": 0
        },
        "id": "TJCqEJBXOKzY",
        "outputId": "e2816ca3-f770-43d2-9f6a-4eb50ef0d065"
      },
      "source": [
        "df.head(3)"
      ],
      "execution_count": 743,
      "outputs": [
        {
          "output_type": "execute_result",
          "data": {
            "text/html": [
              "<div>\n",
              "<style scoped>\n",
              "    .dataframe tbody tr th:only-of-type {\n",
              "        vertical-align: middle;\n",
              "    }\n",
              "\n",
              "    .dataframe tbody tr th {\n",
              "        vertical-align: top;\n",
              "    }\n",
              "\n",
              "    .dataframe thead th {\n",
              "        text-align: right;\n",
              "    }\n",
              "</style>\n",
              "<table border=\"1\" class=\"dataframe\">\n",
              "  <thead>\n",
              "    <tr style=\"text-align: right;\">\n",
              "      <th></th>\n",
              "      <th>Temperature_c</th>\n",
              "      <th>Humidity</th>\n",
              "      <th>Wind_Speed_kmh</th>\n",
              "      <th>Wind_Bearing_degrees</th>\n",
              "      <th>Visibility_km</th>\n",
              "      <th>Pressure_millibars</th>\n",
              "      <th>Rain</th>\n",
              "      <th>Description</th>\n",
              "    </tr>\n",
              "  </thead>\n",
              "  <tbody>\n",
              "    <tr>\n",
              "      <th>0</th>\n",
              "      <td>-0.555556</td>\n",
              "      <td>0.92</td>\n",
              "      <td>0.211672</td>\n",
              "      <td>0.362117</td>\n",
              "      <td>0.500</td>\n",
              "      <td>0.977252</td>\n",
              "      <td>0</td>\n",
              "      <td>1.0</td>\n",
              "    </tr>\n",
              "    <tr>\n",
              "      <th>1</th>\n",
              "      <td>21.111111</td>\n",
              "      <td>0.73</td>\n",
              "      <td>0.393106</td>\n",
              "      <td>0.919220</td>\n",
              "      <td>1.000</td>\n",
              "      <td>0.972852</td>\n",
              "      <td>1</td>\n",
              "      <td>0.0</td>\n",
              "    </tr>\n",
              "    <tr>\n",
              "      <th>2</th>\n",
              "      <td>16.600000</td>\n",
              "      <td>0.97</td>\n",
              "      <td>0.112186</td>\n",
              "      <td>0.537604</td>\n",
              "      <td>0.926</td>\n",
              "      <td>0.969973</td>\n",
              "      <td>1</td>\n",
              "      <td>0.0</td>\n",
              "    </tr>\n",
              "  </tbody>\n",
              "</table>\n",
              "</div>"
            ],
            "text/plain": [
              "   Temperature_c  Humidity  ...  Rain  Description\n",
              "0      -0.555556      0.92  ...     0          1.0\n",
              "1      21.111111      0.73  ...     1          0.0\n",
              "2      16.600000      0.97  ...     1          0.0\n",
              "\n",
              "[3 rows x 8 columns]"
            ]
          },
          "metadata": {},
          "execution_count": 743
        }
      ]
    },
    {
      "cell_type": "code",
      "metadata": {
        "id": "1qqUj17lAv5F"
      },
      "source": [
        "train, test = train_test_split(df, test_size = 0.3)"
      ],
      "execution_count": 744,
      "outputs": []
    },
    {
      "cell_type": "code",
      "metadata": {
        "id": "YnX1q_anb5mr"
      },
      "source": [
        "for j in range(2):\n",
        "  for i in [0, 1, 2, 3]:\n",
        "    train = remove_outlier_boxplot(train, features[i])"
      ],
      "execution_count": 745,
      "outputs": []
    },
    {
      "cell_type": "code",
      "metadata": {
        "id": "qh9GYEQWb5mr",
        "colab": {
          "base_uri": "https://localhost:8080/",
          "height": 0
        },
        "outputId": "a56dd74e-ab04-4fd9-ac69-7eeb19deaee5"
      },
      "source": [
        "figure, axes = plt.subplots(2, 2, sharex=True, figsize=(7,7))\n",
        "figure.suptitle('BOXPLOT')\n",
        "\n",
        "axes[0][0].boxplot(train[features[0]])\n",
        "axes[0][1].boxplot(train[features[1]])\n",
        "axes[1][0].boxplot(train[features[2]])\n",
        "axes[1][1].boxplot(train[features[3]]);"
      ],
      "execution_count": 746,
      "outputs": [
        {
          "output_type": "display_data",
          "data": {
            "image/png": "[encoded data removed]",
            "text/plain": [
              "<Figure size 504x504 with 4 Axes>"
            ]
          },
          "metadata": {
            "needs_background": "light"
          }
        }
      ]
    },
    {
      "cell_type": "code",
      "metadata": {
        "id": "NI0QiQJTBdgQ"
      },
      "source": [
        "# training set\n",
        "Xtrain = train[features[:7]]\n",
        "ytrain = train[features[-1]]\n",
        "\n",
        "# test set\n",
        "Xtest = test[features[:7]]\n",
        "ytest = test[features[-1]]"
      ],
      "execution_count": 747,
      "outputs": []
    },
    {
      "cell_type": "markdown",
      "metadata": {
        "id": "_UD17_BCb5mx"
      },
      "source": [
        "###2. Train model"
      ]
    },
    {
      "cell_type": "markdown",
      "metadata": {
        "id": "QqqfqnrLCMur"
      },
      "source": [
        "**Stochastic GD**"
      ]
    },
    {
      "cell_type": "code",
      "metadata": {
        "id": "CXbWl54aaD6r"
      },
      "source": [
        "Xtrain = np.array(Xtrain).reshape(-1, 7)\n",
        "Xtest = np.array(Xtest).reshape(-1, 7)\n",
        "ytrain = np.array(ytrain).reshape(-1, 1)\n",
        "ytest = np.array(ytest).reshape(-1, 1)"
      ],
      "execution_count": 748,
      "outputs": []
    },
    {
      "cell_type": "code",
      "metadata": {
        "id": "oSj6fsOICMur",
        "colab": {
          "base_uri": "https://localhost:8080/"
        },
        "outputId": "d309c805-b2ae-4ff5-bd89-86a95a83eeec"
      },
      "source": [
        "reg = make_pipeline(StandardScaler(), SGDRegressor(max_iter=10000000, tol=1e-3))\n",
        "reg.fit(Xtrain, ytrain)"
      ],
      "execution_count": 749,
      "outputs": [
        {
          "output_type": "stream",
          "name": "stderr",
          "text": [
            "/usr/local/lib/python3.7/dist-packages/sklearn/utils/validation.py:760: DataConversionWarning: A column-vector y was passed when a 1d array was expected. Please change the shape of y to (n_samples, ), for example using ravel().\n",
            "  y = column_or_1d(y, warn=True)\n"
          ]
        },
        {
          "output_type": "execute_result",
          "data": {
            "text/plain": [
              "Pipeline(memory=None,\n",
              "         steps=[('standardscaler',\n",
              "                 StandardScaler(copy=True, with_mean=True, with_std=True)),\n",
              "                ('sgdregressor',\n",
              "                 SGDRegressor(alpha=0.0001, average=False, early_stopping=False,\n",
              "                              epsilon=0.1, eta0=0.01, fit_intercept=True,\n",
              "                              l1_ratio=0.15, learning_rate='invscaling',\n",
              "                              loss='squared_loss', max_iter=10000000,\n",
              "                              n_iter_no_change=5, penalty='l2', power_t=0.25,\n",
              "                              random_state=None, shuffle=True, tol=0.001,\n",
              "                              validation_fraction=0.1, verbose=0,\n",
              "                              warm_start=False))],\n",
              "         verbose=False)"
            ]
          },
          "metadata": {},
          "execution_count": 749
        }
      ]
    },
    {
      "cell_type": "code",
      "metadata": {
        "id": "P5zIaqdZCMur"
      },
      "source": [
        "y_pre_SGD = reg.predict(Xtest)"
      ],
      "execution_count": 750,
      "outputs": []
    },
    {
      "cell_type": "markdown",
      "metadata": {
        "id": "m_r_UexKCMuo"
      },
      "source": [
        "**Coding from scratch**"
      ]
    },
    {
      "cell_type": "code",
      "metadata": {
        "id": "PwuWh2FTBwAw"
      },
      "source": [
        "Xtrain = add_ONE(Xtrain)\n",
        "Xtest = add_ONE(Xtest)"
      ],
      "execution_count": 751,
      "outputs": []
    },
    {
      "cell_type": "code",
      "metadata": {
        "id": "6WSTYjXlBwAx"
      },
      "source": [
        "Xtrain = np.array(Xtrain).reshape(-1, 8)\n",
        "Xtest = np.array(Xtest).reshape(-1, 8)\n",
        "ytrain = np.array(ytrain).reshape(-1, 1)\n",
        "ytest = np.array(ytest).reshape(-1, 1)"
      ],
      "execution_count": 752,
      "outputs": []
    },
    {
      "cell_type": "code",
      "metadata": {
        "id": "aHLCSd6dCMup"
      },
      "source": [
        "# Number of training_example\n",
        "N = Xtrain.shape[0]"
      ],
      "execution_count": 753,
      "outputs": []
    },
    {
      "cell_type": "code",
      "metadata": {
        "id": "KaYb_BAsCMuq"
      },
      "source": [
        " w = np.arange(Xtrain.shape[1]).reshape(-1, 1) "
      ],
      "execution_count": 754,
      "outputs": []
    },
    {
      "cell_type": "code",
      "metadata": {
        "id": "GEoQwDD0CMuq",
        "colab": {
          "base_uri": "https://localhost:8080/"
        },
        "outputId": "8ee9835c-c27f-4cce-e093-eb48df2bf549"
      },
      "source": [
        "print(Xtrain.shape)\n",
        "print(ytrain.shape)\n",
        "print(w.shape)"
      ],
      "execution_count": 755,
      "outputs": [
        {
          "output_type": "stream",
          "name": "stdout",
          "text": [
            "(6737, 8)\n",
            "(6737, 1)\n",
            "(8, 1)\n"
          ]
        }
      ]
    },
    {
      "cell_type": "code",
      "metadata": {
        "id": "DTWuicJrCMuq"
      },
      "source": [
        "w, loss = GD(Xtrain, ytrain, w, 8, 0.001, 1000000)"
      ],
      "execution_count": null,
      "outputs": []
    },
    {
      "cell_type": "code",
      "metadata": {
        "id": "3kCLNY--CMuq"
      },
      "source": [
        "w"
      ],
      "execution_count": null,
      "outputs": []
    },
    {
      "cell_type": "code",
      "metadata": {
        "id": "WEab4L44CMur"
      },
      "source": [
        "y_pre_GD = predict_normalGD(Xtest, w)"
      ],
      "execution_count": null,
      "outputs": []
    },
    {
      "cell_type": "markdown",
      "metadata": {
        "id": "_sZ0rFB8alNm"
      },
      "source": [
        "### 3. Evaluate"
      ]
    },
    {
      "cell_type": "code",
      "metadata": {
        "id": "zNHaRJdUalNo"
      },
      "source": [
        "MSE(ytest, y_pre_GD, y_pre_SGD)"
      ],
      "execution_count": null,
      "outputs": []
    },
    {
      "cell_type": "code",
      "metadata": {
        "id": "pGTAZVdValNp"
      },
      "source": [
        "r2_metric(ytest, y_pre_GD, y_pre_SGD)"
      ],
      "execution_count": null,
      "outputs": []
    },
    {
      "cell_type": "code",
      "metadata": {
        "id": "5xHGF5RValNp"
      },
      "source": [
        "lossValue(loss)"
      ],
      "execution_count": null,
      "outputs": []
    }
  ]
}