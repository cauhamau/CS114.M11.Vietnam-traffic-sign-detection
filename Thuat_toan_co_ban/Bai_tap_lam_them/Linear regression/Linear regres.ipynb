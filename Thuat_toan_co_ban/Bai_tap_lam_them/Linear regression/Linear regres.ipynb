{
  "nbformat": 4,
  "nbformat_minor": 0,
  "metadata": {
    "colab": {
      "name": "normal.ipynb",
      "provenance": [],
      "collapsed_sections": [
        "myPW2RtFEX9J",
        "j5-GCth7jYFv",
        "WiCmftKXjlAf",
        "riELEMfQ0PFr",
        "gQF4gIv_B92U",
        "M5WTzi_1bcf9",
        "pfQDlRNbb5mn",
        "_UD17_BCb5mx",
        "4uQAbpn6b5m0"
      ],
      "toc_visible": true
    },
    "kernelspec": {
      "name": "python3",
      "display_name": "Python 3"
    },
    "language_info": {
      "name": "python"
    }
  },
  "cells": [
    {
      "cell_type": "markdown",
      "metadata": {
        "id": "DHzMzRTHECxo"
      },
      "source": [
        "# I. Import library"
      ]
    },
    {
      "cell_type": "code",
      "metadata": {
        "id": "XJqoWIZADlnj"
      },
      "source": [
        "import numpy as np\n",
        "import pandas as pd\n",
        "import matplotlib.pyplot as plt\n",
        "import seaborn as sns"
      ],
      "execution_count": 603,
      "outputs": []
    },
    {
      "cell_type": "code",
      "metadata": {
        "id": "qNqzZRLSlcVn"
      },
      "source": [
        "from sklearn.preprocessing import StandardScaler\n",
        "standard_scaler = StandardScaler()\n",
        "\n",
        "from sklearn.model_selection import train_test_split"
      ],
      "execution_count": 604,
      "outputs": []
    },
    {
      "cell_type": "code",
      "metadata": {
        "id": "F1tkMXwm2q4P"
      },
      "source": [
        "from sklearn.preprocessing import LabelEncoder\n",
        "label_encoder = LabelEncoder()"
      ],
      "execution_count": 605,
      "outputs": []
    },
    {
      "cell_type": "markdown",
      "metadata": {
        "id": "H3f1DUL3kn57"
      },
      "source": [
        "# Function"
      ]
    },
    {
      "cell_type": "markdown",
      "metadata": {
        "id": "v2VFbBMHjUGr"
      },
      "source": [
        "$w = (X^{T}.X)^{-1}.X^{T}.y$"
      ]
    },
    {
      "cell_type": "code",
      "metadata": {
        "id": "YSQmPNgRjUGu"
      },
      "source": [
        "def model(Xtrain, Ytrain):\n",
        "  return np.linalg.inv(Xtrain.T @ Xtrain) @ Xtrain.T @ Ytrain"
      ],
      "execution_count": 606,
      "outputs": []
    },
    {
      "cell_type": "code",
      "metadata": {
        "id": "3AXVAngbcn5o"
      },
      "source": [
        "def perdict_normal_equaltion(Xtest, w, size):\n",
        "  w = w.reshape(size, -1)\n",
        "  return Xtest @ w"
      ],
      "execution_count": 607,
      "outputs": []
    },
    {
      "cell_type": "code",
      "metadata": {
        "id": "TSmIeUQyj7nZ"
      },
      "source": [
        "def evaluate_model(Ytest, pred):\n",
        "  from sklearn.metrics import mean_squared_error\n",
        "  print('MSE: ', mean_squared_error(Ytest, pre))\n",
        "  from sklearn.metrics import r2_score\n",
        "  print('R2_Score: {}%'.format(np.round(r2_score(Ytest, pre), 2) * 100))"
      ],
      "execution_count": 608,
      "outputs": []
    },
    {
      "cell_type": "code",
      "metadata": {
        "id": "8K98hYOTKzGA"
      },
      "source": [
        "def remove_outlier_boxplot(df, feature):\n",
        "  # compute Q1 & Q3\n",
        "  Q1 = df[feature].quantile(0.25)\n",
        "  Q3 = df[feature].quantile(0.75)\n",
        "  # compute low_fence & up_fence\n",
        "  IQR = Q3 - Q1\n",
        "  low_fence = Q1 - 1.5 * IQR\n",
        "  up_fence = Q3 + 1.5 * IQR\n",
        "  # remove outliers\n",
        "  return df[(df[feature] < up_fence) & (df[feature] > low_fence)]"
      ],
      "execution_count": 609,
      "outputs": []
    },
    {
      "cell_type": "markdown",
      "metadata": {
        "id": "Oynx3f5mENSP"
      },
      "source": [
        "# II. Apply for dataset"
      ]
    },
    {
      "cell_type": "markdown",
      "metadata": {
        "id": "myPW2RtFEX9J"
      },
      "source": [
        "## 1. Dataset fish"
      ]
    },
    {
      "cell_type": "markdown",
      "metadata": {
        "id": "55VCT6sojHA4"
      },
      "source": [
        "###1. Preprocessing data & Create dataset\n"
      ]
    },
    {
      "cell_type": "code",
      "metadata": {
        "id": "5078huFxD9iB"
      },
      "source": [
        "df = pd.read_csv('fish.csv')"
      ],
      "execution_count": 610,
      "outputs": []
    },
    {
      "cell_type": "code",
      "metadata": {
        "colab": {
          "base_uri": "https://localhost:8080/",
          "height": 423
        },
        "id": "chORO-INEmaV",
        "outputId": "96eaf894-2ab7-436c-d67f-dade2e89cfd2"
      },
      "source": [
        "df"
      ],
      "execution_count": 611,
      "outputs": [
        {
          "output_type": "execute_result",
          "data": {
            "text/html": [
              "<div>\n",
              "<style scoped>\n",
              "    .dataframe tbody tr th:only-of-type {\n",
              "        vertical-align: middle;\n",
              "    }\n",
              "\n",
              "    .dataframe tbody tr th {\n",
              "        vertical-align: top;\n",
              "    }\n",
              "\n",
              "    .dataframe thead th {\n",
              "        text-align: right;\n",
              "    }\n",
              "</style>\n",
              "<table border=\"1\" class=\"dataframe\">\n",
              "  <thead>\n",
              "    <tr style=\"text-align: right;\">\n",
              "      <th></th>\n",
              "      <th>Species</th>\n",
              "      <th>Weight</th>\n",
              "      <th>Length1</th>\n",
              "      <th>Length2</th>\n",
              "      <th>Length3</th>\n",
              "      <th>Height</th>\n",
              "      <th>Width</th>\n",
              "    </tr>\n",
              "  </thead>\n",
              "  <tbody>\n",
              "    <tr>\n",
              "      <th>0</th>\n",
              "      <td>Bream</td>\n",
              "      <td>242.0</td>\n",
              "      <td>23.2</td>\n",
              "      <td>25.4</td>\n",
              "      <td>30.0</td>\n",
              "      <td>11.5200</td>\n",
              "      <td>4.0200</td>\n",
              "    </tr>\n",
              "    <tr>\n",
              "      <th>1</th>\n",
              "      <td>Bream</td>\n",
              "      <td>290.0</td>\n",
              "      <td>24.0</td>\n",
              "      <td>26.3</td>\n",
              "      <td>31.2</td>\n",
              "      <td>12.4800</td>\n",
              "      <td>4.3056</td>\n",
              "    </tr>\n",
              "    <tr>\n",
              "      <th>2</th>\n",
              "      <td>Bream</td>\n",
              "      <td>340.0</td>\n",
              "      <td>23.9</td>\n",
              "      <td>26.5</td>\n",
              "      <td>31.1</td>\n",
              "      <td>12.3778</td>\n",
              "      <td>4.6961</td>\n",
              "    </tr>\n",
              "    <tr>\n",
              "      <th>3</th>\n",
              "      <td>Bream</td>\n",
              "      <td>363.0</td>\n",
              "      <td>26.3</td>\n",
              "      <td>29.0</td>\n",
              "      <td>33.5</td>\n",
              "      <td>12.7300</td>\n",
              "      <td>4.4555</td>\n",
              "    </tr>\n",
              "    <tr>\n",
              "      <th>4</th>\n",
              "      <td>Bream</td>\n",
              "      <td>430.0</td>\n",
              "      <td>26.5</td>\n",
              "      <td>29.0</td>\n",
              "      <td>34.0</td>\n",
              "      <td>12.4440</td>\n",
              "      <td>5.1340</td>\n",
              "    </tr>\n",
              "    <tr>\n",
              "      <th>...</th>\n",
              "      <td>...</td>\n",
              "      <td>...</td>\n",
              "      <td>...</td>\n",
              "      <td>...</td>\n",
              "      <td>...</td>\n",
              "      <td>...</td>\n",
              "      <td>...</td>\n",
              "    </tr>\n",
              "    <tr>\n",
              "      <th>154</th>\n",
              "      <td>Smelt</td>\n",
              "      <td>12.2</td>\n",
              "      <td>11.5</td>\n",
              "      <td>12.2</td>\n",
              "      <td>13.4</td>\n",
              "      <td>2.0904</td>\n",
              "      <td>1.3936</td>\n",
              "    </tr>\n",
              "    <tr>\n",
              "      <th>155</th>\n",
              "      <td>Smelt</td>\n",
              "      <td>13.4</td>\n",
              "      <td>11.7</td>\n",
              "      <td>12.4</td>\n",
              "      <td>13.5</td>\n",
              "      <td>2.4300</td>\n",
              "      <td>1.2690</td>\n",
              "    </tr>\n",
              "    <tr>\n",
              "      <th>156</th>\n",
              "      <td>Smelt</td>\n",
              "      <td>12.2</td>\n",
              "      <td>12.1</td>\n",
              "      <td>13.0</td>\n",
              "      <td>13.8</td>\n",
              "      <td>2.2770</td>\n",
              "      <td>1.2558</td>\n",
              "    </tr>\n",
              "    <tr>\n",
              "      <th>157</th>\n",
              "      <td>Smelt</td>\n",
              "      <td>19.7</td>\n",
              "      <td>13.2</td>\n",
              "      <td>14.3</td>\n",
              "      <td>15.2</td>\n",
              "      <td>2.8728</td>\n",
              "      <td>2.0672</td>\n",
              "    </tr>\n",
              "    <tr>\n",
              "      <th>158</th>\n",
              "      <td>Smelt</td>\n",
              "      <td>19.9</td>\n",
              "      <td>13.8</td>\n",
              "      <td>15.0</td>\n",
              "      <td>16.2</td>\n",
              "      <td>2.9322</td>\n",
              "      <td>1.8792</td>\n",
              "    </tr>\n",
              "  </tbody>\n",
              "</table>\n",
              "<p>159 rows × 7 columns</p>\n",
              "</div>"
            ],
            "text/plain": [
              "    Species  Weight  Length1  Length2  Length3   Height   Width\n",
              "0     Bream   242.0     23.2     25.4     30.0  11.5200  4.0200\n",
              "1     Bream   290.0     24.0     26.3     31.2  12.4800  4.3056\n",
              "2     Bream   340.0     23.9     26.5     31.1  12.3778  4.6961\n",
              "3     Bream   363.0     26.3     29.0     33.5  12.7300  4.4555\n",
              "4     Bream   430.0     26.5     29.0     34.0  12.4440  5.1340\n",
              "..      ...     ...      ...      ...      ...      ...     ...\n",
              "154   Smelt    12.2     11.5     12.2     13.4   2.0904  1.3936\n",
              "155   Smelt    13.4     11.7     12.4     13.5   2.4300  1.2690\n",
              "156   Smelt    12.2     12.1     13.0     13.8   2.2770  1.2558\n",
              "157   Smelt    19.7     13.2     14.3     15.2   2.8728  2.0672\n",
              "158   Smelt    19.9     13.8     15.0     16.2   2.9322  1.8792\n",
              "\n",
              "[159 rows x 7 columns]"
            ]
          },
          "metadata": {},
          "execution_count": 611
        }
      ]
    },
    {
      "cell_type": "code",
      "metadata": {
        "id": "5HYcIC-2IwmQ"
      },
      "source": [
        "features = ['Species', 'Length1', 'Length2','Length3', 'Height', 'Width', 'Weight']"
      ],
      "execution_count": 612,
      "outputs": []
    },
    {
      "cell_type": "code",
      "metadata": {
        "colab": {
          "base_uri": "https://localhost:8080/"
        },
        "id": "QStTjv4qqcO5",
        "outputId": "1c1aebaf-9f08-4677-e43f-1f5ec357fe50"
      },
      "source": [
        "print('mean Length1: ', df.Length1.mean())\n",
        "print('mean Width: ', df.Width.mean())"
      ],
      "execution_count": 613,
      "outputs": [
        {
          "output_type": "stream",
          "name": "stdout",
          "text": [
            "mean Length1:  26.24716981132075\n",
            "mean Width:  4.417485534591194\n"
          ]
        }
      ]
    },
    {
      "cell_type": "markdown",
      "metadata": {
        "id": "R9LpAkIHpY1m"
      },
      "source": [
        "Data của các columns chênh nhau một lượng tương đối nhiều. Ví dụ Length1 vs width. Việc có sự chênh lệch này có thể gây ảnh hưởng xấu trong mô hình.\n",
        "\n",
        "Ví dụ: Trọng số của Length1 là a, của width là b. Khi a tăng 1 đơn vị thì kết quả tăng khoảng 25.4, còn làm điều tương tự với b thì kết quả chỉ tăng 4.3.\n",
        "\n",
        "Mình sẽ thử Standard data để giảm sự chênh lệch này."
      ]
    },
    {
      "cell_type": "code",
      "metadata": {
        "id": "dJ068cE_oALh"
      },
      "source": [
        "for i in range(1, len(features) -1):\n",
        "  df[[features[i]]] = standard_scaler.fit_transform(df[[features[i]]])"
      ],
      "execution_count": 614,
      "outputs": []
    },
    {
      "cell_type": "code",
      "metadata": {
        "id": "9sbjr8S8OSz9"
      },
      "source": [
        "train, test = train_test_split(df, test_size = 0.3)"
      ],
      "execution_count": 615,
      "outputs": []
    },
    {
      "cell_type": "code",
      "metadata": {
        "colab": {
          "base_uri": "https://localhost:8080/"
        },
        "id": "92pHfnH9Em7v",
        "outputId": "baf3d791-9c9f-4ba5-ac3b-0dede2dceb39"
      },
      "source": [
        "train.info()"
      ],
      "execution_count": 616,
      "outputs": [
        {
          "output_type": "stream",
          "name": "stdout",
          "text": [
            "<class 'pandas.core.frame.DataFrame'>\n",
            "Int64Index: 111 entries, 102 to 21\n",
            "Data columns (total 7 columns):\n",
            " #   Column   Non-Null Count  Dtype  \n",
            "---  ------   --------------  -----  \n",
            " 0   Species  111 non-null    object \n",
            " 1   Weight   111 non-null    float64\n",
            " 2   Length1  111 non-null    float64\n",
            " 3   Length2  111 non-null    float64\n",
            " 4   Length3  111 non-null    float64\n",
            " 5   Height   111 non-null    float64\n",
            " 6   Width    111 non-null    float64\n",
            "dtypes: float64(6), object(1)\n",
            "memory usage: 6.9+ KB\n"
          ]
        }
      ]
    },
    {
      "cell_type": "code",
      "metadata": {
        "id": "OvFuSyL8LvgB"
      },
      "source": [
        "for i in range(1, len(features) -1):\n",
        "  train = remove_outlier_boxplot(train, features[i])"
      ],
      "execution_count": 617,
      "outputs": []
    },
    {
      "cell_type": "code",
      "metadata": {
        "colab": {
          "base_uri": "https://localhost:8080/",
          "height": 479
        },
        "id": "xTtuRM26N0gS",
        "outputId": "23086535-2882-40e9-c804-c9182ed1bb78"
      },
      "source": [
        "figure, axes = plt.subplots(2, 3, sharex=True, figsize=(7,7))\n",
        "figure.suptitle('BOXPLOT')\n",
        "axes[0][0].boxplot(train[features[1]])\n",
        "axes[0][1].boxplot(train[features[2]])\n",
        "axes[0][2].boxplot(train[features[3]])\n",
        "axes[1][0].boxplot(train[features[4]])\n",
        "axes[1][1].boxplot(train[features[5]]);"
      ],
      "execution_count": 618,
      "outputs": [
        {
          "output_type": "display_data",
          "data": {
            "image/png": "[encoded data removed]",
            "text/plain": [
              "<Figure size 504x504 with 6 Axes>"
            ]
          },
          "metadata": {
            "needs_background": "light"
          }
        }
      ]
    },
    {
      "cell_type": "markdown",
      "metadata": {
        "id": "Cm6pwoeJQ8J0"
      },
      "source": [
        "Nhận Xét: Các outlier đã bị loại bỏ ra khỏi dataframe"
      ]
    },
    {
      "cell_type": "code",
      "metadata": {
        "colab": {
          "base_uri": "https://localhost:8080/"
        },
        "id": "XOw4ri3oOqjH",
        "outputId": "fae2a53c-7d91-4566-8238-37eaf8bf3b98"
      },
      "source": [
        "train.info()"
      ],
      "execution_count": 619,
      "outputs": [
        {
          "output_type": "stream",
          "name": "stdout",
          "text": [
            "<class 'pandas.core.frame.DataFrame'>\n",
            "Int64Index: 109 entries, 102 to 21\n",
            "Data columns (total 7 columns):\n",
            " #   Column   Non-Null Count  Dtype  \n",
            "---  ------   --------------  -----  \n",
            " 0   Species  109 non-null    object \n",
            " 1   Weight   109 non-null    float64\n",
            " 2   Length1  109 non-null    float64\n",
            " 3   Length2  109 non-null    float64\n",
            " 4   Length3  109 non-null    float64\n",
            " 5   Height   109 non-null    float64\n",
            " 6   Width    109 non-null    float64\n",
            "dtypes: float64(6), object(1)\n",
            "memory usage: 6.8+ KB\n"
          ]
        }
      ]
    },
    {
      "cell_type": "code",
      "metadata": {
        "id": "KpK0hbtWSo-p"
      },
      "source": [
        "Xtrain = train[features[1:6]]\n",
        "ytrain = train[features[-1]]\n",
        "\n",
        "Xtest = test[features[1:6]]\n",
        "ytest = test[features[-1]]"
      ],
      "execution_count": 620,
      "outputs": []
    },
    {
      "cell_type": "code",
      "metadata": {
        "id": "nSI5RTdqcvzu"
      },
      "source": [
        "one = np.ones((Xtrain.shape[0], 1))\n",
        "Xtrain = np.concatenate((one, Xtrain), axis = 1)\n",
        "\n",
        "one = np.ones((Xtest.shape[0], 1))\n",
        "Xtest = np.concatenate((one, Xtest), axis = 1)"
      ],
      "execution_count": 621,
      "outputs": []
    },
    {
      "cell_type": "markdown",
      "metadata": {
        "id": "j5-GCth7jYFv"
      },
      "source": [
        "###2. Train model"
      ]
    },
    {
      "cell_type": "code",
      "metadata": {
        "id": "Io69a6fkbmxi"
      },
      "source": [
        "W = model(Xtrain, ytrain)"
      ],
      "execution_count": 622,
      "outputs": []
    },
    {
      "cell_type": "code",
      "metadata": {
        "id": "oKcBjwXYejH5"
      },
      "source": [
        "pre = perdict_normal_equaltion(Xtest, W, 6)"
      ],
      "execution_count": 623,
      "outputs": []
    },
    {
      "cell_type": "code",
      "metadata": {
        "id": "sYRhMfkYfPJW",
        "colab": {
          "base_uri": "https://localhost:8080/",
          "height": 433
        },
        "outputId": "8fde37b0-ca05-4ff8-95cb-57add010f0b1"
      },
      "source": [
        "Xpre = np.arange(ytest.shape[0])\n",
        "plt.figure(figsize=(15,7))\n",
        "plt.plot(Xpre, ytest, color = 'r')\n",
        "plt.plot(Xpre, pre, color= 'g')"
      ],
      "execution_count": 624,
      "outputs": [
        {
          "output_type": "execute_result",
          "data": {
            "text/plain": [
              "[<matplotlib.lines.Line2D at 0x7f62df1dfc50>]"
            ]
          },
          "metadata": {},
          "execution_count": 624
        },
        {
          "output_type": "display_data",
          "data": {
            "image/png": "[encoded data removed]",
            "text/plain": [
              "<Figure size 1080x504 with 1 Axes>"
            ]
          },
          "metadata": {
            "needs_background": "light"
          }
        }
      ]
    },
    {
      "cell_type": "markdown",
      "metadata": {
        "id": "WiCmftKXjlAf"
      },
      "source": [
        "### 3. Evaluate"
      ]
    },
    {
      "cell_type": "code",
      "metadata": {
        "id": "8ZH5Ai1NkNJk",
        "colab": {
          "base_uri": "https://localhost:8080/"
        },
        "outputId": "8940ff12-7d1f-4b2c-daa6-4519f5f3a9c5"
      },
      "source": [
        "evaluate_model(ytest, pre)"
      ],
      "execution_count": 625,
      "outputs": [
        {
          "output_type": "stream",
          "name": "stdout",
          "text": [
            "MSE:  23871.574212105566\n",
            "R2_Score: 82.0%\n"
          ]
        }
      ]
    },
    {
      "cell_type": "markdown",
      "metadata": {
        "id": "GvmKSw9Rz7xv"
      },
      "source": [
        "## 2. Dataset insurance"
      ]
    },
    {
      "cell_type": "markdown",
      "metadata": {
        "id": "O4ibEi8k0PFq"
      },
      "source": [
        "###1. Preprocessing data & Create dataset\n"
      ]
    },
    {
      "cell_type": "code",
      "metadata": {
        "id": "HTRDgren0PFq"
      },
      "source": [
        "df = pd.read_csv('insurance.csv')"
      ],
      "execution_count": 626,
      "outputs": []
    },
    {
      "cell_type": "code",
      "metadata": {
        "id": "vWEaQPz00PFq",
        "colab": {
          "base_uri": "https://localhost:8080/",
          "height": 112
        },
        "outputId": "a9bdc2cd-ef04-42f6-c75a-8534c5b96e3c"
      },
      "source": [
        "df.head(2)"
      ],
      "execution_count": 627,
      "outputs": [
        {
          "output_type": "execute_result",
          "data": {
            "text/html": [
              "<div>\n",
              "<style scoped>\n",
              "    .dataframe tbody tr th:only-of-type {\n",
              "        vertical-align: middle;\n",
              "    }\n",
              "\n",
              "    .dataframe tbody tr th {\n",
              "        vertical-align: top;\n",
              "    }\n",
              "\n",
              "    .dataframe thead th {\n",
              "        text-align: right;\n",
              "    }\n",
              "</style>\n",
              "<table border=\"1\" class=\"dataframe\">\n",
              "  <thead>\n",
              "    <tr style=\"text-align: right;\">\n",
              "      <th></th>\n",
              "      <th>age</th>\n",
              "      <th>sex</th>\n",
              "      <th>bmi</th>\n",
              "      <th>children</th>\n",
              "      <th>smoker</th>\n",
              "      <th>region</th>\n",
              "      <th>charges</th>\n",
              "    </tr>\n",
              "  </thead>\n",
              "  <tbody>\n",
              "    <tr>\n",
              "      <th>0</th>\n",
              "      <td>19</td>\n",
              "      <td>female</td>\n",
              "      <td>27.90</td>\n",
              "      <td>0</td>\n",
              "      <td>yes</td>\n",
              "      <td>southwest</td>\n",
              "      <td>16884.9240</td>\n",
              "    </tr>\n",
              "    <tr>\n",
              "      <th>1</th>\n",
              "      <td>18</td>\n",
              "      <td>male</td>\n",
              "      <td>33.77</td>\n",
              "      <td>1</td>\n",
              "      <td>no</td>\n",
              "      <td>southeast</td>\n",
              "      <td>1725.5523</td>\n",
              "    </tr>\n",
              "  </tbody>\n",
              "</table>\n",
              "</div>"
            ],
            "text/plain": [
              "   age     sex    bmi  children smoker     region     charges\n",
              "0   19  female  27.90         0    yes  southwest  16884.9240\n",
              "1   18    male  33.77         1     no  southeast   1725.5523"
            ]
          },
          "metadata": {},
          "execution_count": 627
        }
      ]
    },
    {
      "cell_type": "code",
      "metadata": {
        "id": "zvYj6u4lsFwa"
      },
      "source": [
        "features = ['age', 'sex', 'bmi', 'children', 'smoker', 'region', 'charges']"
      ],
      "execution_count": 628,
      "outputs": []
    },
    {
      "cell_type": "code",
      "metadata": {
        "id": "T5BUP1YE2sJ5"
      },
      "source": [
        "for i in [1, 4, 5]:\n",
        "  df[features[i]] = label_encoder.fit_transform(df[features[i]])"
      ],
      "execution_count": 629,
      "outputs": []
    },
    {
      "cell_type": "code",
      "metadata": {
        "id": "oEPojlTI0PFr"
      },
      "source": [
        "df[['age']] = standard_scaler.fit_transform(df[['age']])\n",
        "df[['bmi']] = standard_scaler.fit_transform(df[['bmi']])"
      ],
      "execution_count": 630,
      "outputs": []
    },
    {
      "cell_type": "code",
      "metadata": {
        "id": "1gXuBHXspWML"
      },
      "source": [
        "train, test = train_test_split(df, test_size= 0.3)"
      ],
      "execution_count": 631,
      "outputs": []
    },
    {
      "cell_type": "code",
      "metadata": {
        "id": "Gt9A5pZ50PFq",
        "colab": {
          "base_uri": "https://localhost:8080/"
        },
        "outputId": "7e151879-d4ef-45e8-d005-3bcf07ba8b01"
      },
      "source": [
        "train.info()"
      ],
      "execution_count": 632,
      "outputs": [
        {
          "output_type": "stream",
          "name": "stdout",
          "text": [
            "<class 'pandas.core.frame.DataFrame'>\n",
            "Int64Index: 936 entries, 995 to 113\n",
            "Data columns (total 7 columns):\n",
            " #   Column    Non-Null Count  Dtype  \n",
            "---  ------    --------------  -----  \n",
            " 0   age       936 non-null    float64\n",
            " 1   sex       936 non-null    int64  \n",
            " 2   bmi       936 non-null    float64\n",
            " 3   children  936 non-null    int64  \n",
            " 4   smoker    936 non-null    int64  \n",
            " 5   region    936 non-null    int64  \n",
            " 6   charges   936 non-null    float64\n",
            "dtypes: float64(3), int64(4)\n",
            "memory usage: 58.5 KB\n"
          ]
        }
      ]
    },
    {
      "cell_type": "code",
      "metadata": {
        "id": "J68jJ-W50PFr"
      },
      "source": [
        "Xtrain = train[features[:6]]\n",
        "Xtest = test[features[:6]]\n",
        "\n",
        "# Thấy giá trị của Label quá lớn so với dữ liệu trong tập X. Nên chuẩn hóa nó theo đơn vị nghìn.\n",
        "ytrain = train[features[-1]] /1000\n",
        "ytest = test[features[-1]] /1000"
      ],
      "execution_count": 633,
      "outputs": []
    },
    {
      "cell_type": "code",
      "metadata": {
        "id": "faWd2Agn0PFr"
      },
      "source": [
        "one = np.ones((Xtrain.shape[0], 1))\n",
        "Xtrain = np.concatenate((one, Xtrain), axis = 1)\n",
        "\n",
        "one = np.ones((Xtest.shape[0], 1))\n",
        "Xtest = np.concatenate((one, Xtest), axis = 1)"
      ],
      "execution_count": 634,
      "outputs": []
    },
    {
      "cell_type": "code",
      "metadata": {
        "id": "CmmqWL2ybEfV"
      },
      "source": [
        "Xtrain = np.array(Xtrain).reshape(-1, 7)\n",
        "Xtest = np.array(Xtest).reshape(-1, 7)\n",
        "ytrain = np.array(ytrain).reshape(-1, 1)\n",
        "ytest = np.array(ytest).reshape(-1, 1)"
      ],
      "execution_count": 635,
      "outputs": []
    },
    {
      "cell_type": "markdown",
      "metadata": {
        "id": "riELEMfQ0PFr"
      },
      "source": [
        "###3. Train model"
      ]
    },
    {
      "cell_type": "code",
      "metadata": {
        "id": "FcjoekV20PFs"
      },
      "source": [
        "W = model(Xtrain, ytrain)"
      ],
      "execution_count": 636,
      "outputs": []
    },
    {
      "cell_type": "code",
      "metadata": {
        "id": "tsaN_nO20PFs",
        "colab": {
          "base_uri": "https://localhost:8080/"
        },
        "outputId": "239c0cdf-cfe3-4078-a492-69bcbf900916"
      },
      "source": [
        "print(W)"
      ],
      "execution_count": 637,
      "outputs": [
        {
          "output_type": "stream",
          "name": "stdout",
          "text": [
            "[[ 8.49829786]\n",
            " [ 3.55799734]\n",
            " [-0.24141558]\n",
            " [ 1.98356311]\n",
            " [ 0.37135042]\n",
            " [23.97196293]\n",
            " [-0.27675149]]\n"
          ]
        }
      ]
    },
    {
      "cell_type": "code",
      "metadata": {
        "id": "J44nZr1U0PFs"
      },
      "source": [
        "pre = perdict_normal_equaltion(Xtest, W, 7)"
      ],
      "execution_count": 638,
      "outputs": []
    },
    {
      "cell_type": "markdown",
      "metadata": {
        "id": "buYamv-L0PFs"
      },
      "source": [
        "### 4. Evaluate"
      ]
    },
    {
      "cell_type": "code",
      "metadata": {
        "colab": {
          "base_uri": "https://localhost:8080/"
        },
        "id": "d-ACjO-FqrL0",
        "outputId": "9d2ab222-655e-4965-e3b2-defcbb3803cd"
      },
      "source": [
        "evaluate_model(ytest, pre)"
      ],
      "execution_count": 639,
      "outputs": [
        {
          "output_type": "stream",
          "name": "stdout",
          "text": [
            "MSE:  34.29816628379664\n",
            "R2_Score: 75.0%\n"
          ]
        }
      ]
    },
    {
      "cell_type": "markdown",
      "metadata": {
        "id": "RmcWff4nBoOO"
      },
      "source": [
        "## 3. Dataset wine"
      ]
    },
    {
      "cell_type": "markdown",
      "metadata": {
        "id": "sRQfpFfNB92Q"
      },
      "source": [
        "###1. Preprocessing data & Create dataset\n"
      ]
    },
    {
      "cell_type": "code",
      "metadata": {
        "id": "I6kxiFHnB92R"
      },
      "source": [
        "df = pd.read_csv('wine.csv')"
      ],
      "execution_count": 640,
      "outputs": []
    },
    {
      "cell_type": "code",
      "metadata": {
        "id": "KkKObRwfB92R",
        "colab": {
          "base_uri": "https://localhost:8080/",
          "height": 147
        },
        "outputId": "b17d7f5e-09a9-4cb5-d488-d70e444c8ad4"
      },
      "source": [
        "df.head(2)"
      ],
      "execution_count": 641,
      "outputs": [
        {
          "output_type": "execute_result",
          "data": {
            "text/html": [
              "<div>\n",
              "<style scoped>\n",
              "    .dataframe tbody tr th:only-of-type {\n",
              "        vertical-align: middle;\n",
              "    }\n",
              "\n",
              "    .dataframe tbody tr th {\n",
              "        vertical-align: top;\n",
              "    }\n",
              "\n",
              "    .dataframe thead th {\n",
              "        text-align: right;\n",
              "    }\n",
              "</style>\n",
              "<table border=\"1\" class=\"dataframe\">\n",
              "  <thead>\n",
              "    <tr style=\"text-align: right;\">\n",
              "      <th></th>\n",
              "      <th>fixed acidity</th>\n",
              "      <th>volatile acidity</th>\n",
              "      <th>citric acid</th>\n",
              "      <th>residual sugar</th>\n",
              "      <th>chlorides</th>\n",
              "      <th>free sulfur dioxide</th>\n",
              "      <th>total sulfur dioxide</th>\n",
              "      <th>density</th>\n",
              "      <th>pH</th>\n",
              "      <th>sulphates</th>\n",
              "      <th>alcohol</th>\n",
              "      <th>quality</th>\n",
              "    </tr>\n",
              "  </thead>\n",
              "  <tbody>\n",
              "    <tr>\n",
              "      <th>0</th>\n",
              "      <td>7.4</td>\n",
              "      <td>0.70</td>\n",
              "      <td>0.0</td>\n",
              "      <td>1.9</td>\n",
              "      <td>0.076</td>\n",
              "      <td>11.0</td>\n",
              "      <td>34.0</td>\n",
              "      <td>0.9978</td>\n",
              "      <td>3.51</td>\n",
              "      <td>0.56</td>\n",
              "      <td>9.4</td>\n",
              "      <td>5</td>\n",
              "    </tr>\n",
              "    <tr>\n",
              "      <th>1</th>\n",
              "      <td>7.8</td>\n",
              "      <td>0.88</td>\n",
              "      <td>0.0</td>\n",
              "      <td>2.6</td>\n",
              "      <td>0.098</td>\n",
              "      <td>25.0</td>\n",
              "      <td>67.0</td>\n",
              "      <td>0.9968</td>\n",
              "      <td>3.20</td>\n",
              "      <td>0.68</td>\n",
              "      <td>9.8</td>\n",
              "      <td>5</td>\n",
              "    </tr>\n",
              "  </tbody>\n",
              "</table>\n",
              "</div>"
            ],
            "text/plain": [
              "   fixed acidity  volatile acidity  citric acid  ...  sulphates  alcohol  quality\n",
              "0            7.4              0.70          0.0  ...       0.56      9.4        5\n",
              "1            7.8              0.88          0.0  ...       0.68      9.8        5\n",
              "\n",
              "[2 rows x 12 columns]"
            ]
          },
          "metadata": {},
          "execution_count": 641
        }
      ]
    },
    {
      "cell_type": "code",
      "metadata": {
        "id": "XnHYLQbq26OT"
      },
      "source": [
        "df['total sulfur dioxide'] /= max(df['total sulfur dioxide'])"
      ],
      "execution_count": 642,
      "outputs": []
    },
    {
      "cell_type": "code",
      "metadata": {
        "id": "5_fpPVVTCLgF",
        "colab": {
          "base_uri": "https://localhost:8080/"
        },
        "outputId": "9e25911f-79ef-432c-da49-8d6e26cee848"
      },
      "source": [
        "df.info()"
      ],
      "execution_count": 643,
      "outputs": [
        {
          "output_type": "stream",
          "name": "stdout",
          "text": [
            "<class 'pandas.core.frame.DataFrame'>\n",
            "RangeIndex: 1599 entries, 0 to 1598\n",
            "Data columns (total 12 columns):\n",
            " #   Column                Non-Null Count  Dtype  \n",
            "---  ------                --------------  -----  \n",
            " 0   fixed acidity         1599 non-null   float64\n",
            " 1   volatile acidity      1599 non-null   float64\n",
            " 2   citric acid           1599 non-null   float64\n",
            " 3   residual sugar        1599 non-null   float64\n",
            " 4   chlorides             1599 non-null   float64\n",
            " 5   free sulfur dioxide   1599 non-null   float64\n",
            " 6   total sulfur dioxide  1599 non-null   float64\n",
            " 7   density               1599 non-null   float64\n",
            " 8   pH                    1599 non-null   float64\n",
            " 9   sulphates             1599 non-null   float64\n",
            " 10  alcohol               1599 non-null   float64\n",
            " 11  quality               1599 non-null   int64  \n",
            "dtypes: float64(11), int64(1)\n",
            "memory usage: 150.0 KB\n"
          ]
        }
      ]
    },
    {
      "cell_type": "code",
      "metadata": {
        "id": "PzaCMbx9B92R"
      },
      "source": [
        "features = ['fixed acidity', 'volatile acidity', 'citric acid', 'residual sugar', 'chlorides', 'free sulfur dioxide', 'total sulfur dioxide', 'density', 'pH', 'sulphates', 'alcohol', 'quality']"
      ],
      "execution_count": 644,
      "outputs": []
    },
    {
      "cell_type": "code",
      "metadata": {
        "id": "hZCHStMlB92T"
      },
      "source": [
        "from sklearn.preprocessing import StandardScaler\n",
        "standard_scaler = StandardScaler()"
      ],
      "execution_count": 645,
      "outputs": []
    },
    {
      "cell_type": "code",
      "metadata": {
        "id": "6nYQScouB92T"
      },
      "source": [
        "for i in [5, 6]:\n",
        "  df[[features[i]]] = standard_scaler.fit_transform(df[[features[i]]])"
      ],
      "execution_count": 646,
      "outputs": []
    },
    {
      "cell_type": "code",
      "metadata": {
        "id": "BLugQpUjvA5C"
      },
      "source": [
        "train, test = train_test_split(df, test_size= 0.3)"
      ],
      "execution_count": 647,
      "outputs": []
    },
    {
      "cell_type": "code",
      "metadata": {
        "id": "TdC-nmkiB92S"
      },
      "source": [
        "for count in range(5):\n",
        "  for i in range(len(features) -1):\n",
        "    train = remove_outlier_boxplot(train, features[i])"
      ],
      "execution_count": 648,
      "outputs": []
    },
    {
      "cell_type": "code",
      "metadata": {
        "id": "Jgrl1_1MB92S",
        "colab": {
          "base_uri": "https://localhost:8080/",
          "height": 479
        },
        "outputId": "6d4b5620-6f98-49c4-de4a-d12cbe6e3ad2"
      },
      "source": [
        "figure, axes = plt.subplots(4, 3, sharex=True, figsize=(7,7))\n",
        "figure.suptitle('BOXPLOT')\n",
        "axes[0][0].boxplot(train[features[0]])\n",
        "axes[0][1].boxplot(train[features[1]])\n",
        "axes[0][2].boxplot(train[features[2]])\n",
        "axes[1][0].boxplot(train[features[3]])\n",
        "axes[1][1].boxplot(train[features[4]])\n",
        "axes[1][2].boxplot(train[features[5]])\n",
        "axes[2][0].boxplot(train[features[6]])\n",
        "axes[2][1].boxplot(train[features[7]])\n",
        "axes[2][2].boxplot(train[features[8]])\n",
        "axes[3][0].boxplot(train[features[9]])\n",
        "axes[3][1].boxplot(train[features[10]]);"
      ],
      "execution_count": 649,
      "outputs": [
        {
          "output_type": "display_data",
          "data": {
            "image/png": "[encoded data removed]",
            "text/plain": [
              "<Figure size 504x504 with 12 Axes>"
            ]
          },
          "metadata": {
            "needs_background": "light"
          }
        }
      ]
    },
    {
      "cell_type": "code",
      "metadata": {
        "id": "_68vA5hWFgsu",
        "colab": {
          "base_uri": "https://localhost:8080/"
        },
        "outputId": "04e2bbc9-fa8b-462b-b205-a0b28ed70896"
      },
      "source": [
        "len(features)"
      ],
      "execution_count": 650,
      "outputs": [
        {
          "output_type": "execute_result",
          "data": {
            "text/plain": [
              "12"
            ]
          },
          "metadata": {},
          "execution_count": 650
        }
      ]
    },
    {
      "cell_type": "code",
      "metadata": {
        "id": "2HfpVGtcB92T"
      },
      "source": [
        "Xtrain = train[features[:len(features) - 1]]\n",
        "ytrain = train[features[-1]]\n",
        "\n",
        "Xtest = test[features[:len(features) - 1]]\n",
        "ytest = test[features[-1]]"
      ],
      "execution_count": 651,
      "outputs": []
    },
    {
      "cell_type": "code",
      "metadata": {
        "id": "IiqU8lv0B92T"
      },
      "source": [
        "one = np.ones((Xtrain.shape[0], 1))\n",
        "Xtrain = np.concatenate((one, Xtrain), axis = 1)\n",
        "\n",
        "one = np.ones((Xtest.shape[0], 1))\n",
        "Xtest = np.concatenate((one, Xtest), axis = 1)"
      ],
      "execution_count": 652,
      "outputs": []
    },
    {
      "cell_type": "code",
      "metadata": {
        "id": "Nv-J4yJDeX5a"
      },
      "source": [
        "Xtrain = np.array(Xtrain).reshape(-1, 12)\n",
        "Xtest = np.array(Xtest).reshape(-1, 12)\n",
        "ytrain = np.array(ytrain).reshape(-1, 1)\n",
        "ytest = np.array(ytest).reshape(-1, 1)"
      ],
      "execution_count": 653,
      "outputs": []
    },
    {
      "cell_type": "markdown",
      "metadata": {
        "id": "gQF4gIv_B92U"
      },
      "source": [
        "###3. Train model"
      ]
    },
    {
      "cell_type": "code",
      "metadata": {
        "id": "q8oZ-LJNB92U"
      },
      "source": [
        "W = model(Xtrain, ytrain)"
      ],
      "execution_count": 654,
      "outputs": []
    },
    {
      "cell_type": "code",
      "metadata": {
        "id": "pgF8eSYjB92U",
        "colab": {
          "base_uri": "https://localhost:8080/"
        },
        "outputId": "9282a7ef-6e23-4e52-85e5-0594dce230fb"
      },
      "source": [
        "print(W)"
      ],
      "execution_count": 655,
      "outputs": [
        {
          "output_type": "stream",
          "name": "stdout",
          "text": [
            "[[ 27.20669977]\n",
            " [  0.0560356 ]\n",
            " [ -1.16231632]\n",
            " [ -0.33242975]\n",
            " [  0.03292518]\n",
            " [ -1.51249185]\n",
            " [  0.04989664]\n",
            " [ -0.10788641]\n",
            " [-23.91016394]\n",
            " [ -0.27052973]\n",
            " [  0.79888541]\n",
            " [  0.28086549]]\n"
          ]
        }
      ]
    },
    {
      "cell_type": "code",
      "metadata": {
        "id": "25xI49a4B92V"
      },
      "source": [
        "pre = perdict_normal_equaltion(Xtest, W, 12)"
      ],
      "execution_count": 656,
      "outputs": []
    },
    {
      "cell_type": "markdown",
      "metadata": {
        "id": "lNgdTVDrB92V"
      },
      "source": [
        "### 4. Evaluate"
      ]
    },
    {
      "cell_type": "code",
      "metadata": {
        "id": "icb2QYQIwTFb",
        "colab": {
          "base_uri": "https://localhost:8080/"
        },
        "outputId": "a7f958f3-fc47-496a-d000-53b60aae4aa4"
      },
      "source": [
        "evaluate_model(ytest, pre)"
      ],
      "execution_count": 657,
      "outputs": [
        {
          "output_type": "stream",
          "name": "stdout",
          "text": [
            "MSE:  0.44520883639300907\n",
            "R2_Score: 33.0%\n"
          ]
        }
      ]
    },
    {
      "cell_type": "markdown",
      "metadata": {
        "id": "r7FKwf0oISzU"
      },
      "source": [
        "Kết quả không khả quan là dường như dữ liệu không phải tuyến tính."
      ]
    },
    {
      "cell_type": "code",
      "metadata": {
        "id": "skJ66v8PHB2s"
      },
      "source": [
        "# for j in range(len(features) -1):\n",
        "#   for i in range(len(features) -1):\n",
        "#     plt.scatter(df[features[j]], df[features[i]])\n",
        "#     plt.show()\n"
      ],
      "execution_count": 658,
      "outputs": []
    },
    {
      "cell_type": "code",
      "metadata": {
        "id": "PosRUzzBHMM9",
        "colab": {
          "base_uri": "https://localhost:8080/",
          "height": 589
        },
        "outputId": "ddf7cffb-4953-4bcd-fbe9-34ea2c536871"
      },
      "source": [
        "f, ax = plt.subplots(figsize=(10, 8))\n",
        "corr = df.corr()\n",
        "sns.heatmap(corr, mask=np.zeros_like(corr, dtype=np.bool), cmap=sns.diverging_palette(220, 10, as_cmap=True),\n",
        "            square=True, ax=ax)"
      ],
      "execution_count": 659,
      "outputs": [
        {
          "output_type": "execute_result",
          "data": {
            "text/plain": [
              "<matplotlib.axes._subplots.AxesSubplot at 0x7f62dc959c50>"
            ]
          },
          "metadata": {},
          "execution_count": 659
        },
        {
          "output_type": "display_data",
          "data": {
            "image/png": "[encoded data removed]",
            "text/plain": [
              "<Figure size 720x576 with 2 Axes>"
            ]
          },
          "metadata": {
            "needs_background": "light"
          }
        }
      ]
    },
    {
      "cell_type": "markdown",
      "metadata": {
        "id": "OIyfZpTqbE4D"
      },
      "source": [
        "Nhận xét: Do dữ liệu phân bố không theo dạng tuyến tính nên kết quả mô hình hồi quy tuyến tính ko cao."
      ]
    },
    {
      "cell_type": "markdown",
      "metadata": {
        "id": "M5WTzi_1bcf9"
      },
      "source": [
        "## Dataset weather"
      ]
    },
    {
      "cell_type": "markdown",
      "metadata": {
        "id": "pfQDlRNbb5mn"
      },
      "source": [
        "###1. Preprocessing data & Create dataset\n"
      ]
    },
    {
      "cell_type": "code",
      "metadata": {
        "id": "O8uGJ_Izb5mo"
      },
      "source": [
        "df = pd.read_csv('weather.csv')"
      ],
      "execution_count": 660,
      "outputs": []
    },
    {
      "cell_type": "code",
      "metadata": {
        "id": "0gyeHaNYb5mp",
        "colab": {
          "base_uri": "https://localhost:8080/",
          "height": 0
        },
        "outputId": "be03a5f2-5bd2-4bd4-95b0-f12b2e250c04"
      },
      "source": [
        "df.head(5)"
      ],
      "execution_count": 661,
      "outputs": [
        {
          "output_type": "execute_result",
          "data": {
            "text/html": [
              "<div>\n",
              "<style scoped>\n",
              "    .dataframe tbody tr th:only-of-type {\n",
              "        vertical-align: middle;\n",
              "    }\n",
              "\n",
              "    .dataframe tbody tr th {\n",
              "        vertical-align: top;\n",
              "    }\n",
              "\n",
              "    .dataframe thead th {\n",
              "        text-align: right;\n",
              "    }\n",
              "</style>\n",
              "<table border=\"1\" class=\"dataframe\">\n",
              "  <thead>\n",
              "    <tr style=\"text-align: right;\">\n",
              "      <th></th>\n",
              "      <th>Temperature_c</th>\n",
              "      <th>Humidity</th>\n",
              "      <th>Wind_Speed_kmh</th>\n",
              "      <th>Wind_Bearing_degrees</th>\n",
              "      <th>Visibility_km</th>\n",
              "      <th>Pressure_millibars</th>\n",
              "      <th>Rain</th>\n",
              "      <th>Description</th>\n",
              "    </tr>\n",
              "  </thead>\n",
              "  <tbody>\n",
              "    <tr>\n",
              "      <th>0</th>\n",
              "      <td>-0.555556</td>\n",
              "      <td>0.92</td>\n",
              "      <td>11.2700</td>\n",
              "      <td>130</td>\n",
              "      <td>8.0500</td>\n",
              "      <td>1021.60</td>\n",
              "      <td>0</td>\n",
              "      <td>Cold</td>\n",
              "    </tr>\n",
              "    <tr>\n",
              "      <th>1</th>\n",
              "      <td>21.111111</td>\n",
              "      <td>0.73</td>\n",
              "      <td>20.9300</td>\n",
              "      <td>330</td>\n",
              "      <td>16.1000</td>\n",
              "      <td>1017.00</td>\n",
              "      <td>1</td>\n",
              "      <td>Warm</td>\n",
              "    </tr>\n",
              "    <tr>\n",
              "      <th>2</th>\n",
              "      <td>16.600000</td>\n",
              "      <td>0.97</td>\n",
              "      <td>5.9731</td>\n",
              "      <td>193</td>\n",
              "      <td>14.9086</td>\n",
              "      <td>1013.99</td>\n",
              "      <td>1</td>\n",
              "      <td>Normal</td>\n",
              "    </tr>\n",
              "    <tr>\n",
              "      <th>3</th>\n",
              "      <td>1.600000</td>\n",
              "      <td>0.82</td>\n",
              "      <td>3.2200</td>\n",
              "      <td>300</td>\n",
              "      <td>16.1000</td>\n",
              "      <td>1031.59</td>\n",
              "      <td>1</td>\n",
              "      <td>Cold</td>\n",
              "    </tr>\n",
              "    <tr>\n",
              "      <th>4</th>\n",
              "      <td>2.194444</td>\n",
              "      <td>0.60</td>\n",
              "      <td>10.8836</td>\n",
              "      <td>116</td>\n",
              "      <td>9.9820</td>\n",
              "      <td>1020.88</td>\n",
              "      <td>1</td>\n",
              "      <td>Cold</td>\n",
              "    </tr>\n",
              "  </tbody>\n",
              "</table>\n",
              "</div>"
            ],
            "text/plain": [
              "   Temperature_c  Humidity  ...  Rain  Description\n",
              "0      -0.555556      0.92  ...     0         Cold\n",
              "1      21.111111      0.73  ...     1         Warm\n",
              "2      16.600000      0.97  ...     1       Normal\n",
              "3       1.600000      0.82  ...     1         Cold\n",
              "4       2.194444      0.60  ...     1         Cold\n",
              "\n",
              "[5 rows x 8 columns]"
            ]
          },
          "metadata": {},
          "execution_count": 661
        }
      ]
    },
    {
      "cell_type": "code",
      "metadata": {
        "id": "vuH8J7kHb5mp"
      },
      "source": [
        "features = ['Temperature_c', 'Humidity', 'Wind_Speed_kmh','Wind_Bearing_degrees', 'Visibility_km', 'Pressure_millibars', 'Rain', 'Description']"
      ],
      "execution_count": 662,
      "outputs": []
    },
    {
      "cell_type": "code",
      "metadata": {
        "id": "l372sd-ab5mp",
        "colab": {
          "base_uri": "https://localhost:8080/"
        },
        "outputId": "eb38417d-50dd-4bb3-d670-56ba1fa531e7"
      },
      "source": [
        "df.info()"
      ],
      "execution_count": 663,
      "outputs": [
        {
          "output_type": "stream",
          "name": "stdout",
          "text": [
            "<class 'pandas.core.frame.DataFrame'>\n",
            "RangeIndex: 10000 entries, 0 to 9999\n",
            "Data columns (total 8 columns):\n",
            " #   Column                Non-Null Count  Dtype  \n",
            "---  ------                --------------  -----  \n",
            " 0   Temperature_c         10000 non-null  float64\n",
            " 1   Humidity              10000 non-null  float64\n",
            " 2   Wind_Speed_kmh        10000 non-null  float64\n",
            " 3   Wind_Bearing_degrees  10000 non-null  int64  \n",
            " 4   Visibility_km         10000 non-null  float64\n",
            " 5   Pressure_millibars    10000 non-null  float64\n",
            " 6   Rain                  10000 non-null  int64  \n",
            " 7   Description           10000 non-null  object \n",
            "dtypes: float64(5), int64(2), object(1)\n",
            "memory usage: 625.1+ KB\n"
          ]
        }
      ]
    },
    {
      "cell_type": "code",
      "metadata": {
        "id": "yP3bczrYf5ZL",
        "colab": {
          "base_uri": "https://localhost:8080/"
        },
        "outputId": "7f5fcb17-0dca-4fa2-b7c0-8ce92184a50a"
      },
      "source": [
        "df[features[-1]] = label_encoder.fit_transform(df[[features[-1]]])"
      ],
      "execution_count": 664,
      "outputs": [
        {
          "output_type": "stream",
          "name": "stderr",
          "text": [
            "/usr/local/lib/python3.7/dist-packages/sklearn/preprocessing/_label.py:251: DataConversionWarning: A column-vector y was passed when a 1d array was expected. Please change the shape of y to (n_samples, ), for example using ravel().\n",
            "  y = column_or_1d(y, warn=True)\n"
          ]
        }
      ]
    },
    {
      "cell_type": "code",
      "metadata": {
        "id": "ZSGl_9Mwyqa0"
      },
      "source": [
        "train, test = train_test_split(df, test_size= 0.3)"
      ],
      "execution_count": 665,
      "outputs": []
    },
    {
      "cell_type": "code",
      "metadata": {
        "id": "6WsOKNd3b5mw"
      },
      "source": [
        "# for i in [3, 5]:\n",
        "#   train[[features[i]]] = standard_scaler.fit_transform(train[[features[i]]])"
      ],
      "execution_count": 666,
      "outputs": []
    },
    {
      "cell_type": "code",
      "metadata": {
        "id": "hjFbdDvq1nz2"
      },
      "source": [
        "for j in range(2):\n",
        "  for i in [0, 1, 2, 3]:\n",
        "    train = remove_outlier_boxplot(train, features[i])"
      ],
      "execution_count": 667,
      "outputs": []
    },
    {
      "cell_type": "code",
      "metadata": {
        "id": "XXthQOaX1yS3",
        "colab": {
          "base_uri": "https://localhost:8080/",
          "height": 0
        },
        "outputId": "5c45d427-f189-48fc-cdd3-f65da9ae1348"
      },
      "source": [
        "figure, axes = plt.subplots(2, 2, sharex=True, figsize=(7,7))\n",
        "figure.suptitle('BOXPLOT')\n",
        "\n",
        "axes[0][0].boxplot(train[features[0]])\n",
        "axes[0][1].boxplot(train[features[1]])\n",
        "axes[1][0].boxplot(train[features[2]])\n",
        "axes[1][1].boxplot(train[features[3]]);"
      ],
      "execution_count": 668,
      "outputs": [
        {
          "output_type": "display_data",
          "data": {
            "image/png": "[encoded data removed]",
            "text/plain": [
              "<Figure size 504x504 with 4 Axes>"
            ]
          },
          "metadata": {
            "needs_background": "light"
          }
        }
      ]
    },
    {
      "cell_type": "code",
      "metadata": {
        "id": "wjCHUu7eb5mt"
      },
      "source": [
        "Xtrain = train[features[1:]]\n",
        "ytrain = train[features[0]]\n",
        "\n",
        "Xtest = test[features[1:]]\n",
        "ytest = test[features[0]]"
      ],
      "execution_count": 669,
      "outputs": []
    },
    {
      "cell_type": "code",
      "metadata": {
        "id": "4N2ZMha2b5mw"
      },
      "source": [
        "one = np.ones((Xtrain.shape[0], 1))\n",
        "Xtrain = np.concatenate((one, Xtrain), axis = 1)\n",
        "\n",
        "one = np.ones((Xtest.shape[0], 1))\n",
        "Xtest = np.concatenate((one, Xtest), axis = 1)"
      ],
      "execution_count": 670,
      "outputs": []
    },
    {
      "cell_type": "code",
      "metadata": {
        "id": "6WSTYjXlBwAx"
      },
      "source": [
        "Xtrain = np.array(Xtrain).reshape(-1, 8)\n",
        "Xtest = np.array(Xtest).reshape(-1, 8)\n",
        "ytrain = np.array(ytrain).reshape(-1, 1)\n",
        "ytest = np.array(ytest).reshape(-1, 1)"
      ],
      "execution_count": 671,
      "outputs": []
    },
    {
      "cell_type": "markdown",
      "metadata": {
        "id": "_UD17_BCb5mx"
      },
      "source": [
        "###2. Train model"
      ]
    },
    {
      "cell_type": "code",
      "metadata": {
        "id": "K6rmnjDmb5my"
      },
      "source": [
        "W = model(Xtrain, ytrain)"
      ],
      "execution_count": 672,
      "outputs": []
    },
    {
      "cell_type": "code",
      "metadata": {
        "id": "RIpL3hocb5my",
        "colab": {
          "base_uri": "https://localhost:8080/"
        },
        "outputId": "276fdefb-5764-4feb-8631-1fc5a94f511d"
      },
      "source": [
        "print(W)"
      ],
      "execution_count": 673,
      "outputs": [
        {
          "output_type": "stream",
          "name": "stdout",
          "text": [
            "[[ 4.97433304e+00]\n",
            " [-9.38926292e+00]\n",
            " [-7.16249786e-02]\n",
            " [ 1.02995484e-03]\n",
            " [ 2.82356825e-02]\n",
            " [ 1.11930281e-04]\n",
            " [ 4.93093834e+00]\n",
            " [ 9.56951382e+00]]\n"
          ]
        }
      ]
    },
    {
      "cell_type": "code",
      "metadata": {
        "id": "kG3ucUhUb5mz"
      },
      "source": [
        "pre = perdict_normal_equaltion(Xtest, W, 8)"
      ],
      "execution_count": 674,
      "outputs": []
    },
    {
      "cell_type": "markdown",
      "metadata": {
        "id": "4uQAbpn6b5m0"
      },
      "source": [
        "### 3. Evaluate"
      ]
    },
    {
      "cell_type": "code",
      "metadata": {
        "id": "WjGCQnwK0Z6r",
        "colab": {
          "base_uri": "https://localhost:8080/"
        },
        "outputId": "aa6fb4ad-2228-4601-de49-600bb59cfcca"
      },
      "source": [
        "evaluate_model(ytest, pre)"
      ],
      "execution_count": 675,
      "outputs": [
        {
          "output_type": "stream",
          "name": "stdout",
          "text": [
            "MSE:  12.703602562476556\n",
            "R2_Score: 86.0%\n"
          ]
        }
      ]
    }
  ]
}