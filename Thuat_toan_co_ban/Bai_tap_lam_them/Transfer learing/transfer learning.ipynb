{
  "nbformat": 4,
  "nbformat_minor": 0,
  "metadata": {
    "colab": {
      "name": "transfer.ipynb",
      "provenance": [],
      "collapsed_sections": [],
      "toc_visible": true
    },
    "kernelspec": {
      "name": "python3",
      "display_name": "Python 3"
    },
    "language_info": {
      "name": "python"
    },
    "accelerator": "GPU",
    "widgets": {
      "application/vnd.jupyter.widget-state+json": {
        "5536ed8ec6144b9f8534f36904957ee0": {
          "model_module": "@jupyter-widgets/controls",
          "model_name": "HBoxModel",
          "model_module_version": "1.5.0",
          "state": {
            "_view_name": "HBoxView",
            "_dom_classes": [],
            "_model_name": "HBoxModel",
            "_view_module": "@jupyter-widgets/controls",
            "_model_module_version": "1.5.0",
            "_view_count": null,
            "_view_module_version": "1.5.0",
            "box_style": "",
            "layout": "IPY_MODEL_96b92e630f4e4c20a970f144fb415dd5",
            "_model_module": "@jupyter-widgets/controls",
            "children": [
              "IPY_MODEL_563e6167917741db8eea6e5e2477478e",
              "IPY_MODEL_58c4797235de41e7915fe6c97dc380e5",
              "IPY_MODEL_58a77996c4f04d3a851f0caa7017067e"
            ]
          }
        },
        "96b92e630f4e4c20a970f144fb415dd5": {
          "model_module": "@jupyter-widgets/base",
          "model_name": "LayoutModel",
          "model_module_version": "1.2.0",
          "state": {
            "_view_name": "LayoutView",
            "grid_template_rows": null,
            "right": null,
            "justify_content": null,
            "_view_module": "@jupyter-widgets/base",
            "overflow": null,
            "_model_module_version": "1.2.0",
            "_view_count": null,
            "flex_flow": null,
            "width": null,
            "min_width": null,
            "border": null,
            "align_items": null,
            "bottom": null,
            "_model_module": "@jupyter-widgets/base",
            "top": null,
            "grid_column": null,
            "overflow_y": null,
            "overflow_x": null,
            "grid_auto_flow": null,
            "grid_area": null,
            "grid_template_columns": null,
            "flex": null,
            "_model_name": "LayoutModel",
            "justify_items": null,
            "grid_row": null,
            "max_height": null,
            "align_content": null,
            "visibility": null,
            "align_self": null,
            "height": null,
            "min_height": null,
            "padding": null,
            "grid_auto_rows": null,
            "grid_gap": null,
            "max_width": null,
            "order": null,
            "_view_module_version": "1.2.0",
            "grid_template_areas": null,
            "object_position": null,
            "object_fit": null,
            "grid_auto_columns": null,
            "margin": null,
            "display": null,
            "left": null
          }
        },
        "563e6167917741db8eea6e5e2477478e": {
          "model_module": "@jupyter-widgets/controls",
          "model_name": "HTMLModel",
          "model_module_version": "1.5.0",
          "state": {
            "_view_name": "HTMLView",
            "style": "IPY_MODEL_300094e8bc994ae282d882132841313c",
            "_dom_classes": [],
            "description": "",
            "_model_name": "HTMLModel",
            "placeholder": "​",
            "_view_module": "@jupyter-widgets/controls",
            "_model_module_version": "1.5.0",
            "value": "100%",
            "_view_count": null,
            "_view_module_version": "1.5.0",
            "description_tooltip": null,
            "_model_module": "@jupyter-widgets/controls",
            "layout": "IPY_MODEL_f85d63c0643540229e15fbfd3d424c5a"
          }
        },
        "58c4797235de41e7915fe6c97dc380e5": {
          "model_module": "@jupyter-widgets/controls",
          "model_name": "FloatProgressModel",
          "model_module_version": "1.5.0",
          "state": {
            "_view_name": "ProgressView",
            "style": "IPY_MODEL_7db239b7ac0746338f396b130abae2a8",
            "_dom_classes": [],
            "description": "",
            "_model_name": "FloatProgressModel",
            "bar_style": "success",
            "max": 553433881,
            "_view_module": "@jupyter-widgets/controls",
            "_model_module_version": "1.5.0",
            "value": 553433881,
            "_view_count": null,
            "_view_module_version": "1.5.0",
            "orientation": "horizontal",
            "min": 0,
            "description_tooltip": null,
            "_model_module": "@jupyter-widgets/controls",
            "layout": "IPY_MODEL_8729c417299b47108d05710a32958b5b"
          }
        },
        "58a77996c4f04d3a851f0caa7017067e": {
          "model_module": "@jupyter-widgets/controls",
          "model_name": "HTMLModel",
          "model_module_version": "1.5.0",
          "state": {
            "_view_name": "HTMLView",
            "style": "IPY_MODEL_2796537f6932471e90fc7569d75f5301",
            "_dom_classes": [],
            "description": "",
            "_model_name": "HTMLModel",
            "placeholder": "​",
            "_view_module": "@jupyter-widgets/controls",
            "_model_module_version": "1.5.0",
            "value": " 528M/528M [00:05&lt;00:00, 92.4MB/s]",
            "_view_count": null,
            "_view_module_version": "1.5.0",
            "description_tooltip": null,
            "_model_module": "@jupyter-widgets/controls",
            "layout": "IPY_MODEL_c97f03cc279346559b27847a1a852e94"
          }
        },
        "300094e8bc994ae282d882132841313c": {
          "model_module": "@jupyter-widgets/controls",
          "model_name": "DescriptionStyleModel",
          "model_module_version": "1.5.0",
          "state": {
            "_view_name": "StyleView",
            "_model_name": "DescriptionStyleModel",
            "description_width": "",
            "_view_module": "@jupyter-widgets/base",
            "_model_module_version": "1.5.0",
            "_view_count": null,
            "_view_module_version": "1.2.0",
            "_model_module": "@jupyter-widgets/controls"
          }
        },
        "f85d63c0643540229e15fbfd3d424c5a": {
          "model_module": "@jupyter-widgets/base",
          "model_name": "LayoutModel",
          "model_module_version": "1.2.0",
          "state": {
            "_view_name": "LayoutView",
            "grid_template_rows": null,
            "right": null,
            "justify_content": null,
            "_view_module": "@jupyter-widgets/base",
            "overflow": null,
            "_model_module_version": "1.2.0",
            "_view_count": null,
            "flex_flow": null,
            "width": null,
            "min_width": null,
            "border": null,
            "align_items": null,
            "bottom": null,
            "_model_module": "@jupyter-widgets/base",
            "top": null,
            "grid_column": null,
            "overflow_y": null,
            "overflow_x": null,
            "grid_auto_flow": null,
            "grid_area": null,
            "grid_template_columns": null,
            "flex": null,
            "_model_name": "LayoutModel",
            "justify_items": null,
            "grid_row": null,
            "max_height": null,
            "align_content": null,
            "visibility": null,
            "align_self": null,
            "height": null,
            "min_height": null,
            "padding": null,
            "grid_auto_rows": null,
            "grid_gap": null,
            "max_width": null,
            "order": null,
            "_view_module_version": "1.2.0",
            "grid_template_areas": null,
            "object_position": null,
            "object_fit": null,
            "grid_auto_columns": null,
            "margin": null,
            "display": null,
            "left": null
          }
        },
        "7db239b7ac0746338f396b130abae2a8": {
          "model_module": "@jupyter-widgets/controls",
          "model_name": "ProgressStyleModel",
          "model_module_version": "1.5.0",
          "state": {
            "_view_name": "StyleView",
            "_model_name": "ProgressStyleModel",
            "description_width": "",
            "_view_module": "@jupyter-widgets/base",
            "_model_module_version": "1.5.0",
            "_view_count": null,
            "_view_module_version": "1.2.0",
            "bar_color": null,
            "_model_module": "@jupyter-widgets/controls"
          }
        },
        "8729c417299b47108d05710a32958b5b": {
          "model_module": "@jupyter-widgets/base",
          "model_name": "LayoutModel",
          "model_module_version": "1.2.0",
          "state": {
            "_view_name": "LayoutView",
            "grid_template_rows": null,
            "right": null,
            "justify_content": null,
            "_view_module": "@jupyter-widgets/base",
            "overflow": null,
            "_model_module_version": "1.2.0",
            "_view_count": null,
            "flex_flow": null,
            "width": null,
            "min_width": null,
            "border": null,
            "align_items": null,
            "bottom": null,
            "_model_module": "@jupyter-widgets/base",
            "top": null,
            "grid_column": null,
            "overflow_y": null,
            "overflow_x": null,
            "grid_auto_flow": null,
            "grid_area": null,
            "grid_template_columns": null,
            "flex": null,
            "_model_name": "LayoutModel",
            "justify_items": null,
            "grid_row": null,
            "max_height": null,
            "align_content": null,
            "visibility": null,
            "align_self": null,
            "height": null,
            "min_height": null,
            "padding": null,
            "grid_auto_rows": null,
            "grid_gap": null,
            "max_width": null,
            "order": null,
            "_view_module_version": "1.2.0",
            "grid_template_areas": null,
            "object_position": null,
            "object_fit": null,
            "grid_auto_columns": null,
            "margin": null,
            "display": null,
            "left": null
          }
        },
        "2796537f6932471e90fc7569d75f5301": {
          "model_module": "@jupyter-widgets/controls",
          "model_name": "DescriptionStyleModel",
          "model_module_version": "1.5.0",
          "state": {
            "_view_name": "StyleView",
            "_model_name": "DescriptionStyleModel",
            "description_width": "",
            "_view_module": "@jupyter-widgets/base",
            "_model_module_version": "1.5.0",
            "_view_count": null,
            "_view_module_version": "1.2.0",
            "_model_module": "@jupyter-widgets/controls"
          }
        },
        "c97f03cc279346559b27847a1a852e94": {
          "model_module": "@jupyter-widgets/base",
          "model_name": "LayoutModel",
          "model_module_version": "1.2.0",
          "state": {
            "_view_name": "LayoutView",
            "grid_template_rows": null,
            "right": null,
            "justify_content": null,
            "_view_module": "@jupyter-widgets/base",
            "overflow": null,
            "_model_module_version": "1.2.0",
            "_view_count": null,
            "flex_flow": null,
            "width": null,
            "min_width": null,
            "border": null,
            "align_items": null,
            "bottom": null,
            "_model_module": "@jupyter-widgets/base",
            "top": null,
            "grid_column": null,
            "overflow_y": null,
            "overflow_x": null,
            "grid_auto_flow": null,
            "grid_area": null,
            "grid_template_columns": null,
            "flex": null,
            "_model_name": "LayoutModel",
            "justify_items": null,
            "grid_row": null,
            "max_height": null,
            "align_content": null,
            "visibility": null,
            "align_self": null,
            "height": null,
            "min_height": null,
            "padding": null,
            "grid_auto_rows": null,
            "grid_gap": null,
            "max_width": null,
            "order": null,
            "_view_module_version": "1.2.0",
            "grid_template_areas": null,
            "object_position": null,
            "object_fit": null,
            "grid_auto_columns": null,
            "margin": null,
            "display": null,
            "left": null
          }
        }
      }
    }
  },
  "cells": [
    {
      "cell_type": "code",
      "execution_count": null,
      "metadata": {
        "id": "76FA0a9HLaqc"
      },
      "outputs": [],
      "source": [
        "from google.colab import drive\n",
        "drive.mount('/content/drive/')"
      ]
    },
    {
      "cell_type": "markdown",
      "source": [
        "## **Import necessarcy packages and setup environment**"
      ],
      "metadata": {
        "id": "gcTPzhWsbQs0"
      }
    },
    {
      "cell_type": "code",
      "source": [
        "#Import neccessary package\n",
        "import numpy as np\n",
        "import random\n",
        "import torch\n",
        "from torch import nn\n",
        "from torch import optim\n",
        "from torchvision import datasets,transforms,models"
      ],
      "metadata": {
        "id": "kJU2U7rnOIva"
      },
      "execution_count": 2,
      "outputs": []
    },
    {
      "cell_type": "code",
      "execution_count": 3,
      "metadata": {
        "id": "2vFtjniFOhU9"
      },
      "outputs": [],
      "source": [
        "#Setup for getting the reproducbility of results\n",
        "random.seed(1)\n",
        "np.random.seed(1)\n",
        "torch.manual_seed(1)\n",
        "torch.backends.cudnn.deterministic = True\n",
        "torch.backends.cudnn.benchmark = False"
      ]
    },
    {
      "cell_type": "code",
      "source": [
        "#Check GPU \n",
        "device = torch.device('cuda' if torch.cuda.is_available() else 'cpu')\n",
        "print(device)"
      ],
      "metadata": {
        "colab": {
          "base_uri": "https://localhost:8080/"
        },
        "id": "UiHFCkM-RloA",
        "outputId": "904b318a-0b5c-4fd5-e663-51aafdbd3169"
      },
      "execution_count": 4,
      "outputs": [
        {
          "output_type": "stream",
          "name": "stdout",
          "text": [
            "cuda\n"
          ]
        }
      ]
    },
    {
      "cell_type": "markdown",
      "source": [
        "## **Load datasets**"
      ],
      "metadata": {
        "id": "5qziP5Zfbr6t"
      }
    },
    {
      "cell_type": "code",
      "source": [
        "# !gdown --id 14GeD4qruCPN1nM2LZ4w0H3_i3OZ2m2xf"
      ],
      "metadata": {
        "id": "mibdkojOXI7d"
      },
      "execution_count": null,
      "outputs": []
    },
    {
      "cell_type": "code",
      "source": [
        "# !tar -xvf /content/flower_data.tar.gz -C /content/drive/MyDrive/flower/"
      ],
      "metadata": {
        "id": "jEDNKDSKXI49"
      },
      "execution_count": null,
      "outputs": []
    },
    {
      "cell_type": "code",
      "source": [
        "#Directory of dataset\n",
        "data_dir = '/content/drive/MyDrive/flower'\n",
        "train_dir = data_dir + '/train'\n",
        "valid_dir = data_dir + '/valid'\n",
        "test_dir = data_dir +'/test'"
      ],
      "metadata": {
        "id": "iMXqcdWkVCO3"
      },
      "execution_count": 13,
      "outputs": []
    },
    {
      "cell_type": "code",
      "source": [
        "# Define trainformation\n",
        "trans = transforms.Compose([transforms.Resize(256),\n",
        "                              transforms.CenterCrop(224),\n",
        "                              transforms. ToTensor(),\n",
        "                              transforms. Normalize([0.485, 0.456, 0.406],\n",
        "                                                    [0.229, 0.224, 0.225])])\n",
        "# Load the datasets with ImageFolder\n",
        "training_set = datasets. ImageFolder(train_dir, transform=trans)\n",
        "validation_set = datasets. ImageFolder(valid_dir, transform=trans)\n",
        "testing_set = datasets. ImageFolder(test_dir, transform=trans)\n",
        "# Using the image datasets and the trainforms, define the dataloaders\n",
        "train_loader = torch.utils.data.DataLoader(training_set, batch_size=64,\n",
        "  shuffle=True)\n",
        "validate_loader = torch.utils.data.DataLoader(validation_set, batch_size=32)\n",
        "test_loader = torch.utils.data.DataLoader(testing_set, batch_size=32) "
      ],
      "metadata": {
        "id": "ZvmB-XuRV1U2"
      },
      "execution_count": 14,
      "outputs": []
    },
    {
      "cell_type": "markdown",
      "source": [
        "## **Load model**"
      ],
      "metadata": {
        "id": "zsPF8bm5gew8"
      }
    },
    {
      "cell_type": "code",
      "source": [
        "model_pretrained = models.vgg16(pretrained = True)\n",
        "model_nopretrained = models.vgg16(pretrained = False)"
      ],
      "metadata": {
        "id": "uIx672ZsZLwN",
        "colab": {
          "base_uri": "https://localhost:8080/",
          "height": 87,
          "referenced_widgets": [
            "5536ed8ec6144b9f8534f36904957ee0",
            "96b92e630f4e4c20a970f144fb415dd5",
            "563e6167917741db8eea6e5e2477478e",
            "58c4797235de41e7915fe6c97dc380e5",
            "58a77996c4f04d3a851f0caa7017067e",
            "300094e8bc994ae282d882132841313c",
            "f85d63c0643540229e15fbfd3d424c5a",
            "7db239b7ac0746338f396b130abae2a8",
            "8729c417299b47108d05710a32958b5b",
            "2796537f6932471e90fc7569d75f5301",
            "c97f03cc279346559b27847a1a852e94"
          ]
        },
        "outputId": "f5d61a54-75f3-4a72-ff17-8c730f087792"
      },
      "execution_count": 17,
      "outputs": [
        {
          "output_type": "stream",
          "name": "stderr",
          "text": [
            "Downloading: \"https://download.pytorch.org/models/vgg16-397923af.pth\" to /root/.cache/torch/hub/checkpoints/vgg16-397923af.pth\n"
          ]
        },
        {
          "output_type": "display_data",
          "data": {
            "application/vnd.jupyter.widget-view+json": {
              "model_id": "5536ed8ec6144b9f8534f36904957ee0",
              "version_minor": 0,
              "version_major": 2
            },
            "text/plain": [
              "  0%|          | 0.00/528M [00:00<?, ?B/s]"
            ]
          },
          "metadata": {}
        }
      ]
    },
    {
      "cell_type": "code",
      "source": [
        "# Build custom classifier\n",
        "classifier = nn.Sequential(nn.Linear(25088, 4096),\n",
        "                            nn.ReLU(inplace=True),\n",
        "                            nn.Dropout(p=0.5, inplace=False),\n",
        "                            nn.Linear(4096, 4096),\n",
        "                            nn.ReLU(inplace=True),\n",
        "                            nn.Dropout(p=0.5, inplace=False),\n",
        "                            nn.Linear(4096, 102),\n",
        "                            nn.LogSoftmax(dim=1)\n",
        "                            )"
      ],
      "metadata": {
        "id": "A_zYJ4QHWuGn"
      },
      "execution_count": 18,
      "outputs": []
    },
    {
      "cell_type": "code",
      "source": [
        "#Build new classifier\n",
        "model_pretrained.classifier = classifier\n",
        "model_nopretrained.classifier = classifier"
      ],
      "metadata": {
        "id": "oRhBfB5bhINz"
      },
      "execution_count": 19,
      "outputs": []
    },
    {
      "cell_type": "markdown",
      "source": [
        "## **Train model**"
      ],
      "metadata": {
        "id": "6hy19Ew4iQVr"
      }
    },
    {
      "cell_type": "markdown",
      "source": [
        "Function for validating model"
      ],
      "metadata": {
        "id": "OOoUCTjyjUFz"
      }
    },
    {
      "cell_type": "code",
      "source": [
        "# Function for validation model\n",
        "def validation(model, validateloader, criterion):\n",
        "    val_loss = 0\n",
        "    accuracy = 0\n",
        "    for images, labels in iter(validateloader):\n",
        "          images, labels = images.to('cuda'), labels.to('cuda')\n",
        "          output = model. forward(images)\n",
        "          val_loss += criterion(output, labels).item()\n",
        "          probabilities = torch.exp(output)\n",
        "          equality = (labels.data == probabilities.max(dim=1)[1])\n",
        "          accuracy += equality.type(torch.FloatTensor).mean()\n",
        "    return val_loss, accuracy"
      ],
      "metadata": {
        "id": "3phWfG2TjRUT"
      },
      "execution_count": 20,
      "outputs": []
    },
    {
      "cell_type": "markdown",
      "source": [
        "Function for training model"
      ],
      "metadata": {
        "id": "8FNvSr4ClSaz"
      }
    },
    {
      "cell_type": "code",
      "source": [
        "import time\n",
        "def train_model(model,criterion,optimizer):\n",
        "      max_epoch = 10\n",
        "      print_every = 20\n",
        "      n_steps = 0\n",
        "      model.to('cuda')\n",
        "      start_train = time.time()\n",
        "      for n_epochs in range(max_epoch):\n",
        "        print(f'- Epoch {n_epochs + 1}')\n",
        "        start_epoch = time.time()\n",
        "        model.train()\n",
        "        epoch_loss = 0\n",
        "        for batch_idx, (images, labels) in enumerate(train_loader):\n",
        "            images, labels = images.to('cuda'), labels.to('cuda')\n",
        "            optimizer.zero_grad()\n",
        "            output = model.forward( images)\n",
        "            loss = criterion(output, labels)\n",
        "            loss.backward()\n",
        "            optimizer.step()\n",
        "            epoch_loss += loss.item()\n",
        "            if n_steps % print_every == 0 :\n",
        "                  model.eval()\n",
        "                  #Turn off gradients for validation, saves memory and computations\n",
        "                  with torch.no_grad():\n",
        "                        validation_loss, accuracy = validation(model, validate_loader, criterion)\n",
        "                        print(f'Batch: {batch_idx}/{len(train_loader)}.. '\n",
        "                               f'Training Loss: {epoch_loss/print_every:.3f}..'\n",
        "                               f'Validation Loss: {validation_loss/len(validate_loader): 3f} ..',\n",
        "                               f'Validation Accuracy: {accuracy/len(validate_loader): 3f}')\n",
        "                        epoch_loss = 0\n",
        "                        model.train()\n",
        "            n_steps += 1\n",
        "        end_epoch = time.time()\n",
        "        print(f'--> Epoch {n_epochs + 1} costs {end_epoch - start_epoch} seconds')\n",
        "        end_train = time.time()\n",
        "        print(f'Training time: {end_train - start_train}')"
      ],
      "metadata": {
        "id": "iJkvhi_ElTzD"
      },
      "execution_count": 21,
      "outputs": []
    },
    {
      "cell_type": "code",
      "source": [
        "from torch.nn.modules.loss import NLLLoss"
      ],
      "metadata": {
        "id": "ifYzLi0ZHhvG"
      },
      "execution_count": 22,
      "outputs": []
    },
    {
      "cell_type": "markdown",
      "source": [
        "Train with pretrain"
      ],
      "metadata": {
        "id": "yLmZ6_QR6S0q"
      }
    },
    {
      "cell_type": "code",
      "source": [
        "criterion = NLLLoss()\n",
        "optimizer = optim.Adam(model_pretrained.classifier.parameters(),lr = 0.001)\n",
        "train_model(model_pretrained,criterion,optimizer)"
      ],
      "metadata": {
        "colab": {
          "base_uri": "https://localhost:8080/"
        },
        "id": "h0UBIwEUoVRj",
        "outputId": "4dfb39c9-d571-4587-fcfd-5feed1c7e3cd"
      },
      "execution_count": 23,
      "outputs": [
        {
          "output_type": "stream",
          "name": "stdout",
          "text": [
            "- Epoch 1\n",
            "Batch: 0/103.. Training Loss: 0.232..Validation Loss:  7.404507 .. Validation Accuracy:  0.022837\n",
            "Batch: 20/103.. Training Loss: 4.778..Validation Loss:  3.144641 .. Validation Accuracy:  0.365118\n",
            "Batch: 40/103.. Training Loss: 2.756..Validation Loss:  1.795306 .. Validation Accuracy:  0.573451\n",
            "Batch: 60/103.. Training Loss: 1.938..Validation Loss:  1.312778 .. Validation Accuracy:  0.646635\n",
            "Batch: 80/103.. Training Loss: 1.704..Validation Loss:  1.161159 .. Validation Accuracy:  0.709669\n",
            "Batch: 100/103.. Training Loss: 1.633..Validation Loss:  0.997223 .. Validation Accuracy:  0.742121\n",
            "--> Epoch 1 costs 744.8585646152496 seconds\n",
            "Training time: 744.859753370285\n",
            "- Epoch 2\n",
            "Batch: 17/103.. Training Loss: 0.931..Validation Loss:  0.900267 .. Validation Accuracy:  0.754140\n",
            "Batch: 37/103.. Training Loss: 1.015..Validation Loss:  0.930229 .. Validation Accuracy:  0.738248\n",
            "Batch: 57/103.. Training Loss: 1.032..Validation Loss:  0.815124 .. Validation Accuracy:  0.786859\n",
            "Batch: 77/103.. Training Loss: 0.998..Validation Loss:  0.817245 .. Validation Accuracy:  0.788996\n",
            "Batch: 97/103.. Training Loss: 1.065..Validation Loss:  0.934232 .. Validation Accuracy:  0.758681\n",
            "--> Epoch 2 costs 711.4531807899475 seconds\n",
            "Training time: 1456.314094543457\n",
            "- Epoch 3\n",
            "Batch: 14/103.. Training Loss: 0.519..Validation Loss:  0.770381 .. Validation Accuracy:  0.804354\n",
            "Batch: 34/103.. Training Loss: 0.717..Validation Loss:  0.786412 .. Validation Accuracy:  0.800748\n",
            "Batch: 54/103.. Training Loss: 0.732..Validation Loss:  0.926832 .. Validation Accuracy:  0.778178\n",
            "Batch: 74/103.. Training Loss: 1.036..Validation Loss:  0.954768 .. Validation Accuracy:  0.783921\n",
            "Batch: 94/103.. Training Loss: 1.001..Validation Loss:  0.820192 .. Validation Accuracy:  0.792602\n",
            "--> Epoch 3 costs 710.3739399909973 seconds\n",
            "Training time: 2166.688372850418\n",
            "- Epoch 4\n",
            "Batch: 11/103.. Training Loss: 0.480..Validation Loss:  0.885434 .. Validation Accuracy:  0.791133\n",
            "Batch: 31/103.. Training Loss: 0.870..Validation Loss:  0.769047 .. Validation Accuracy:  0.816373\n",
            "Batch: 51/103.. Training Loss: 0.851..Validation Loss:  0.745857 .. Validation Accuracy:  0.826255\n",
            "Batch: 71/103.. Training Loss: 0.843..Validation Loss:  0.804290 .. Validation Accuracy:  0.817308\n",
            "Batch: 91/103.. Training Loss: 0.869..Validation Loss:  0.912661 .. Validation Accuracy:  0.799279\n",
            "--> Epoch 4 costs 709.0742843151093 seconds\n",
            "Training time: 2875.7637042999268\n",
            "- Epoch 5\n",
            "Batch: 8/103.. Training Loss: 0.287..Validation Loss:  0.917963 .. Validation Accuracy:  0.788061\n",
            "Batch: 28/103.. Training Loss: 0.960..Validation Loss:  0.975462 .. Validation Accuracy:  0.779380\n",
            "Batch: 48/103.. Training Loss: 0.814..Validation Loss:  0.954953 .. Validation Accuracy:  0.791133\n",
            "Batch: 68/103.. Training Loss: 0.846..Validation Loss:  1.093734 .. Validation Accuracy:  0.783921\n",
            "Batch: 88/103.. Training Loss: 0.968..Validation Loss:  0.905471 .. Validation Accuracy:  0.821181\n",
            "--> Epoch 5 costs 710.9673693180084 seconds\n",
            "Training time: 3586.731333732605\n",
            "- Epoch 6\n",
            "Batch: 5/103.. Training Loss: 0.242..Validation Loss:  0.947784 .. Validation Accuracy:  0.810363\n",
            "Batch: 25/103.. Training Loss: 0.979..Validation Loss:  0.967909 .. Validation Accuracy:  0.808227\n",
            "Batch: 45/103.. Training Loss: 0.956..Validation Loss:  1.080959 .. Validation Accuracy:  0.810096\n",
            "Batch: 65/103.. Training Loss: 1.032..Validation Loss:  1.009729 .. Validation Accuracy:  0.823584\n",
            "Batch: 85/103.. Training Loss: 1.232..Validation Loss:  0.904577 .. Validation Accuracy:  0.805556\n",
            "--> Epoch 6 costs 710.0307762622833 seconds\n",
            "Training time: 4296.7631578445435\n",
            "- Epoch 7\n",
            "Batch: 2/103.. Training Loss: 0.179..Validation Loss:  0.857825 .. Validation Accuracy:  0.817575\n",
            "Batch: 22/103.. Training Loss: 0.918..Validation Loss:  0.975987 .. Validation Accuracy:  0.801282\n",
            "Batch: 42/103.. Training Loss: 0.914..Validation Loss:  0.986160 .. Validation Accuracy:  0.816106\n",
            "Batch: 62/103.. Training Loss: 0.957..Validation Loss:  1.080620 .. Validation Accuracy:  0.808227\n",
            "Batch: 82/103.. Training Loss: 1.033..Validation Loss:  1.041748 .. Validation Accuracy:  0.813969\n",
            "Batch: 102/103.. Training Loss: 0.967..Validation Loss:  1.261619 .. Validation Accuracy:  0.801015\n",
            "--> Epoch 7 costs 739.5408773422241 seconds\n",
            "Training time: 5036.305631160736\n",
            "- Epoch 8\n",
            "Batch: 19/103.. Training Loss: 0.836..Validation Loss:  1.107639 .. Validation Accuracy:  0.807826\n",
            "Batch: 39/103.. Training Loss: 0.978..Validation Loss:  1.013197 .. Validation Accuracy:  0.813969\n",
            "Batch: 59/103.. Training Loss: 0.946..Validation Loss:  1.104730 .. Validation Accuracy:  0.811832\n",
            "Batch: 79/103.. Training Loss: 0.913..Validation Loss:  1.328848 .. Validation Accuracy:  0.795005\n",
            "Batch: 99/103.. Training Loss: 1.276..Validation Loss:  1.046916 .. Validation Accuracy:  0.835337\n",
            "--> Epoch 8 costs 700.0458607673645 seconds\n",
            "Training time: 5736.352616071701\n",
            "- Epoch 9\n",
            "Batch: 16/103.. Training Loss: 0.715..Validation Loss:  1.064973 .. Validation Accuracy:  0.828392\n",
            "Batch: 36/103.. Training Loss: 0.837..Validation Loss:  1.194255 .. Validation Accuracy:  0.816640\n",
            "Batch: 56/103.. Training Loss: 0.848..Validation Loss:  1.331427 .. Validation Accuracy:  0.791400\n",
            "Batch: 76/103.. Training Loss: 1.108..Validation Loss:  1.406329 .. Validation Accuracy:  0.819044\n",
            "Batch: 96/103.. Training Loss: 1.011..Validation Loss:  1.310762 .. Validation Accuracy:  0.827457\n",
            "--> Epoch 9 costs 696.0691869258881 seconds\n",
            "Training time: 6432.423002958298\n",
            "- Epoch 10\n",
            "Batch: 13/103.. Training Loss: 0.752..Validation Loss:  1.328450 .. Validation Accuracy:  0.827457\n",
            "Batch: 33/103.. Training Loss: 1.016..Validation Loss:  1.260245 .. Validation Accuracy:  0.834135\n",
            "Batch: 53/103.. Training Loss: 1.242..Validation Loss:  1.429961 .. Validation Accuracy:  0.813969\n",
            "Batch: 73/103.. Training Loss: 1.260..Validation Loss:  1.478738 .. Validation Accuracy:  0.813969\n",
            "Batch: 93/103.. Training Loss: 1.337..Validation Loss:  1.378585 .. Validation Accuracy:  0.825053\n",
            "--> Epoch 10 costs 696.8181598186493 seconds\n",
            "Training time: 7129.242599248886\n"
          ]
        }
      ]
    },
    {
      "cell_type": "markdown",
      "source": [
        "Train without pretrain"
      ],
      "metadata": {
        "id": "vPydEKze6aOh"
      }
    },
    {
      "cell_type": "code",
      "source": [
        "criterion = NLLLoss()\n",
        "optimizer = optim.Adam(model_nopretrained.parameters(),lr = 0.001)\n",
        "train_model(model_nopretrained,criterion,optimizer)"
      ],
      "metadata": {
        "colab": {
          "base_uri": "https://localhost:8080/"
        },
        "id": "Wn0zfKF-X238",
        "outputId": "288064db-aec0-4f03-dcf3-499c8559ac5d"
      },
      "execution_count": 24,
      "outputs": [
        {
          "output_type": "stream",
          "name": "stdout",
          "text": [
            "- Epoch 1\n",
            "Batch: 0/103.. Training Loss: 0.376..Validation Loss:  56.195982 .. Validation Accuracy:  0.006010\n",
            "Batch: 20/103.. Training Loss: 8.937..Validation Loss:  4.587228 .. Validation Accuracy:  0.016827\n",
            "Batch: 40/103.. Training Loss: 4.570..Validation Loss:  4.563555 .. Validation Accuracy:  0.033654\n",
            "Batch: 60/103.. Training Loss: 4.549..Validation Loss:  4.537372 .. Validation Accuracy:  0.033654\n",
            "Batch: 80/103.. Training Loss: 4.535..Validation Loss:  4.535018 .. Validation Accuracy:  0.033654\n",
            "Batch: 100/103.. Training Loss: 4.510..Validation Loss:  4.510748 .. Validation Accuracy:  0.033654\n",
            "--> Epoch 1 costs 712.2042028903961 seconds\n",
            "Training time: 712.2059652805328\n",
            "- Epoch 2\n",
            "Batch: 17/103.. Training Loss: 4.070..Validation Loss:  4.510929 .. Validation Accuracy:  0.033654\n",
            "Batch: 37/103.. Training Loss: 4.537..Validation Loss:  4.518927 .. Validation Accuracy:  0.033654\n",
            "Batch: 57/103.. Training Loss: 4.514..Validation Loss:  4.527546 .. Validation Accuracy:  0.033654\n",
            "Batch: 77/103.. Training Loss: 4.527..Validation Loss:  4.514875 .. Validation Accuracy:  0.033654\n",
            "Batch: 97/103.. Training Loss: 4.528..Validation Loss:  4.506577 .. Validation Accuracy:  0.025240\n",
            "--> Epoch 2 costs 675.196405172348 seconds\n",
            "Training time: 1387.4034192562103\n",
            "- Epoch 3\n",
            "Batch: 14/103.. Training Loss: 3.395..Validation Loss:  4.519552 .. Validation Accuracy:  0.021635\n",
            "Batch: 34/103.. Training Loss: 4.526..Validation Loss:  4.529078 .. Validation Accuracy:  0.025240\n",
            "Batch: 54/103.. Training Loss: 4.524..Validation Loss:  4.510172 .. Validation Accuracy:  0.033654\n",
            "Batch: 74/103.. Training Loss: 4.510..Validation Loss:  4.512168 .. Validation Accuracy:  0.033654\n",
            "Batch: 94/103.. Training Loss: 4.519..Validation Loss:  4.507024 .. Validation Accuracy:  0.033654\n",
            "--> Epoch 3 costs 673.9304275512695 seconds\n",
            "Training time: 2061.334746360779\n",
            "- Epoch 4\n",
            "Batch: 11/103.. Training Loss: 2.720..Validation Loss:  4.507084 .. Validation Accuracy:  0.033654\n",
            "Batch: 31/103.. Training Loss: 4.508..Validation Loss:  4.501664 .. Validation Accuracy:  0.033654\n",
            "Batch: 51/103.. Training Loss: 4.512..Validation Loss:  4.505080 .. Validation Accuracy:  0.025240\n",
            "Batch: 71/103.. Training Loss: 4.518..Validation Loss:  4.512796 .. Validation Accuracy:  0.033654\n",
            "Batch: 91/103.. Training Loss: 4.523..Validation Loss:  4.509460 .. Validation Accuracy:  0.025240\n",
            "--> Epoch 4 costs 673.1533558368683 seconds\n",
            "Training time: 2734.4883630275726\n",
            "- Epoch 5\n",
            "Batch: 8/103.. Training Loss: 2.029..Validation Loss:  4.509390 .. Validation Accuracy:  0.025240\n",
            "Batch: 28/103.. Training Loss: 4.515..Validation Loss:  4.507969 .. Validation Accuracy:  0.033654\n",
            "Batch: 48/103.. Training Loss: 4.524..Validation Loss:  4.509963 .. Validation Accuracy:  0.025240\n",
            "Batch: 68/103.. Training Loss: 4.502..Validation Loss:  4.507214 .. Validation Accuracy:  0.025240\n",
            "Batch: 88/103.. Training Loss: 4.501..Validation Loss:  4.508617 .. Validation Accuracy:  0.025240\n",
            "--> Epoch 5 costs 672.1623494625092 seconds\n",
            "Training time: 3406.6522767543793\n",
            "- Epoch 6\n",
            "Batch: 5/103.. Training Loss: 1.350..Validation Loss:  4.512368 .. Validation Accuracy:  0.025240\n",
            "Batch: 25/103.. Training Loss: 4.509..Validation Loss:  4.506167 .. Validation Accuracy:  0.025240\n",
            "Batch: 45/103.. Training Loss: 4.493..Validation Loss:  4.505240 .. Validation Accuracy:  0.025240\n",
            "Batch: 65/103.. Training Loss: 4.515..Validation Loss:  4.507929 .. Validation Accuracy:  0.025240\n",
            "Batch: 85/103.. Training Loss: 4.534..Validation Loss:  4.510230 .. Validation Accuracy:  0.033654\n",
            "--> Epoch 6 costs 678.307365655899 seconds\n",
            "Training time: 4084.961484670639\n",
            "- Epoch 7\n",
            "Batch: 2/103.. Training Loss: 0.675..Validation Loss:  4.502182 .. Validation Accuracy:  0.033654\n",
            "Batch: 22/103.. Training Loss: 4.509..Validation Loss:  4.504520 .. Validation Accuracy:  0.025240\n",
            "Batch: 42/103.. Training Loss: 4.512..Validation Loss:  4.508316 .. Validation Accuracy:  0.025240\n",
            "Batch: 62/103.. Training Loss: 4.523..Validation Loss:  4.505912 .. Validation Accuracy:  0.025240\n",
            "Batch: 82/103.. Training Loss: 4.504..Validation Loss:  4.505008 .. Validation Accuracy:  0.025240\n",
            "Batch: 102/103.. Training Loss: 4.510..Validation Loss:  4.502987 .. Validation Accuracy:  0.033654\n",
            "--> Epoch 7 costs 710.7564961910248 seconds\n",
            "Training time: 4795.718148469925\n",
            "- Epoch 8\n",
            "Batch: 19/103.. Training Loss: 4.523..Validation Loss:  4.503854 .. Validation Accuracy:  0.033654\n",
            "Batch: 39/103.. Training Loss: 4.490..Validation Loss:  4.504455 .. Validation Accuracy:  0.033654\n",
            "Batch: 59/103.. Training Loss: 4.515..Validation Loss:  4.506714 .. Validation Accuracy:  0.033654\n",
            "Batch: 79/103.. Training Loss: 4.516..Validation Loss:  4.504975 .. Validation Accuracy:  0.033654\n",
            "Batch: 99/103.. Training Loss: 4.500..Validation Loss:  4.502196 .. Validation Accuracy:  0.033654\n",
            "--> Epoch 8 costs 678.7155156135559 seconds\n",
            "Training time: 5474.433944702148\n",
            "- Epoch 9\n",
            "Batch: 16/103.. Training Loss: 3.812..Validation Loss:  4.504296 .. Validation Accuracy:  0.033654\n",
            "Batch: 36/103.. Training Loss: 4.514..Validation Loss:  4.507580 .. Validation Accuracy:  0.033654\n",
            "Batch: 56/103.. Training Loss: 4.532..Validation Loss:  4.506581 .. Validation Accuracy:  0.025240\n",
            "Batch: 76/103.. Training Loss: 4.495..Validation Loss:  4.504536 .. Validation Accuracy:  0.025240\n",
            "Batch: 96/103.. Training Loss: 4.503..Validation Loss:  4.505045 .. Validation Accuracy:  0.025240\n",
            "--> Epoch 9 costs 675.1286153793335 seconds\n",
            "Training time: 6149.563963651657\n",
            "- Epoch 10\n",
            "Batch: 13/103.. Training Loss: 3.167..Validation Loss:  4.501892 .. Validation Accuracy:  0.033654\n",
            "Batch: 33/103.. Training Loss: 4.508..Validation Loss:  4.501610 .. Validation Accuracy:  0.033654\n",
            "Batch: 53/103.. Training Loss: 4.499..Validation Loss:  4.502135 .. Validation Accuracy:  0.025240\n",
            "Batch: 73/103.. Training Loss: 4.487..Validation Loss:  4.501174 .. Validation Accuracy:  0.025240\n",
            "Batch: 93/103.. Training Loss: 4.513..Validation Loss:  4.501926 .. Validation Accuracy:  0.025240\n",
            "--> Epoch 10 costs 671.6237714290619 seconds\n",
            "Training time: 6821.188615322113\n"
          ]
        }
      ]
    },
    {
      "cell_type": "markdown",
      "source": [
        "## **Save model**"
      ],
      "metadata": {
        "id": "udCtPHc2DXQm"
      }
    },
    {
      "cell_type": "code",
      "source": [
        "def save_checkpoint(model,path):\n",
        "  model.class_to_idx = training_set.class_to_idx\n",
        "  checkpoint = {'arch':'vgg16',\n",
        "                'class_to_idx' : model.class_to_idx,\n",
        "                'model_state_dict': model.state_dict()\n",
        "      \n",
        "              }\n",
        "  torch.save(checkpoint,path)"
      ],
      "metadata": {
        "id": "ePXuZq3mDkY6"
      },
      "execution_count": null,
      "outputs": []
    },
    {
      "cell_type": "code",
      "source": [
        "save_checkpoint(model_pretrained,'/content/drive/MyDrive/flower/checkpoint/checkpoint_use_pretrained.pth')"
      ],
      "metadata": {
        "id": "dbQfHEVtHZjf"
      },
      "execution_count": null,
      "outputs": []
    },
    {
      "cell_type": "code",
      "source": [
        "save_checkpoint(model_nopretrained,'/content/drive/MyDrive/flower/checkpoint/checkpoint_no_use_pretrained.pth')"
      ],
      "metadata": {
        "id": "x9d27gDXUdYN"
      },
      "execution_count": null,
      "outputs": []
    },
    {
      "cell_type": "markdown",
      "source": [
        "## **Test model**"
      ],
      "metadata": {
        "id": "5XStmK4YEhqb"
      }
    },
    {
      "cell_type": "code",
      "source": [
        "def test_model(model,test_loader):\n",
        "  #Do validation on the test set\n",
        "  model.eval()\n",
        "  model.to('cuda')\n",
        "\n",
        "  with torch.no_grad():\n",
        "    accuracy = 0\n",
        "    for images,labels in iter(test_loader):\n",
        "      images, labels = images.to('cuda'),labels.to('cuda')\n",
        "      output = model. forward(images)\n",
        "      probabilities = torch.exp(output)\n",
        "      equality = (labels.data == probabilities.max(dim=1)[1])\n",
        "      accuracy += equality.type(torch.FloatTensor).mean()\n",
        "    print(\"Test Accuracy : {}\".format(accuracy/len(test_loader)))"
      ],
      "metadata": {
        "id": "uJLtkHA5EliI"
      },
      "execution_count": null,
      "outputs": []
    },
    {
      "cell_type": "code",
      "source": [
        "test_model(model_pretrained,test_loader)"
      ],
      "metadata": {
        "id": "fMFkAcvVQlFF"
      },
      "execution_count": null,
      "outputs": []
    },
    {
      "cell_type": "code",
      "source": [
        "test_model(model_nopretrained,test_loader)"
      ],
      "metadata": {
        "id": "RAuxou1PXNos"
      },
      "execution_count": null,
      "outputs": []
    },
    {
      "cell_type": "markdown",
      "source": [
        "Train mô hình trừ pretrain đạt hiệu quả cao hơn so với train lại mô hình từ đầu (Nếu train cùng số epoch)."
      ],
      "metadata": {
        "id": "FexzJpPw3i6F"
      }
    },
    {
      "cell_type": "markdown",
      "source": [
        "Do số epoch của mô hình train lại từ đầu còn khá nhỏ, đồng thời data lớn, nên độ chính xác của mô hình rất thấp."
      ],
      "metadata": {
        "id": "hoKk3vHn5Gkb"
      }
    }
  ]
}