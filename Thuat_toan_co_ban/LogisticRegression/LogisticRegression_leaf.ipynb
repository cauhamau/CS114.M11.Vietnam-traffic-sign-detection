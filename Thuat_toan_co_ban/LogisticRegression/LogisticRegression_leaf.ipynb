{
  "nbformat": 4,
  "nbformat_minor": 0,
  "metadata": {
    "colab": {
      "name": "leaf_Logistic.ipynb",
      "provenance": [],
      "toc_visible": true
    },
    "kernelspec": {
      "name": "python3",
      "display_name": "Python 3"
    },
    "language_info": {
      "name": "python"
    }
  },
  "cells": [
    {
      "cell_type": "markdown",
      "metadata": {
        "id": "gXMh8TrJ5gCd"
      },
      "source": [
        "### Load dataset"
      ]
    },
    {
      "cell_type": "code",
      "metadata": {
        "id": "IdQC5eg9SRZu"
      },
      "source": [
        "!gdown 'https://drive.google.com/uc?id=14mBrb2eUk4PTi_2UaoNshMLyvBCwOiPR' -O /content/folio.zip\n",
        "!unzip /content/folio.zip -d /content"
      ],
      "execution_count": null,
      "outputs": []
    },
    {
      "cell_type": "code",
      "metadata": {
        "colab": {
          "base_uri": "https://localhost:8080/"
        },
        "id": "f1W715gyr2Nf",
        "outputId": "76adbf5d-1e2a-40b3-e6a0-c5f07480793e"
      },
      "source": [
        "cd /content/folio/folio"
      ],
      "execution_count": 65,
      "outputs": [
        {
          "output_type": "stream",
          "name": "stdout",
          "text": [
            "/content/folio/folio\n"
          ]
        }
      ]
    },
    {
      "cell_type": "code",
      "metadata": {
        "id": "fpJf6J_8tg1e"
      },
      "source": [
        "# from os import listdir\n",
        "import cv2\n",
        "import matplotlib.pyplot as plt\n",
        "import numpy as np"
      ],
      "execution_count": 66,
      "outputs": []
    },
    {
      "cell_type": "code",
      "metadata": {
        "id": "PpULADgdvsB2"
      },
      "source": [
        "import os"
      ],
      "execution_count": 67,
      "outputs": []
    },
    {
      "cell_type": "code",
      "metadata": {
        "id": "q6m-4cSivmf2"
      },
      "source": [
        "FJoin = os.path.join\n",
        "folder_name = [FJoin('/content/folio/folio/', f) for f in os.listdir('/content/folio/folio/')]"
      ],
      "execution_count": 68,
      "outputs": []
    },
    {
      "cell_type": "code",
      "metadata": {
        "colab": {
          "base_uri": "https://localhost:8080/"
        },
        "id": "k1fdIoIjvtWz",
        "outputId": "a4f33bdf-e5e9-42f3-df0d-01b79af1bc45"
      },
      "source": [
        "folder_name"
      ],
      "execution_count": 69,
      "outputs": [
        {
          "output_type": "execute_result",
          "data": {
            "text/plain": [
              "['/content/folio/folio/barbados cherry',\n",
              " '/content/folio/folio/ashanti blood',\n",
              " '/content/folio/folio/caricature plant',\n",
              " '/content/folio/folio/bitter orange',\n",
              " '/content/folio/folio/coeur demoiselle',\n",
              " '/content/folio/folio/mulberry leaf',\n",
              " '/content/folio/folio/coffee',\n",
              " '/content/folio/folio/betel',\n",
              " '/content/folio/folio/jackfruit',\n",
              " '/content/folio/folio/croton']"
            ]
          },
          "metadata": {},
          "execution_count": 69
        }
      ]
    },
    {
      "cell_type": "code",
      "metadata": {
        "id": "X1Ym7PwH0cKn"
      },
      "source": [
        "X = []\n",
        "y = []"
      ],
      "execution_count": 70,
      "outputs": []
    },
    {
      "cell_type": "code",
      "metadata": {
        "id": "0Nfr5b-6xlYc"
      },
      "source": [
        "eta = 0.1 #scale image\n",
        "count = 1\n",
        "for i in folder_name:   \n",
        "  file_name = [FJoin(i, f) for f in os.listdir(i)]\n",
        "  for j in file_name:\n",
        "    img = cv2.imread(j, 0)    \n",
        "    img = cv2.resize(img, (int(img.shape[0] * eta), int(img.shape[1] * eta)))\n",
        "    X.append(img)\n",
        "    y.append(count)\n",
        "    \n",
        "  count = count + 1\n"
      ],
      "execution_count": 71,
      "outputs": []
    },
    {
      "cell_type": "code",
      "metadata": {
        "id": "oPapaixf1BNN"
      },
      "source": [
        "X = np.array(X)\n",
        "y = np.array(y).reshape(-1, 1)"
      ],
      "execution_count": 72,
      "outputs": []
    },
    {
      "cell_type": "code",
      "metadata": {
        "colab": {
          "base_uri": "https://localhost:8080/"
        },
        "id": "MfcqeLtc2-OO",
        "outputId": "f20b96a4-cc3f-4e85-8924-e59c907aacc2"
      },
      "source": [
        "print(X.shape)\n",
        "print(y.shape)"
      ],
      "execution_count": 73,
      "outputs": [
        {
          "output_type": "stream",
          "name": "stdout",
          "text": [
            "(199, 232, 412)\n",
            "(199, 1)\n"
          ]
        }
      ]
    },
    {
      "cell_type": "code",
      "metadata": {
        "id": "R7ZMpDCC3swV"
      },
      "source": [
        "from sklearn.utils import shuffle\n",
        "X, y = shuffle(X, y, random_state=0)"
      ],
      "execution_count": 74,
      "outputs": []
    },
    {
      "cell_type": "code",
      "metadata": {
        "id": "pPNGbddQ1pul"
      },
      "source": [
        "from sklearn.model_selection import train_test_split"
      ],
      "execution_count": 75,
      "outputs": []
    },
    {
      "cell_type": "code",
      "metadata": {
        "id": "-wr6tjMl1vEl"
      },
      "source": [
        "Xtrain, Xtest, ytrain, ytest = train_test_split(X, y, test_size = 0.3)"
      ],
      "execution_count": 76,
      "outputs": []
    },
    {
      "cell_type": "markdown",
      "metadata": {
        "id": "vyustofJE0QT"
      },
      "source": [
        "## Phương pháp duỗi thẳng ảnh thành vector"
      ]
    },
    {
      "cell_type": "markdown",
      "metadata": {
        "id": "T0GwtqYE6TZ2"
      },
      "source": [
        "### Preprocessing"
      ]
    },
    {
      "cell_type": "code",
      "metadata": {
        "id": "JVP9juot3FYF"
      },
      "source": [
        "X1dtrain = Xtrain.reshape(-1, 232 * 412)\n",
        "X1dtest = Xtest.reshape(-1, 232 * 412)"
      ],
      "execution_count": 77,
      "outputs": []
    },
    {
      "cell_type": "markdown",
      "metadata": {
        "id": "XcAo7BQO5XUw"
      },
      "source": [
        "### Train model"
      ]
    },
    {
      "cell_type": "code",
      "metadata": {
        "id": "4KBgXBVH1_Ve"
      },
      "source": [
        "from sklearn.linear_model import LogisticRegression\n",
        "model = LogisticRegression(max_iter=10000, random_state=1, n_jobs=2)"
      ],
      "execution_count": 78,
      "outputs": []
    },
    {
      "cell_type": "code",
      "metadata": {
        "colab": {
          "base_uri": "https://localhost:8080/"
        },
        "id": "Uw5gOliQ2KAN",
        "outputId": "d6116881-d5ca-41fa-dbf1-4b79cb2eb452"
      },
      "source": [
        "model.fit(X1dtrain, ytrain)"
      ],
      "execution_count": 79,
      "outputs": [
        {
          "output_type": "stream",
          "name": "stderr",
          "text": [
            "/usr/local/lib/python3.7/dist-packages/sklearn/utils/validation.py:760: DataConversionWarning: A column-vector y was passed when a 1d array was expected. Please change the shape of y to (n_samples, ), for example using ravel().\n",
            "  y = column_or_1d(y, warn=True)\n"
          ]
        },
        {
          "output_type": "execute_result",
          "data": {
            "text/plain": [
              "LogisticRegression(C=1.0, class_weight=None, dual=False, fit_intercept=True,\n",
              "                   intercept_scaling=1, l1_ratio=None, max_iter=10000,\n",
              "                   multi_class='auto', n_jobs=2, penalty='l2', random_state=1,\n",
              "                   solver='lbfgs', tol=0.0001, verbose=0, warm_start=False)"
            ]
          },
          "metadata": {},
          "execution_count": 79
        }
      ]
    },
    {
      "cell_type": "code",
      "metadata": {
        "id": "rnGAccYs2Md0"
      },
      "source": [
        "yPre = model.predict(X1dtest)"
      ],
      "execution_count": 80,
      "outputs": []
    },
    {
      "cell_type": "code",
      "metadata": {
        "colab": {
          "base_uri": "https://localhost:8080/"
        },
        "id": "9EZmOISf323W",
        "outputId": "bd80a96c-cb5d-444c-fa94-2651cb36b1da"
      },
      "source": [
        "yPre"
      ],
      "execution_count": 81,
      "outputs": [
        {
          "output_type": "execute_result",
          "data": {
            "text/plain": [
              "array([ 5,  3,  7,  4,  7,  5,  8,  8,  3,  7,  6,  9,  7,  2,  6,  3,  2,\n",
              "       10,  1, 10,  2,  8,  9,  5,  3,  4,  4,  3, 10,  3,  6,  2,  8,  8,\n",
              "       10,  9,  4,  4,  9,  9,  4,  1, 10,  1, 10,  8,  5,  6,  1,  8,  9,\n",
              "        3,  7,  6,  8,  3,  9,  2,  3,  6])"
            ]
          },
          "metadata": {},
          "execution_count": 81
        }
      ]
    },
    {
      "cell_type": "markdown",
      "metadata": {
        "id": "W5U48Gm65TWl"
      },
      "source": [
        "### Evaluate"
      ]
    },
    {
      "cell_type": "code",
      "metadata": {
        "id": "g664xNYYnSxI"
      },
      "source": [
        "from sklearn.metrics import precision_score\n",
        "from sklearn.metrics import accuracy_score\n",
        "from sklearn.metrics import recall_score\n",
        "from sklearn.metrics import f1_score\n",
        "\n",
        "def evaluate(ytest, predict):\n",
        "  acc = accuracy_score(ytest, predict, normalize=True)\n",
        "  preci = precision_score(ytest, predict, average='macro')\n",
        "  recall = recall_score(ytest, predict, average='macro')\n",
        "  f1 = f1_score(ytest, predict, average='macro')\n",
        "\n",
        "  print('Accuracy: {}%'.format(round(acc * 100, 2)))\n",
        "  print('Precision: {}%'.format(round(preci * 100, 2)))\n",
        "  print('Recall: {}%'.format(round(recall * 100, 2)))\n",
        "  print('F_1: {}%'.format(round(f1 * 100, 2)));\n",
        "  return [acc, preci, recall, f1]"
      ],
      "execution_count": 82,
      "outputs": []
    },
    {
      "cell_type": "code",
      "metadata": {
        "colab": {
          "base_uri": "https://localhost:8080/"
        },
        "id": "3RdOxt_gvJkZ",
        "outputId": "eced13ec-7ff0-494f-e9c4-8a292fe28eef"
      },
      "source": [
        "eval_1d = evaluate(ytest, yPre)"
      ],
      "execution_count": 83,
      "outputs": [
        {
          "output_type": "stream",
          "name": "stdout",
          "text": [
            "Accuracy: 91.67%\n",
            "Precision: 92.21%\n",
            "Recall: 92.46%\n",
            "F_1: 91.58%\n"
          ]
        }
      ]
    },
    {
      "cell_type": "markdown",
      "metadata": {
        "id": "ZZ6i1Pd-oUBp"
      },
      "source": [
        "## Phuong phap sử dụng H.O.G"
      ]
    },
    {
      "cell_type": "markdown",
      "metadata": {
        "id": "e7ijVaY4sHbY"
      },
      "source": [
        "### Preprocessing data"
      ]
    },
    {
      "cell_type": "code",
      "metadata": {
        "id": "qW1BzpZuk2OA"
      },
      "source": [
        "from skimage.feature import hog"
      ],
      "execution_count": 84,
      "outputs": []
    },
    {
      "cell_type": "code",
      "metadata": {
        "id": "f9_eFhmDk6vg"
      },
      "source": [
        "def calculate_hog (image):\n",
        "  return hog(image, orientations=9, pixels_per_cell=(4, 4), cells_per_block=(2, 2), block_norm='L2')"
      ],
      "execution_count": 85,
      "outputs": []
    },
    {
      "cell_type": "code",
      "metadata": {
        "id": "6WRkQNdPlhtR"
      },
      "source": [
        " X_hog_train = []\n",
        " X_hog_test = []"
      ],
      "execution_count": 86,
      "outputs": []
    },
    {
      "cell_type": "code",
      "metadata": {
        "id": "y1nBB3vvlnMg"
      },
      "source": [
        "for x in Xtrain:\n",
        "  X_hog_train.append(calculate_hog(x))"
      ],
      "execution_count": 87,
      "outputs": []
    },
    {
      "cell_type": "code",
      "metadata": {
        "id": "-U3mBV3LorI4"
      },
      "source": [
        "for x in Xtest:\n",
        "  X_hog_test.append(calculate_hog(x))"
      ],
      "execution_count": 88,
      "outputs": []
    },
    {
      "cell_type": "code",
      "metadata": {
        "id": "0oQWHeYsprdq"
      },
      "source": [
        "X_hog_train = np.array(X_hog_train)\n",
        "X_hog_test = np.array(X_hog_test)"
      ],
      "execution_count": 89,
      "outputs": []
    },
    {
      "cell_type": "markdown",
      "metadata": {
        "id": "kYVcYjrasCJY"
      },
      "source": [
        "### Train model"
      ]
    },
    {
      "cell_type": "code",
      "metadata": {
        "id": "Y5IjdTXdlxwA"
      },
      "source": [
        "clf = LogisticRegression(max_iter=10000, random_state=1, n_jobs=2)"
      ],
      "execution_count": 90,
      "outputs": []
    },
    {
      "cell_type": "code",
      "metadata": {
        "colab": {
          "base_uri": "https://localhost:8080/"
        },
        "id": "g3vXjBVYpcCR",
        "outputId": "f03dd7ec-4943-431e-c800-829474ccdefe"
      },
      "source": [
        "print(X_hog_test.shape)"
      ],
      "execution_count": 91,
      "outputs": [
        {
          "output_type": "stream",
          "name": "stdout",
          "text": [
            "(60, 209304)\n"
          ]
        }
      ]
    },
    {
      "cell_type": "code",
      "metadata": {
        "colab": {
          "base_uri": "https://localhost:8080/"
        },
        "id": "a6MzusYVmzwg",
        "outputId": "82b78e1d-89b0-4653-f960-7f1b52e2dda2"
      },
      "source": [
        "clf.fit(X_hog_train, ytrain)"
      ],
      "execution_count": 92,
      "outputs": [
        {
          "output_type": "stream",
          "name": "stderr",
          "text": [
            "/usr/local/lib/python3.7/dist-packages/sklearn/utils/validation.py:760: DataConversionWarning: A column-vector y was passed when a 1d array was expected. Please change the shape of y to (n_samples, ), for example using ravel().\n",
            "  y = column_or_1d(y, warn=True)\n"
          ]
        },
        {
          "output_type": "execute_result",
          "data": {
            "text/plain": [
              "LogisticRegression(C=1.0, class_weight=None, dual=False, fit_intercept=True,\n",
              "                   intercept_scaling=1, l1_ratio=None, max_iter=10000,\n",
              "                   multi_class='auto', n_jobs=2, penalty='l2', random_state=1,\n",
              "                   solver='lbfgs', tol=0.0001, verbose=0, warm_start=False)"
            ]
          },
          "metadata": {},
          "execution_count": 92
        }
      ]
    },
    {
      "cell_type": "code",
      "metadata": {
        "id": "5XpCwEyqnJSP"
      },
      "source": [
        "yhogpred = clf.predict(X_hog_test)"
      ],
      "execution_count": 93,
      "outputs": []
    },
    {
      "cell_type": "markdown",
      "metadata": {
        "id": "PyfZY7YqsNiR"
      },
      "source": [
        "### Evaluate"
      ]
    },
    {
      "cell_type": "code",
      "metadata": {
        "colab": {
          "base_uri": "https://localhost:8080/"
        },
        "id": "P6CDIj0EnSxJ",
        "outputId": "63d130ba-d66a-49ac-d7fa-eb90c34fdb8a"
      },
      "source": [
        "eval_hog = evaluate(ytest, yhogpred)"
      ],
      "execution_count": 94,
      "outputs": [
        {
          "output_type": "stream",
          "name": "stdout",
          "text": [
            "Accuracy: 88.33%\n",
            "Precision: 91.07%\n",
            "Recall: 88.57%\n",
            "F_1: 87.03%\n"
          ]
        }
      ]
    },
    {
      "cell_type": "code",
      "metadata": {
        "colab": {
          "base_uri": "https://localhost:8080/",
          "height": 281
        },
        "id": "6-pTsPr_29bM",
        "outputId": "cfd0f67b-5635-4beb-8c76-5db4c2dcaa34"
      },
      "source": [
        "ind = np.arange(4)\n",
        "width = 0.35\n",
        "\n",
        "fig, ax = plt.subplots()\n",
        "rects1 = ax.bar(ind - width/2, eval_1d, width,\n",
        "                label='1D')\n",
        "rects2 = ax.bar(ind + width/2, eval_hog, width,\n",
        "                label='Hog')\n",
        "\n",
        "\n",
        "ax.set_ylabel('Scores')\n",
        "ax.set_title('Evaluate')\n",
        "ax.set_xticks(ind)\n",
        "ax.set_xticklabels(('ACC', 'PRECI', 'RECALL', 'F1'))\n",
        "ax.legend()\n",
        "\n",
        "plt.show()"
      ],
      "execution_count": 95,
      "outputs": [
        {
          "output_type": "display_data",
          "data": {
            "image/png": "[encoded data removed]",
            "text/plain": [
              "<Figure size 432x288 with 1 Axes>"
            ]
          },
          "metadata": {
            "needs_background": "light"
          }
        }
      ]
    }
  ]
}