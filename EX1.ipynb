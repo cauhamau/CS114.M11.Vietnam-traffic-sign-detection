{
  "nbformat": 4,
  "nbformat_minor": 0,
  "metadata": {
    "colab": {
      "name": "EX1.ipynb",
      "provenance": [],
      "include_colab_link": true
    },
    "kernelspec": {
      "name": "python3",
      "display_name": "Python 3"
    },
    "language_info": {
      "name": "python"
    }
  },
  "cells": [
    {
      "cell_type": "markdown",
      "metadata": {
        "id": "view-in-github",
        "colab_type": "text"
      },
      "source": [
        "<a href=\"https://colab.research.google.com/github/lynguyenminhuit/CS114.M11/blob/LR-CS114/EX1.ipynb\" target=\"_parent\"><img src=\"https://colab.research.google.com/assets/colab-badge.svg\" alt=\"Open In Colab\"/></a>"
      ]
    },
    {
      "cell_type": "code",
      "metadata": {
        "id": "Lsd6f_PoDbB0"
      },
      "source": [
        "import pandas as pd"
      ],
      "execution_count": null,
      "outputs": []
    },
    {
      "cell_type": "code",
      "metadata": {
        "id": "cIxFpPShDn7c"
      },
      "source": [
        "df = pd.read_csv('https://cs.uit.edu.vn/data2.txt',sep =',')"
      ],
      "execution_count": null,
      "outputs": []
    },
    {
      "cell_type": "code",
      "metadata": {
        "id": "NcYZplMyD9lG"
      },
      "source": [
        "df"
      ],
      "execution_count": null,
      "outputs": []
    },
    {
      "cell_type": "code",
      "metadata": {
        "id": "mG0UvwMWEFFA"
      },
      "source": [
        "import numpy as np\n",
        "import matplotlib.pyplot as plt"
      ],
      "execution_count": null,
      "outputs": []
    },
    {
      "cell_type": "code",
      "metadata": {
        "id": "EJzkVdqSEB9W",
        "colab": {
          "base_uri": "https://localhost:8080/"
        },
        "outputId": "fbc8b020-e99a-4297-ffcf-844c2e6504f8"
      },
      "source": [
        "data = np.array(df)\n",
        "data"
      ],
      "execution_count": null,
      "outputs": [
        {
          "output_type": "execute_result",
          "data": {
            "text/plain": [
              "array([[1.954367e+06, 1.526480e-01],\n",
              "       [3.734185e+06, 2.985480e-01],\n",
              "       [5.839301e+06, 4.604800e-01],\n",
              "       ...,\n",
              "       [9.837364e+06, 8.013940e-01],\n",
              "       [9.466593e+06, 7.764070e-01],\n",
              "       [4.080801e+06, 3.144680e-01]])"
            ]
          },
          "metadata": {},
          "execution_count": 28
        }
      ]
    },
    {
      "cell_type": "code",
      "metadata": {
        "id": "e9XC0Z_UEshj"
      },
      "source": [
        "X = data[:,0]"
      ],
      "execution_count": null,
      "outputs": []
    },
    {
      "cell_type": "code",
      "metadata": {
        "id": "k81v1kVREwUn"
      },
      "source": [
        "y = data[:,1]"
      ],
      "execution_count": null,
      "outputs": []
    },
    {
      "cell_type": "code",
      "metadata": {
        "colab": {
          "base_uri": "https://localhost:8080/",
          "height": 297
        },
        "id": "JMei_1UgFnOe",
        "outputId": "07e78927-5354-4aaa-809a-1ccd159c7299"
      },
      "source": [
        "plt.scatter(X,y)\n",
        "plt.xlabel('Byte')\n",
        "plt.ylabel('s')\n",
        "plt.show"
      ],
      "execution_count": null,
      "outputs": [
        {
          "output_type": "execute_result",
          "data": {
            "text/plain": [
              "<function matplotlib.pyplot.show>"
            ]
          },
          "metadata": {},
          "execution_count": 59
        },
        {
          "output_type": "display_data",
          "data": {
            "image/png": "[encoded data removed]",
            "text/plain": [
              "<Figure size 432x288 with 1 Axes>"
            ]
          },
          "metadata": {
            "needs_background": "light"
          }
        }
      ]
    },
    {
      "cell_type": "code",
      "metadata": {
        "id": "UfNK5jg3L-Ic"
      },
      "source": [
        "from sklearn.linear_model import LinearRegression"
      ],
      "execution_count": null,
      "outputs": []
    },
    {
      "cell_type": "code",
      "metadata": {
        "colab": {
          "base_uri": "https://localhost:8080/"
        },
        "id": "tzN4ju1lOU5I",
        "outputId": "e6b1dbb0-1279-4727-b439-c5662bd6419d"
      },
      "source": [
        "LR = LinearRegression()\n",
        "LR.fit(X.reshape(-1,1),y.reshape(-1,1))"
      ],
      "execution_count": null,
      "outputs": [
        {
          "output_type": "execute_result",
          "data": {
            "text/plain": [
              "LinearRegression()"
            ]
          },
          "metadata": {},
          "execution_count": 60
        }
      ]
    },
    {
      "cell_type": "code",
      "metadata": {
        "colab": {
          "base_uri": "https://localhost:8080/"
        },
        "id": "zNV7AZ0vOe6t",
        "outputId": "3f3cbf75-00e7-4aef-8f4e-c08b5a719b6b"
      },
      "source": [
        "LR.coef_"
      ],
      "execution_count": null,
      "outputs": [
        {
          "output_type": "execute_result",
          "data": {
            "text/plain": [
              "array([[8.45569428e-08]])"
            ]
          },
          "metadata": {},
          "execution_count": 61
        }
      ]
    },
    {
      "cell_type": "code",
      "metadata": {
        "colab": {
          "base_uri": "https://localhost:8080/"
        },
        "id": "XFVC578APCm5",
        "outputId": "31f7c68d-08fa-439b-a0ad-773015e9d36e"
      },
      "source": [
        "LR.intercept_"
      ],
      "execution_count": null,
      "outputs": [
        {
          "output_type": "execute_result",
          "data": {
            "text/plain": [
              "array([-0.01589564])"
            ]
          },
          "metadata": {},
          "execution_count": 62
        }
      ]
    },
    {
      "cell_type": "code",
      "metadata": {
        "id": "oDrfn87jPGfz"
      },
      "source": [
        "dt = pd.read_csv('https://cs.uit.edu.vn/data3.txt', sep = ',')"
      ],
      "execution_count": null,
      "outputs": []
    },
    {
      "cell_type": "code",
      "metadata": {
        "id": "UtvCMh4KPlSV"
      },
      "source": [
        "test = np.array(dt)"
      ],
      "execution_count": null,
      "outputs": []
    },
    {
      "cell_type": "code",
      "metadata": {
        "id": "r4v-lEo4PrvN"
      },
      "source": [
        "X_test = test[:,0]\n",
        "y_test = test[:,1]"
      ],
      "execution_count": null,
      "outputs": []
    },
    {
      "cell_type": "code",
      "metadata": {
        "id": "fTBU1FF-QByu"
      },
      "source": [
        "y_pred = LR.predict(X_test.reshape(-1,1))"
      ],
      "execution_count": null,
      "outputs": []
    },
    {
      "cell_type": "code",
      "metadata": {
        "colab": {
          "base_uri": "https://localhost:8080/"
        },
        "id": "VXZYB1ZaQWO7",
        "outputId": "f758a00c-325d-4fa9-ea99-7f844f254099"
      },
      "source": [
        "y_pred"
      ],
      "execution_count": null,
      "outputs": [
        {
          "output_type": "execute_result",
          "data": {
            "text/plain": [
              "array([[3.14613204],\n",
              "       [3.07980396],\n",
              "       [2.48323985],\n",
              "       ...,\n",
              "       [2.81848039],\n",
              "       [1.78036982],\n",
              "       [1.79197272]])"
            ]
          },
          "metadata": {},
          "execution_count": 74
        }
      ]
    },
    {
      "cell_type": "code",
      "metadata": {
        "id": "1iSCdZuVQeso"
      },
      "source": [
        "from sklearn.metrics import r2_score"
      ],
      "execution_count": null,
      "outputs": []
    },
    {
      "cell_type": "code",
      "metadata": {
        "colab": {
          "base_uri": "https://localhost:8080/"
        },
        "id": "6cqIAwe-RCbM",
        "outputId": "08890e97-d3af-4607-b8b3-77b5dad301c8"
      },
      "source": [
        "print('R2 Score =',r2_score(y_test,y_pred))"
      ],
      "execution_count": null,
      "outputs": [
        {
          "output_type": "stream",
          "name": "stdout",
          "text": [
            "R2 Score = 0.9286487901424224\n"
          ]
        }
      ]
    }
  ]
}