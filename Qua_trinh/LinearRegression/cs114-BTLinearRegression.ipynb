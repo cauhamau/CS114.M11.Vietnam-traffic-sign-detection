{
  "nbformat": 4,
  "nbformat_minor": 0,
  "metadata": {
    "colab": {
      "name": "cs114Final.ipynb",
      "provenance": [],
      "toc_visible": true
    },
    "kernelspec": {
      "name": "python3",
      "display_name": "Python 3"
    },
    "language_info": {
      "name": "python"
    }
  },
  "cells": [
    {
      "cell_type": "markdown",
      "metadata": {
        "id": "YJ6y8m15zey_"
      },
      "source": [
        "# 1. Load data and observation"
      ]
    },
    {
      "cell_type": "code",
      "metadata": {
        "id": "XvISEbWICFUW"
      },
      "source": [
        "import pandas as pd\n",
        "import numpy as np\n",
        "import matplotlib.pyplot as plt\n",
        "import seaborn as sns"
      ],
      "execution_count": 408,
      "outputs": []
    },
    {
      "cell_type": "code",
      "metadata": {
        "id": "5gpp5mPNE3bR"
      },
      "source": [
        "from sklearn.metrics import r2_score"
      ],
      "execution_count": 409,
      "outputs": []
    },
    {
      "cell_type": "code",
      "metadata": {
        "id": "G9z63mmyCvoC"
      },
      "source": [
        "# Load data tập train\n",
        "df_train = pd.read_csv('https://cs.uit.edu.vn/data2.txt', sep=\",\", header=None)\n",
        "df_train.columns = [\"x\", \"y\"]"
      ],
      "execution_count": 410,
      "outputs": []
    },
    {
      "cell_type": "code",
      "metadata": {
        "id": "qZSzkk16Eb4B"
      },
      "source": [
        "# Load data tập test\n",
        "df_test1 = pd.read_csv('https://cs.uit.edu.vn/data3.txt', sep=\",\", header=None)\n",
        "df_test1.columns = [\"x\", \"y\"]\n",
        "df_test2 = pd.read_csv('https://cs.uit.edu.vn/data4.txt', sep=\",\", header=None)\n",
        "df_test2.columns = [\"x\", \"y\"]"
      ],
      "execution_count": 411,
      "outputs": []
    },
    {
      "cell_type": "code",
      "metadata": {
        "colab": {
          "base_uri": "https://localhost:8080/",
          "height": 112
        },
        "id": "RVZWrMlWC6RB",
        "outputId": "99764669-2c43-4690-ced7-5fc342aa496a"
      },
      "source": [
        "df_train.head(2)"
      ],
      "execution_count": 412,
      "outputs": [
        {
          "output_type": "execute_result",
          "data": {
            "text/html": [
              "<div>\n",
              "<style scoped>\n",
              "    .dataframe tbody tr th:only-of-type {\n",
              "        vertical-align: middle;\n",
              "    }\n",
              "\n",
              "    .dataframe tbody tr th {\n",
              "        vertical-align: top;\n",
              "    }\n",
              "\n",
              "    .dataframe thead th {\n",
              "        text-align: right;\n",
              "    }\n",
              "</style>\n",
              "<table border=\"1\" class=\"dataframe\">\n",
              "  <thead>\n",
              "    <tr style=\"text-align: right;\">\n",
              "      <th></th>\n",
              "      <th>x</th>\n",
              "      <th>y</th>\n",
              "    </tr>\n",
              "  </thead>\n",
              "  <tbody>\n",
              "    <tr>\n",
              "      <th>0</th>\n",
              "      <td>6083695</td>\n",
              "      <td>0.521842</td>\n",
              "    </tr>\n",
              "    <tr>\n",
              "      <th>1</th>\n",
              "      <td>1954367</td>\n",
              "      <td>0.152648</td>\n",
              "    </tr>\n",
              "  </tbody>\n",
              "</table>\n",
              "</div>"
            ],
            "text/plain": [
              "         x         y\n",
              "0  6083695  0.521842\n",
              "1  1954367  0.152648"
            ]
          },
          "metadata": {},
          "execution_count": 412
        }
      ]
    },
    {
      "cell_type": "code",
      "metadata": {
        "colab": {
          "base_uri": "https://localhost:8080/",
          "height": 300
        },
        "id": "-i7ALphlFhXy",
        "outputId": "24bae54a-79e8-47e5-c7b8-83444f37a0f0"
      },
      "source": [
        "df_train.describe()"
      ],
      "execution_count": 413,
      "outputs": [
        {
          "output_type": "execute_result",
          "data": {
            "text/html": [
              "<div>\n",
              "<style scoped>\n",
              "    .dataframe tbody tr th:only-of-type {\n",
              "        vertical-align: middle;\n",
              "    }\n",
              "\n",
              "    .dataframe tbody tr th {\n",
              "        vertical-align: top;\n",
              "    }\n",
              "\n",
              "    .dataframe thead th {\n",
              "        text-align: right;\n",
              "    }\n",
              "</style>\n",
              "<table border=\"1\" class=\"dataframe\">\n",
              "  <thead>\n",
              "    <tr style=\"text-align: right;\">\n",
              "      <th></th>\n",
              "      <th>x</th>\n",
              "      <th>y</th>\n",
              "    </tr>\n",
              "  </thead>\n",
              "  <tbody>\n",
              "    <tr>\n",
              "      <th>count</th>\n",
              "      <td>7.111500e+04</td>\n",
              "      <td>71115.000000</td>\n",
              "    </tr>\n",
              "    <tr>\n",
              "      <th>mean</th>\n",
              "      <td>4.998766e+06</td>\n",
              "      <td>0.406785</td>\n",
              "    </tr>\n",
              "    <tr>\n",
              "      <th>std</th>\n",
              "      <td>2.882618e+06</td>\n",
              "      <td>0.244039</td>\n",
              "    </tr>\n",
              "    <tr>\n",
              "      <th>min</th>\n",
              "      <td>2.550000e+02</td>\n",
              "      <td>0.000009</td>\n",
              "    </tr>\n",
              "    <tr>\n",
              "      <th>25%</th>\n",
              "      <td>2.496521e+06</td>\n",
              "      <td>0.192746</td>\n",
              "    </tr>\n",
              "    <tr>\n",
              "      <th>50%</th>\n",
              "      <td>5.010144e+06</td>\n",
              "      <td>0.403410</td>\n",
              "    </tr>\n",
              "    <tr>\n",
              "      <th>75%</th>\n",
              "      <td>7.481742e+06</td>\n",
              "      <td>0.616155</td>\n",
              "    </tr>\n",
              "    <tr>\n",
              "      <th>max</th>\n",
              "      <td>9.999882e+06</td>\n",
              "      <td>0.983776</td>\n",
              "    </tr>\n",
              "  </tbody>\n",
              "</table>\n",
              "</div>"
            ],
            "text/plain": [
              "                  x             y\n",
              "count  7.111500e+04  71115.000000\n",
              "mean   4.998766e+06      0.406785\n",
              "std    2.882618e+06      0.244039\n",
              "min    2.550000e+02      0.000009\n",
              "25%    2.496521e+06      0.192746\n",
              "50%    5.010144e+06      0.403410\n",
              "75%    7.481742e+06      0.616155\n",
              "max    9.999882e+06      0.983776"
            ]
          },
          "metadata": {},
          "execution_count": 413
        }
      ]
    },
    {
      "cell_type": "code",
      "metadata": {
        "colab": {
          "base_uri": "https://localhost:8080/",
          "height": 300
        },
        "id": "cvZOOGjPGp0T",
        "outputId": "08b15c5c-c85c-4944-dba8-e8519c5949b8"
      },
      "source": [
        "df_test1.describe()"
      ],
      "execution_count": 414,
      "outputs": [
        {
          "output_type": "execute_result",
          "data": {
            "text/html": [
              "<div>\n",
              "<style scoped>\n",
              "    .dataframe tbody tr th:only-of-type {\n",
              "        vertical-align: middle;\n",
              "    }\n",
              "\n",
              "    .dataframe tbody tr th {\n",
              "        vertical-align: top;\n",
              "    }\n",
              "\n",
              "    .dataframe thead th {\n",
              "        text-align: right;\n",
              "    }\n",
              "</style>\n",
              "<table border=\"1\" class=\"dataframe\">\n",
              "  <thead>\n",
              "    <tr style=\"text-align: right;\">\n",
              "      <th></th>\n",
              "      <th>x</th>\n",
              "      <th>y</th>\n",
              "    </tr>\n",
              "  </thead>\n",
              "  <tbody>\n",
              "    <tr>\n",
              "      <th>count</th>\n",
              "      <td>1.059000e+04</td>\n",
              "      <td>10590.000000</td>\n",
              "    </tr>\n",
              "    <tr>\n",
              "      <th>mean</th>\n",
              "      <td>2.999277e+07</td>\n",
              "      <td>2.642812</td>\n",
              "    </tr>\n",
              "    <tr>\n",
              "      <th>std</th>\n",
              "      <td>5.759381e+06</td>\n",
              "      <td>0.537305</td>\n",
              "    </tr>\n",
              "    <tr>\n",
              "      <th>min</th>\n",
              "      <td>2.000026e+07</td>\n",
              "      <td>1.669640</td>\n",
              "    </tr>\n",
              "    <tr>\n",
              "      <th>25%</th>\n",
              "      <td>2.503806e+07</td>\n",
              "      <td>2.180550</td>\n",
              "    </tr>\n",
              "    <tr>\n",
              "      <th>50%</th>\n",
              "      <td>2.994436e+07</td>\n",
              "      <td>2.639820</td>\n",
              "    </tr>\n",
              "    <tr>\n",
              "      <th>75%</th>\n",
              "      <td>3.500845e+07</td>\n",
              "      <td>3.100155</td>\n",
              "    </tr>\n",
              "    <tr>\n",
              "      <th>max</th>\n",
              "      <td>3.999734e+07</td>\n",
              "      <td>4.287660</td>\n",
              "    </tr>\n",
              "  </tbody>\n",
              "</table>\n",
              "</div>"
            ],
            "text/plain": [
              "                  x             y\n",
              "count  1.059000e+04  10590.000000\n",
              "mean   2.999277e+07      2.642812\n",
              "std    5.759381e+06      0.537305\n",
              "min    2.000026e+07      1.669640\n",
              "25%    2.503806e+07      2.180550\n",
              "50%    2.994436e+07      2.639820\n",
              "75%    3.500845e+07      3.100155\n",
              "max    3.999734e+07      4.287660"
            ]
          },
          "metadata": {},
          "execution_count": 414
        }
      ]
    },
    {
      "cell_type": "code",
      "metadata": {
        "colab": {
          "base_uri": "https://localhost:8080/",
          "height": 300
        },
        "id": "XRaVmzdRGqVY",
        "outputId": "3228951c-12f7-4dcc-9bd7-4444a703758e"
      },
      "source": [
        "df_test2.describe()"
      ],
      "execution_count": 415,
      "outputs": [
        {
          "output_type": "execute_result",
          "data": {
            "text/html": [
              "<div>\n",
              "<style scoped>\n",
              "    .dataframe tbody tr th:only-of-type {\n",
              "        vertical-align: middle;\n",
              "    }\n",
              "\n",
              "    .dataframe tbody tr th {\n",
              "        vertical-align: top;\n",
              "    }\n",
              "\n",
              "    .dataframe thead th {\n",
              "        text-align: right;\n",
              "    }\n",
              "</style>\n",
              "<table border=\"1\" class=\"dataframe\">\n",
              "  <thead>\n",
              "    <tr style=\"text-align: right;\">\n",
              "      <th></th>\n",
              "      <th>x</th>\n",
              "      <th>y</th>\n",
              "    </tr>\n",
              "  </thead>\n",
              "  <tbody>\n",
              "    <tr>\n",
              "      <th>count</th>\n",
              "      <td>6.023000e+03</td>\n",
              "      <td>6023.000000</td>\n",
              "    </tr>\n",
              "    <tr>\n",
              "      <th>mean</th>\n",
              "      <td>6.001134e+07</td>\n",
              "      <td>5.510494</td>\n",
              "    </tr>\n",
              "    <tr>\n",
              "      <th>std</th>\n",
              "      <td>5.788140e+06</td>\n",
              "      <td>0.571520</td>\n",
              "    </tr>\n",
              "    <tr>\n",
              "      <th>min</th>\n",
              "      <td>5.000951e+07</td>\n",
              "      <td>4.395220</td>\n",
              "    </tr>\n",
              "    <tr>\n",
              "      <th>25%</th>\n",
              "      <td>5.501938e+07</td>\n",
              "      <td>5.019585</td>\n",
              "    </tr>\n",
              "    <tr>\n",
              "      <th>50%</th>\n",
              "      <td>5.992788e+07</td>\n",
              "      <td>5.495210</td>\n",
              "    </tr>\n",
              "    <tr>\n",
              "      <th>75%</th>\n",
              "      <td>6.506852e+07</td>\n",
              "      <td>6.002910</td>\n",
              "    </tr>\n",
              "    <tr>\n",
              "      <th>max</th>\n",
              "      <td>6.999990e+07</td>\n",
              "      <td>7.615200</td>\n",
              "    </tr>\n",
              "  </tbody>\n",
              "</table>\n",
              "</div>"
            ],
            "text/plain": [
              "                  x            y\n",
              "count  6.023000e+03  6023.000000\n",
              "mean   6.001134e+07     5.510494\n",
              "std    5.788140e+06     0.571520\n",
              "min    5.000951e+07     4.395220\n",
              "25%    5.501938e+07     5.019585\n",
              "50%    5.992788e+07     5.495210\n",
              "75%    6.506852e+07     6.002910\n",
              "max    6.999990e+07     7.615200"
            ]
          },
          "metadata": {},
          "execution_count": 415
        }
      ]
    },
    {
      "cell_type": "code",
      "metadata": {
        "colab": {
          "base_uri": "https://localhost:8080/",
          "height": 282
        },
        "id": "5hgc5xVwC64K",
        "outputId": "e482a59e-1430-40c7-f5db-b01b42aafaa9"
      },
      "source": [
        "plt.scatter(df_train.x, df_train.y, color = 'g')\n",
        "plt.scatter(df_test1.x, df_test1.y, color = 'y')\n",
        "plt.scatter(df_test2.x, df_test2.y, color = 'purple')\n",
        "plt.title(\"\")\n",
        "plt.xlabel('bytes', fontsize = 13)\n",
        "plt.ylabel('secs', fontsize = 13);"
      ],
      "execution_count": 416,
      "outputs": [
        {
          "output_type": "display_data",
          "data": {
            "image/png": "[encoded data removed]",
            "text/plain": [
              "<Figure size 432x288 with 1 Axes>"
            ]
          },
          "metadata": {
            "needs_background": "light"
          }
        }
      ]
    },
    {
      "cell_type": "code",
      "metadata": {
        "id": "8x2MWwsMHKw-",
        "colab": {
          "base_uri": "https://localhost:8080/",
          "height": 276
        },
        "outputId": "1d5a01c0-c088-4695-c4d7-dc47dee89ec1"
      },
      "source": [
        "figure, axis = plt.subplots(2, 2)\n",
        "axis[0][0].boxplot(df_train['x'])\n",
        "axis[0][1].boxplot(df_test1['x'])\n",
        "axis[1][0].boxplot(df_test2['x']);"
      ],
      "execution_count": 417,
      "outputs": [
        {
          "output_type": "display_data",
          "data": {
            "image/png": "[encoded data removed]",
            "text/plain": [
              "<Figure size 432x288 with 4 Axes>"
            ]
          },
          "metadata": {
            "needs_background": "light"
          }
        }
      ]
    },
    {
      "cell_type": "code",
      "metadata": {
        "id": "Eady2nS4dqRC"
      },
      "source": [
        "# training set\n",
        "kind_train = np.full(shape=df_train.shape[0],\n",
        "                fill_value=1,\n",
        "                dtype=np.int\n",
        "                )\n",
        "df_train['kind'] = kind_train\n",
        "\n",
        "# testset 1\n",
        "kind_test1 = np.full(shape=df_test1.shape[0],\n",
        "                fill_value=2,\n",
        "                dtype=np.int\n",
        "                )\n",
        "df_test1['kind'] = kind_test1\n",
        "\n",
        "# testset 2\n",
        "kind_test2 = np.full(shape=df_test2.shape[0],\n",
        "                fill_value=3,\n",
        "                dtype=np.int\n",
        "                )\n",
        "df_test2['kind'] = kind_test2"
      ],
      "execution_count": 418,
      "outputs": []
    },
    {
      "cell_type": "code",
      "metadata": {
        "id": "0Gcgdv83df0d"
      },
      "source": [
        "frames = [df_train, df_test1, df_test2]"
      ],
      "execution_count": 419,
      "outputs": []
    },
    {
      "cell_type": "code",
      "metadata": {
        "id": "dSuAx3vpf2AT"
      },
      "source": [
        "result = df_train.append([df_test1, df_test2], sort=True)"
      ],
      "execution_count": 420,
      "outputs": []
    },
    {
      "cell_type": "code",
      "metadata": {
        "colab": {
          "base_uri": "https://localhost:8080/"
        },
        "id": "muTktIRUgUJz",
        "outputId": "e3bae13f-ad3c-4c88-fa0b-884d845c2f75"
      },
      "source": [
        "result.shape"
      ],
      "execution_count": 421,
      "outputs": [
        {
          "output_type": "execute_result",
          "data": {
            "text/plain": [
              "(87728, 3)"
            ]
          },
          "metadata": {},
          "execution_count": 421
        }
      ]
    },
    {
      "cell_type": "code",
      "metadata": {
        "id": "IJYZYvhzhumt"
      },
      "source": [
        "size = df_train.shape[0] + df_test1.shape[0] + df_test2.shape[0]\n",
        "index = np.arange(0, size)\n",
        "result.index = index"
      ],
      "execution_count": 422,
      "outputs": []
    },
    {
      "cell_type": "code",
      "metadata": {
        "colab": {
          "base_uri": "https://localhost:8080/",
          "height": 387
        },
        "id": "QjkOTAzeZMVk",
        "outputId": "b438aa8a-21f1-439d-df56-846a9efa50f6"
      },
      "source": [
        "sns.displot(data=result, x='x', hue='kind', kind='kde', fill=True, palette=sns.color_palette('bright')[:3], height=5, aspect=1.5)"
      ],
      "execution_count": 423,
      "outputs": [
        {
          "output_type": "execute_result",
          "data": {
            "text/plain": [
              "<seaborn.axisgrid.FacetGrid at 0x7ff7afb9b850>"
            ]
          },
          "metadata": {},
          "execution_count": 423
        },
        {
          "output_type": "display_data",
          "data": {
            "image/png": "[encoded data removed]",
            "text/plain": [
              "<Figure size 582.375x360 with 1 Axes>"
            ]
          },
          "metadata": {
            "needs_background": "light"
          }
        }
      ]
    },
    {
      "cell_type": "markdown",
      "metadata": {
        "id": "vM1u8kzuk099"
      },
      "source": [
        "Nhận xét về data: \n",
        "\n",
        "1. Data tập train, test1, test2 phân phối đều.\n",
        "2. Giá trị của x quá lớn so với giá trị y. Gấp ~ $\\frac{mean(xtrain)}{mean(train)} = 1,2.10^7$.\n",
        "3. Giá trị của x, y trong 3 tập khác nhau tương đối rõ. Ví dụ $0 <= x_{train} <= 1$ trong khi đó $5 <= x_{test2} <= 7$.\n",
        "4. Độ lệch chuẩn tập train($2,8.e^6$) nhỏ hơn so với tập test1 ($5,7.e^6$), test2($5,7.e^6$) trong khi đó số lượng phần tử của tập train(71115) lại lớn hơn tập test(10590 + 6023 = 16613) -> rất có khả năng tập train chưa đủ đa dạng, dễ làm cho model bị overfit.\n",
        "4. Data có vẻ có quan hệ tuyến tính. Đương thẳng dự đoán gần như song song với Ox.\n",
        "\n",
        "Hướng giải quyết đầu tiên: \n",
        "1. Dùng model linear regresion để dự đoán mô hình. Đánh giá kết quả thông qua R_square Score và MSE"
      ]
    },
    {
      "cell_type": "markdown",
      "metadata": {
        "id": "unXSzSSQ_rx_"
      },
      "source": [
        "![image.png](data:image/png;base64,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)"
      ]
    },
    {
      "cell_type": "markdown",
      "metadata": {
        "id": "7UmthXUpxdMz"
      },
      "source": [
        "![image.png](data:image/png;base64,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)"
      ]
    },
    {
      "cell_type": "markdown",
      "metadata": {
        "id": "3ZdrvW_pzj5I"
      },
      "source": [
        "# 2. Train model"
      ]
    },
    {
      "cell_type": "code",
      "metadata": {
        "id": "mFXlqgyKDM3Z"
      },
      "source": [
        "from sklearn.linear_model import LinearRegression"
      ],
      "execution_count": 424,
      "outputs": []
    },
    {
      "cell_type": "code",
      "metadata": {
        "id": "WRuoQrrRD8aJ"
      },
      "source": [
        "model = LinearRegression()"
      ],
      "execution_count": 425,
      "outputs": []
    },
    {
      "cell_type": "code",
      "metadata": {
        "id": "3hPSacn3EEEy"
      },
      "source": [
        "Xtrain, Ytrain = np.array(df_train.x).reshape(-1, 1), np.array(df_train.y).reshape(-1, 1)"
      ],
      "execution_count": 426,
      "outputs": []
    },
    {
      "cell_type": "code",
      "metadata": {
        "colab": {
          "base_uri": "https://localhost:8080/"
        },
        "id": "l0m7eVoHD-2p",
        "outputId": "d68554d3-d9bb-4e70-efbe-796e8e69e276"
      },
      "source": [
        "model.fit(Xtrain, Ytrain)"
      ],
      "execution_count": 427,
      "outputs": [
        {
          "output_type": "execute_result",
          "data": {
            "text/plain": [
              "LinearRegression()"
            ]
          },
          "metadata": {},
          "execution_count": 427
        }
      ]
    },
    {
      "cell_type": "code",
      "metadata": {
        "colab": {
          "base_uri": "https://localhost:8080/"
        },
        "id": "HjIIAXNAn4Ke",
        "outputId": "7d5eab5d-28b5-432f-e46d-a49f21adbe9f"
      },
      "source": [
        "print('w_0 = ', model.coef_)\n",
        "print('w_1 = ', model.intercept_)"
      ],
      "execution_count": 428,
      "outputs": [
        {
          "output_type": "stream",
          "name": "stdout",
          "text": [
            "w_0 =  [[8.45569856e-08]]\n",
            "w_1 =  [-0.01589553]\n"
          ]
        }
      ]
    },
    {
      "cell_type": "markdown",
      "metadata": {
        "id": "iLTQS87Soox0"
      },
      "source": [
        "Đúng như dự đoán ban đầu, đường thẳng tạo ra sẽ gần như song song ox, cụ thể, sloop của đường thẳng là 8.4e-8"
      ]
    },
    {
      "cell_type": "code",
      "metadata": {
        "colab": {
          "base_uri": "https://localhost:8080/",
          "height": 282
        },
        "id": "kgsJUYMNsdiV",
        "outputId": "a987be67-e138-4d1f-98ce-9a70f0e77531"
      },
      "source": [
        "plt.scatter(df_train.x, df_train.y, color = 'g')\n",
        "plt.scatter(df_test1.x, df_test1.y, color = 'y')\n",
        "plt.scatter(df_test2.x, df_test2.y, color = 'purple')\n",
        "X = [[0], [70000000]]\n",
        "Y = model.predict(X)\n",
        "plt.plot(X, Y, color = 'r', linewidth=4)\n",
        "plt.title(\"\")\n",
        "plt.xlabel('bytes', fontsize = 13)\n",
        "plt.ylabel('secs', fontsize = 13);"
      ],
      "execution_count": 429,
      "outputs": [
        {
          "output_type": "display_data",
          "data": {
            "image/png": "[encoded data removed]",
            "text/plain": [
              "<Figure size 432x288 with 1 Axes>"
            ]
          },
          "metadata": {
            "needs_background": "light"
          }
        }
      ]
    },
    {
      "cell_type": "markdown",
      "metadata": {
        "id": "K7xVgRGdsntV"
      },
      "source": [
        "* Trông có vẻ model mình fit chưa predict tốt trên tập test, cái đường thẳng dự đoán hơi bị chệch ra khỏi tập test.\n",
        "* Hãy dùng số liệu để đánh giá độ chính xác của mô hình, nhìn bằng mắt đôi khi chúng ta bị đánh lừa."
      ]
    },
    {
      "cell_type": "markdown",
      "metadata": {
        "id": "h1leaK6Ozorm"
      },
      "source": [
        "# 3. Predict model"
      ]
    },
    {
      "cell_type": "code",
      "metadata": {
        "id": "-LlUGmX3Epow"
      },
      "source": [
        "Xtest1, Ytest1 = np.array(df_test1.x).reshape(-1, 1), np.array(df_test1.y).reshape(-1, 1)\n",
        "Xtest2, Ytest2 = np.array(df_test2.x).reshape(-1, 1), np.array(df_test2.y).reshape(-1, 1)"
      ],
      "execution_count": 430,
      "outputs": []
    },
    {
      "cell_type": "code",
      "metadata": {
        "id": "5a00mxLKE0hR"
      },
      "source": [
        "Ypre1 = model.predict(Xtest1)\n",
        "Ypre2 = model.predict(Xtest2)"
      ],
      "execution_count": 431,
      "outputs": []
    },
    {
      "cell_type": "code",
      "metadata": {
        "colab": {
          "base_uri": "https://localhost:8080/"
        },
        "id": "-0it6s2fE9Ph",
        "outputId": "eeb44a8d-1e43-4189-bef1-fea900f892f8"
      },
      "source": [
        "print('Predict on test1: ', r2_score(Ytest1, Ypre1))\n",
        "print('Predict on test2: ', r2_score(Ytest2, Ypre2))"
      ],
      "execution_count": 432,
      "outputs": [
        {
          "output_type": "stream",
          "name": "stdout",
          "text": [
            "Predict on test1:  0.9284132208349453\n",
            "Predict on test2:  0.3156839605365861\n"
          ]
        }
      ]
    },
    {
      "cell_type": "markdown",
      "metadata": {
        "id": "MSG-v8dlt6c0"
      },
      "source": [
        "Đối với test2, độ chính xác quá thấp, nó không thể đáp ứng dc kì vọng dự đoán của chúng ta. Bây giờ ta tìm cách cải thiện model."
      ]
    },
    {
      "cell_type": "markdown",
      "metadata": {
        "id": "xmZKcZS2uTX-"
      },
      "source": [
        "# Cải tiến model"
      ]
    },
    {
      "cell_type": "markdown",
      "metadata": {
        "id": "BBPO0G_Bu6CP"
      },
      "source": [
        "## Phương pháp 1: Xóa bớt data nhỏ"
      ]
    },
    {
      "cell_type": "markdown",
      "metadata": {
        "id": "-A7ysYLevNB9"
      },
      "source": [
        "![image.png](data:image/png;base64,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)"
      ]
    },
    {
      "cell_type": "markdown",
      "metadata": {
        "id": "Rzg4aqbUvRPu"
      },
      "source": [
        "1. Với việc nhìn bằng mắt thường, có thể suy đoán 2 điểm màu xanh lá và màu tím là nơi có mật độ data rất nhiều, chúng tạo ra momen quay làm cho đường thẳng vô tình quay theo chiều kim đồng hồ, chệch đi so với tập test. \n",
        "2. Với hơn nữa, tập test của chúng ta là dự đoán giá trị lớn hơn tất cả các giá trị có trong tập train, nên tập train có dữ liệu nhỏ sẽ khó mà tổng quát được dữ liệu trong tập test và thực tế.\n",
        "\n",
        "Với những vấn đề như thế, hướng giải quyết tiếp theo là xóa bớt data train đi. Việc xóa bao nhiêu data cũng là một bài toán hack não. Xóa ít quá thì nó không giảm được sự ảnh hưởng của data giá trị nhỏ, xóa nhiều quá thì còn ít dữ liệu, có thể mất tính tổng quát của model. Vì thế chúng ta sẽ test ở nhiều ngưỡng, sau đó chọn cái phù hợp nhất. Những ý tưởng vừa đưa ra có thể không đúng, nhưng việc của ta là thử, để cuối cùng đạt đươc kết quả tốt nhất."
      ]
    },
    {
      "cell_type": "code",
      "metadata": {
        "id": "inin0dgOx8mg"
      },
      "source": [
        "def full_model(Xtrain, Ytrain, Xtest1, Ytest1, Xtest2, Ytest2):\n",
        "  model = LinearRegression()\n",
        "  model.fit(Xtrain, Ytrain)\n",
        "  y_pre1 = model.predict(Xtest1)\n",
        "  y_pre2 = model.predict(Xtest2)\n",
        "  return r2_score(Ytest1, y_pre1), r2_score(Ytest2, y_pre2)"
      ],
      "execution_count": 433,
      "outputs": []
    },
    {
      "cell_type": "code",
      "metadata": {
        "id": "nuJhmZcVzdrW"
      },
      "source": [
        "avg_value = np.mean(df_train.x)\n",
        "threshold = np.arange(10, 200, 2)/100"
      ],
      "execution_count": 434,
      "outputs": []
    },
    {
      "cell_type": "code",
      "metadata": {
        "id": "TUgQ5p00z3UF"
      },
      "source": [
        "def find_threshold(df_train, df_test1, df_test2):\n",
        "  result_r2 = []\n",
        "  for i in threshold: \n",
        "    df_train_temp = df_train[df_train.x >= i * avg_value]\n",
        "    Xtrain, Ytrain = np.array(df_train_temp.x).reshape(-1, 1), np.array(df_train_temp.y).reshape(-1, 1)\n",
        "    Xtest1, Ytest1 = np.array(df_test1.x).reshape(-1, 1), np.array(df_test1.y).reshape(-1, 1)\n",
        "    Xtest2, Ytest2 = np.array(df_test2.x).reshape(-1, 1), np.array(df_test2.y).reshape(-1, 1)\n",
        "    test1_Score, test2_Score = full_model(Xtrain, Ytrain, Xtest1, Ytest1, Xtest2, Ytest2)\n",
        "    result_r2.append([test1_Score, test2_Score, i, int(df_train_temp.shape[0]/ df_train.shape[0]* 100)])\n",
        "  return result_r2"
      ],
      "execution_count": 435,
      "outputs": []
    },
    {
      "cell_type": "code",
      "metadata": {
        "id": "eiAlAX6_0aSs"
      },
      "source": [
        "Predict_threshold = np.array(find_threshold(df_train, df_test1, df_test2))"
      ],
      "execution_count": 436,
      "outputs": []
    },
    {
      "cell_type": "code",
      "metadata": {
        "colab": {
          "base_uri": "https://localhost:8080/"
        },
        "id": "PsEE_tdhiIXk",
        "outputId": "47a47177-b962-417f-d87c-a74a001111e8"
      },
      "source": [
        "Predict_threshold"
      ],
      "execution_count": 437,
      "outputs": [
        {
          "output_type": "execute_result",
          "data": {
            "text/plain": [
              "array([[ 0.93715133,  0.37712332,  0.1       , 94.        ],\n",
              "       [ 0.93851391,  0.38689875,  0.12      , 93.        ],\n",
              "       [ 0.93992895,  0.39711297,  0.14      , 92.        ],\n",
              "       [ 0.94122581,  0.40653223,  0.16      , 91.        ],\n",
              "       [ 0.94247543,  0.41566353,  0.18      , 90.        ],\n",
              "       [ 0.94368549,  0.42455931,  0.2       , 89.        ],\n",
              "       [ 0.94472321,  0.43223223,  0.22      , 89.        ],\n",
              "       [ 0.94576219,  0.43995708,  0.24      , 88.        ],\n",
              "       [ 0.94684313,  0.44804052,  0.26      , 87.        ],\n",
              "       [ 0.94777582,  0.45505503,  0.28      , 86.        ],\n",
              "       [ 0.94881673,  0.46292843,  0.3       , 85.        ],\n",
              "       [ 0.94969715,  0.46962643,  0.32      , 84.        ],\n",
              "       [ 0.9506804 ,  0.47715005,  0.34      , 83.        ],\n",
              "       [ 0.95153373,  0.48371769,  0.36      , 82.        ],\n",
              "       [ 0.95236595,  0.49015874,  0.38      , 81.        ],\n",
              "       [ 0.95324345,  0.49698959,  0.4       , 80.        ],\n",
              "       [ 0.95403234,  0.50316651,  0.42      , 79.        ],\n",
              "       [ 0.9548725 ,  0.50978349,  0.44      , 78.        ],\n",
              "       [ 0.95558197,  0.51540344,  0.46      , 77.        ],\n",
              "       [ 0.95634756,  0.52150227,  0.48      , 75.        ],\n",
              "       [ 0.95707618,  0.52734063,  0.5       , 74.        ],\n",
              "       [ 0.95771417,  0.53248135,  0.52      , 74.        ],\n",
              "       [ 0.95838979,  0.53795528,  0.54      , 73.        ],\n",
              "       [ 0.95909932,  0.54373809,  0.56      , 71.        ],\n",
              "       [ 0.95976845,  0.54922474,  0.58      , 71.        ],\n",
              "       [ 0.96031875,  0.55376212,  0.6       , 70.        ],\n",
              "       [ 0.96096738,  0.55914045,  0.62      , 69.        ],\n",
              "       [ 0.96153431,  0.56386886,  0.64      , 68.        ],\n",
              "       [ 0.9621761 ,  0.56925361,  0.66      , 67.        ],\n",
              "       [ 0.96280056,  0.57452628,  0.68      , 66.        ],\n",
              "       [ 0.96324954,  0.57833855,  0.7       , 64.        ],\n",
              "       [ 0.96370452,  0.58222112,  0.72      , 63.        ],\n",
              "       [ 0.9642018 ,  0.58648715,  0.74      , 63.        ],\n",
              "       [ 0.96465665,  0.59041039,  0.76      , 62.        ],\n",
              "       [ 0.9652088 ,  0.59520067,  0.78      , 61.        ],\n",
              "       [ 0.96562169,  0.59880343,  0.8       , 59.        ],\n",
              "       [ 0.96615463,  0.60348033,  0.82      , 59.        ],\n",
              "       [ 0.96657342,  0.60717779,  0.84      , 58.        ],\n",
              "       [ 0.96695627,  0.61057591,  0.86      , 57.        ],\n",
              "       [ 0.96744605,  0.6149476 ,  0.88      , 56.        ],\n",
              "       [ 0.96791031,  0.61911805,  0.9       , 55.        ],\n",
              "       [ 0.96841144,  0.62364952,  0.92      , 54.        ],\n",
              "       [ 0.9688293 ,  0.62745289,  0.94      , 53.        ],\n",
              "       [ 0.96935633,  0.63228269,  0.96      , 52.        ],\n",
              "       [ 0.96964502,  0.63494462,  0.98      , 51.        ],\n",
              "       [ 0.97017358,  0.6398494 ,  1.        , 50.        ],\n",
              "       [ 0.97053033,  0.64318306,  1.02      , 49.        ],\n",
              "       [ 0.97094023,  0.64703812,  1.04      , 48.        ],\n",
              "       [ 0.97142477,  0.65162883,  1.06      , 47.        ],\n",
              "       [ 0.97171229,  0.65437071,  1.08      , 46.        ],\n",
              "       [ 0.97206752,  0.65777897,  1.1       , 45.        ],\n",
              "       [ 0.97230473,  0.66006748,  1.12      , 44.        ],\n",
              "       [ 0.97282048,  0.66507819,  1.14      , 43.        ],\n",
              "       [ 0.97322873,  0.66907937,  1.16      , 42.        ],\n",
              "       [ 0.9738855 ,  0.675583  ,  1.18      , 41.        ],\n",
              "       [ 0.97418508,  0.67857835,  1.2       , 40.        ],\n",
              "       [ 0.9743707 ,  0.68044464,  1.22      , 39.        ],\n",
              "       [ 0.97477936,  0.68458071,  1.24      , 37.        ],\n",
              "       [ 0.97502555,  0.68709108,  1.26      , 37.        ],\n",
              "       [ 0.97519521,  0.68882937,  1.28      , 35.        ],\n",
              "       [ 0.975743  ,  0.69449251,  1.3       , 34.        ],\n",
              "       [ 0.97613045,  0.69854374,  1.32      , 33.        ],\n",
              "       [ 0.9766176 ,  0.70369333,  1.34      , 32.        ],\n",
              "       [ 0.97665289,  0.70406825,  1.36      , 31.        ],\n",
              "       [ 0.97689348,  0.70664051,  1.38      , 30.        ],\n",
              "       [ 0.97708253,  0.7086741 ,  1.4       , 29.        ],\n",
              "       [ 0.9774114 ,  0.71223929,  1.42      , 28.        ],\n",
              "       [ 0.97756429,  0.71390883,  1.44      , 27.        ],\n",
              "       [ 0.97739774,  0.71208955,  1.46      , 26.        ],\n",
              "       [ 0.97744051,  0.71255757,  1.48      , 25.        ],\n",
              "       [ 0.97761747,  0.71449608,  1.5       , 24.        ],\n",
              "       [ 0.97769965,  0.71540001,  1.52      , 23.        ],\n",
              "       [ 0.9773866 ,  0.71196505,  1.54      , 22.        ],\n",
              "       [ 0.97797678,  0.7184723 ,  1.56      , 21.        ],\n",
              "       [ 0.97756632,  0.71393317,  1.58      , 20.        ],\n",
              "       [ 0.97688503,  0.70650349,  1.6       , 19.        ],\n",
              "       [ 0.97800101,  0.71875626,  1.62      , 18.        ],\n",
              "       [ 0.97850329,  0.72440516,  1.64      , 17.        ],\n",
              "       [ 0.97778405,  0.71633555,  1.66      , 16.        ],\n",
              "       [ 0.97927669,  0.73328864,  1.68      , 15.        ],\n",
              "       [ 0.98036745,  0.74624389,  1.7       , 15.        ],\n",
              "       [ 0.98142062,  0.75931979,  1.72      , 14.        ],\n",
              "       [ 0.98232546,  0.77112452,  1.74      , 13.        ],\n",
              "       [ 0.98318782,  0.78299379,  1.76      , 11.        ],\n",
              "       [ 0.98389321,  0.79328202,  1.78      , 10.        ],\n",
              "       [ 0.98221527,  0.7696194 ,  1.8       ,  9.        ],\n",
              "       [ 0.98311425,  0.78195585,  1.82      ,  8.        ],\n",
              "       [ 0.98485411,  0.80851907,  1.84      ,  7.        ],\n",
              "       [ 0.98509644,  0.81264715,  1.86      ,  6.        ],\n",
              "       [ 0.98661953,  0.84346235,  1.88      ,  5.        ],\n",
              "       [ 0.98254971,  0.77399176,  1.9       ,  4.        ],\n",
              "       [ 0.9870059 ,  0.90947529,  1.92      ,  3.        ],\n",
              "       [ 0.98681915,  0.84875467,  1.94      ,  2.        ],\n",
              "       [ 0.9717949 ,  0.95466538,  1.96      ,  1.        ],\n",
              "       [ 0.98550879,  0.81992274,  1.98      ,  1.        ]])"
            ]
          },
          "metadata": {},
          "execution_count": 437
        }
      ]
    },
    {
      "cell_type": "code",
      "metadata": {
        "id": "_s1Qai781mEF",
        "colab": {
          "base_uri": "https://localhost:8080/",
          "height": 283
        },
        "outputId": "52d4ca4e-e466-4cad-e6cc-eaf8c3c94130"
      },
      "source": [
        "x_pivot = np.arange(Predict_threshold.shape[0])\n",
        "plt.plot(x_pivot, Predict_threshold[:, 0], label = 'test1', linewidth=4)\n",
        "plt.plot(x_pivot, Predict_threshold[:, 1], label = 'test2', linewidth=4)\n",
        "plt.plot(x_pivot, Predict_threshold[:, 3]/100, label = 'remain_dataset', linewidth=4)\n",
        "plt.legend()"
      ],
      "execution_count": 438,
      "outputs": [
        {
          "output_type": "execute_result",
          "data": {
            "text/plain": [
              "<matplotlib.legend.Legend at 0x7ff7af149d50>"
            ]
          },
          "metadata": {},
          "execution_count": 438
        },
        {
          "output_type": "display_data",
          "data": {
            "image/png": "[encoded data removed]",
            "text/plain": [
              "<Figure size 432x288 with 1 Axes>"
            ]
          },
          "metadata": {
            "needs_background": "light"
          }
        }
      ]
    },
    {
      "cell_type": "code",
      "metadata": {
        "id": "_rurEPhZ1dtw",
        "colab": {
          "base_uri": "https://localhost:8080/"
        },
        "outputId": "90ef72d9-57f7-443d-b336-122143f590f7"
      },
      "source": [
        "print(\"Delete small value:\")\n",
        "print('Max r2_Score in test1: ', Predict_threshold[np.argmax(Predict_threshold[:, 0]), :])\n",
        "print('Max r2_Score in test2: ', Predict_threshold[np.argmax(Predict_threshold[:, 1]), :])"
      ],
      "execution_count": 439,
      "outputs": [
        {
          "output_type": "stream",
          "name": "stdout",
          "text": [
            "Delete small value:\n",
            "Max r2_Score in test1:  [0.9870059  0.90947529 1.92       3.        ]\n",
            "Max r2_Score in test2:  [0.9717949  0.95466538 1.96       1.        ]\n"
          ]
        }
      ]
    },
    {
      "cell_type": "markdown",
      "metadata": {
        "id": "2iMQk4W30_jV"
      },
      "source": [
        "Nhận xét: \n",
        "1. Khi bỏ càng nhiều data có giá trị nhỏ, độ chính xác mô hình nhìn chung là tăng.\n",
        "2. Độ đo r2 đạt giá trị max trên tập $test1$ và $test2$ thì tham số threshold mang giá trị $1.96 hoặc 0.92$. Nhưng để được độ chính xác tuyệt thế này thì phải đánh đổi một cái giá rất đắt, đó là data. Khi này data chúng ta còn chỉ ~1% so với dữ liệu gốc ban đầu. Một phép tính đơn giản, 1% của tập train $ = 0.01 * 71K = 710$ ảnh. Khi này, mô hình học 710 ảnh, nhưng cho dự đoán gần 16613 ảnh. Nếu bạn lạc quan cho là model này là \"thần đồng, học 1 biết 10\" thì cũng không cứu nỗi ca này đâu! Có chăng có thể lý giải cho tại sao r2_score cao trên tập test như sau:\n",
        "* Mô hình đã bỏ bớt đi những giá trị nhỏ, Nếu bạn còn nhớ suy luận ở trên, chính những điểm giá trị nhỏ này có mật độ cao làm cho đường thẳng quay theo kim đồng hồ. Khi bị xóa bớt, ảnh hưởng của nó giảm, làm cho đường thẳng quay theo hướng ngược lại, vô tình đi qua các điểm trong tập test, làm cho giá trị lỗi giảm, r2_score tăng.\n",
        "3. Tóm lại, bỏ bớt data có giá trị nhỏ sẽ làm cho mô hình này chính xác hơn, nhưng như phân tích ở trên thì việc bỏ càng nhiều càng làm mất tính tổng quát của mô hình. Nên chúng ta vẫn bỏ, nhưng sẽ tìm thêm hướng giải quyết khác trước khi áp dụng cách này."
      ]
    },
    {
      "cell_type": "code",
      "metadata": {
        "colab": {
          "base_uri": "https://localhost:8080/"
        },
        "id": "pl0s9p1w5r4_",
        "outputId": "7f812bb3-a134-4621-e653-a3e3819d0b0e"
      },
      "source": [
        "df_test1.shape[0] + df_test2.shape[0]"
      ],
      "execution_count": 440,
      "outputs": [
        {
          "output_type": "execute_result",
          "data": {
            "text/plain": [
              "16613"
            ]
          },
          "metadata": {},
          "execution_count": 440
        }
      ]
    },
    {
      "cell_type": "markdown",
      "metadata": {
        "id": "CXhqDyj_lB2V"
      },
      "source": [
        "## Phương pháp 2: Dùng hàm phức tạp hơn để dự đoán"
      ]
    },
    {
      "cell_type": "markdown",
      "metadata": {
        "id": "YKbm8EqGlh8v"
      },
      "source": [
        "$y = w_1 x + w_2 x^2 + w_3 x ^ 3 + w_4 xlnx + w_5log_{2}x + w_6\\sqrt{x} + w_7$"
      ]
    },
    {
      "cell_type": "code",
      "metadata": {
        "id": "gsSyqmfilcYj"
      },
      "source": [
        "def convert(x):\n",
        "  x = np.array(x).reshape(-1, 1)\n",
        "  x2 = (x ** 2).reshape(-1, 1)\n",
        "  x3 = (x ** 3).reshape(-1, 1)\n",
        "  xlnx = (x * np.log(x)).reshape(-1, 1)\n",
        "  log2 = (np.log(x)/ np.log(2)).reshape(-1, 1)\n",
        "  sqrtx = (np.sqrt(x)).reshape(-1, 1)\n",
        "  X = np.concatenate((x, x2, x3, xlnx, log2, sqrtx), axis = 1)\n",
        "  return X"
      ],
      "execution_count": 441,
      "outputs": []
    },
    {
      "cell_type": "code",
      "metadata": {
        "id": "FtrioIi9mfo8"
      },
      "source": [
        "Xtrain = convert(df_train.x)"
      ],
      "execution_count": 442,
      "outputs": []
    },
    {
      "cell_type": "code",
      "metadata": {
        "id": "2do2iI2KpiQO"
      },
      "source": [
        "Xtest1 = convert(df_test1.x)\n",
        "Xtest2 = convert(df_test2.x)"
      ],
      "execution_count": 443,
      "outputs": []
    },
    {
      "cell_type": "code",
      "metadata": {
        "colab": {
          "base_uri": "https://localhost:8080/"
        },
        "id": "z7K6265uq5Iu",
        "outputId": "1239c091-1b44-454d-cb69-896f4fbaa51e"
      },
      "source": [
        "model_multiple = LinearRegression()\n",
        "model_multiple.fit(Xtrain, df_train.y)"
      ],
      "execution_count": 444,
      "outputs": [
        {
          "output_type": "execute_result",
          "data": {
            "text/plain": [
              "LinearRegression()"
            ]
          },
          "metadata": {},
          "execution_count": 444
        }
      ]
    },
    {
      "cell_type": "code",
      "metadata": {
        "id": "2DAl2LNZp-qU"
      },
      "source": [
        "X_pivot = np.arange(1, max(df_test2.x), 70000)\n",
        "X_convert = convert(X_pivot)\n",
        "Y_pivot = model_multiple.predict(X_convert)"
      ],
      "execution_count": 445,
      "outputs": []
    },
    {
      "cell_type": "code",
      "metadata": {
        "colab": {
          "base_uri": "https://localhost:8080/",
          "height": 282
        },
        "id": "UPSVIqptr9zG",
        "outputId": "6274990d-de2c-4a9f-b3c2-5a62aed01e26"
      },
      "source": [
        "plt.scatter(df_train.x, df_train.y, color = 'g')\n",
        "plt.scatter(df_test1.x, df_test1.y, color = 'y')\n",
        "plt.scatter(df_test2.x, df_test2.y, color = 'purple')\n",
        "plt.title(\"\")\n",
        "plt.xlabel('bytes', fontsize = 13)\n",
        "plt.ylabel('secs', fontsize = 13)\n",
        "plt.scatter(X_pivot, Y_pivot, color = 'r');"
      ],
      "execution_count": 446,
      "outputs": [
        {
          "output_type": "display_data",
          "data": {
            "image/png": "[encoded data removed]",
            "text/plain": [
              "<Figure size 432x288 with 1 Axes>"
            ]
          },
          "metadata": {
            "needs_background": "light"
          }
        }
      ]
    },
    {
      "cell_type": "markdown",
      "metadata": {
        "id": "gMlWeHOs03Ut"
      },
      "source": [
        "Trông có vẻ khả thi nhỉ!"
      ]
    },
    {
      "cell_type": "code",
      "metadata": {
        "id": "Fio1G9ZWtTtk"
      },
      "source": [
        "Y_pre1 = model_multiple.predict(Xtest1)\n",
        "Y_pre2 = model_multiple.predict(Xtest2)"
      ],
      "execution_count": 447,
      "outputs": []
    },
    {
      "cell_type": "code",
      "metadata": {
        "colab": {
          "base_uri": "https://localhost:8080/"
        },
        "id": "VHLGX2b_tsSk",
        "outputId": "9a92dffa-5f08-4acc-ce6c-ffc23d2a5fda"
      },
      "source": [
        "print(\"Use model more complex:\")\n",
        "print('Predict on test1: ', r2_score(df_test1.y, Y_pre1))\n",
        "print('Predict on test2: ', r2_score(df_test2.y, Y_pre2))"
      ],
      "execution_count": 448,
      "outputs": [
        {
          "output_type": "stream",
          "name": "stdout",
          "text": [
            "Use model more complex:\n",
            "Predict on test1:  0.9851916927890714\n",
            "Predict on test2:  0.9541022535881281\n"
          ]
        }
      ]
    },
    {
      "cell_type": "markdown",
      "metadata": {
        "id": "8D5BX4mc9kQe"
      },
      "source": [
        "WoW, nếu dùng hàm trông có vẻ phức tạp ở trên thì kết quả cải thiện đáng kể đó, trong khi mình không cần xóa bớt tí dữ liệu nào. Vì thế mà mô hình có khả năng rất cao có được rule tổng quát của bài toán."
      ]
    },
    {
      "cell_type": "markdown",
      "metadata": {
        "id": "-L21xTxdDKAQ"
      },
      "source": [
        "## Phương pháp 3: Kết hợp 2 phương pháp trên"
      ]
    },
    {
      "cell_type": "markdown",
      "metadata": {
        "id": "AK1rRK7u-yvO"
      },
      "source": [
        "Nếu kết hợp 2 phương pháp lại thì sao nhỉ? Thử và sai thôi."
      ]
    },
    {
      "cell_type": "code",
      "metadata": {
        "id": "7w8CQb1j-x7d"
      },
      "source": [
        "def find_threshold_multiplemodel(df_train, df_test1, df_test2):\n",
        "  result = []\n",
        "  for i in threshold:\n",
        "    df_train_temp = df_train[df_train.x > i * avg_value]\n",
        "    Xtrain, Ytrain = convert(df_train_temp.x), df_train_temp.y\n",
        "    Xtest1, Ytest1 = convert(df_test1.x), df_test1.y\n",
        "    Xtest2, Ytest2 = convert(df_test2.x), df_test2.y\n",
        "    Model_temp = LinearRegression().fit(Xtrain, Ytrain)\n",
        "    Y_pre1 = Model_temp.predict(Xtest1)\n",
        "    Y_pre2 = Model_temp.predict(Xtest2)\n",
        "    result.append([r2_score(Ytest1, Y_pre1), r2_score(Ytest2, Y_pre2), i, int(df_train_temp.shape[0]/ df_train.shape[0] * 100)])\n",
        "  return result"
      ],
      "execution_count": 449,
      "outputs": []
    },
    {
      "cell_type": "code",
      "metadata": {
        "id": "mEYzIV1DCPFp"
      },
      "source": [
        "Predict_threshold_multiple = np.array(find_threshold_multiplemodel(df_train, df_test1, df_test2))"
      ],
      "execution_count": 450,
      "outputs": []
    },
    {
      "cell_type": "code",
      "metadata": {
        "colab": {
          "base_uri": "https://localhost:8080/"
        },
        "id": "pqQ8ohWPCl8O",
        "outputId": "84ca424f-4b8d-4c5c-94cd-82dc4ce955bf"
      },
      "source": [
        "Predict_threshold_multiple"
      ],
      "execution_count": 451,
      "outputs": [
        {
          "output_type": "execute_result",
          "data": {
            "text/plain": [
              "array([[ 9.85260294e-01,  9.54370584e-01,  1.00000000e-01,\n",
              "         9.40000000e+01],\n",
              "       [ 9.85090301e-01,  9.53624049e-01,  1.20000000e-01,\n",
              "         9.30000000e+01],\n",
              "       [ 9.84741488e-01,  9.51742442e-01,  1.40000000e-01,\n",
              "         9.20000000e+01],\n",
              "       [ 9.84264900e-01,  9.48519097e-01,  1.60000000e-01,\n",
              "         9.10000000e+01],\n",
              "       [ 9.83808443e-01,  9.44839554e-01,  1.80000000e-01,\n",
              "         9.00000000e+01],\n",
              "       [ 9.83786919e-01,  9.44654740e-01,  2.00000000e-01,\n",
              "         8.90000000e+01],\n",
              "       [ 9.83559437e-01,  9.42606908e-01,  2.20000000e-01,\n",
              "         8.90000000e+01],\n",
              "       [ 9.83488825e-01,  9.41946990e-01,  2.40000000e-01,\n",
              "         8.80000000e+01],\n",
              "       [ 9.82927352e-01,  9.36312246e-01,  2.60000000e-01,\n",
              "         8.70000000e+01],\n",
              "       [ 9.82653781e-01,  9.33352798e-01,  2.80000000e-01,\n",
              "         8.60000000e+01],\n",
              "       [ 9.82235794e-01,  9.28566655e-01,  3.00000000e-01,\n",
              "         8.50000000e+01],\n",
              "       [ 9.82332393e-01,  9.29702808e-01,  3.20000000e-01,\n",
              "         8.40000000e+01],\n",
              "       [ 9.80845598e-01,  9.10823546e-01,  3.40000000e-01,\n",
              "         8.30000000e+01],\n",
              "       [ 9.80511959e-01,  9.06222609e-01,  3.60000000e-01,\n",
              "         8.20000000e+01],\n",
              "       [ 9.80565484e-01,  9.06950764e-01,  3.80000000e-01,\n",
              "         8.10000000e+01],\n",
              "       [ 9.78069624e-01,  8.69054298e-01,  4.00000000e-01,\n",
              "         8.00000000e+01],\n",
              "       [ 9.76491337e-01,  8.42699690e-01,  4.20000000e-01,\n",
              "         7.90000000e+01],\n",
              "       [ 9.73394469e-01,  7.86966926e-01,  4.40000000e-01,\n",
              "         7.80000000e+01],\n",
              "       [ 9.75581152e-01,  8.26922002e-01,  4.60000000e-01,\n",
              "         7.70000000e+01],\n",
              "       [ 9.74831471e-01,  8.13463794e-01,  4.80000000e-01,\n",
              "         7.50000000e+01],\n",
              "       [ 9.75032657e-01,  8.17180871e-01,  5.00000000e-01,\n",
              "         7.40000000e+01],\n",
              "       [ 9.74834575e-01,  8.13608234e-01,  5.20000000e-01,\n",
              "         7.40000000e+01],\n",
              "       [ 9.75432003e-01,  8.24507642e-01,  5.40000000e-01,\n",
              "         7.30000000e+01],\n",
              "       [ 9.71968524e-01,  7.59041692e-01,  5.60000000e-01,\n",
              "         7.10000000e+01],\n",
              "       [ 9.62256187e-01,  5.54711344e-01,  5.80000000e-01,\n",
              "         7.10000000e+01],\n",
              "       [ 9.62596727e-01,  5.62265825e-01,  6.00000000e-01,\n",
              "         7.00000000e+01],\n",
              "       [ 9.54302008e-01,  3.72787766e-01,  6.20000000e-01,\n",
              "         6.90000000e+01],\n",
              "       [ 9.56487125e-01,  4.23858939e-01,  6.40000000e-01,\n",
              "         6.80000000e+01],\n",
              "       [ 9.48657873e-01,  2.37290762e-01,  6.60000000e-01,\n",
              "         6.70000000e+01],\n",
              "       [ 9.27643350e-01, -2.91336771e-01,  6.80000000e-01,\n",
              "         6.60000000e+01],\n",
              "       [ 9.45420409e-01,  1.59514756e-01,  7.00000000e-01,\n",
              "         6.40000000e+01],\n",
              "       [ 9.50221272e-01,  2.77364469e-01,  7.20000000e-01,\n",
              "         6.30000000e+01],\n",
              "       [ 9.85024372e-01,  9.54845215e-01,  7.40000000e-01,\n",
              "         6.30000000e+01],\n",
              "       [ 9.84208641e-01,  9.51655508e-01,  7.60000000e-01,\n",
              "         6.20000000e+01],\n",
              "       [ 9.84371671e-01,  9.52423148e-01,  7.80000000e-01,\n",
              "         6.10000000e+01],\n",
              "       [ 9.83299955e-01,  9.46431479e-01,  8.00000000e-01,\n",
              "         5.90000000e+01],\n",
              "       [ 9.83594267e-01,  9.48281172e-01,  8.20000000e-01,\n",
              "         5.90000000e+01],\n",
              "       [ 9.82448833e-01,  9.40348075e-01,  8.40000000e-01,\n",
              "         5.80000000e+01],\n",
              "       [ 9.81361145e-01,  9.31328160e-01,  8.60000000e-01,\n",
              "         5.70000000e+01],\n",
              "       [ 9.81726280e-01,  9.34498755e-01,  8.80000000e-01,\n",
              "         5.60000000e+01],\n",
              "       [ 9.81619312e-01,  9.33580554e-01,  9.00000000e-01,\n",
              "         5.50000000e+01],\n",
              "       [ 9.82110039e-01,  9.37696765e-01,  9.20000000e-01,\n",
              "         5.40000000e+01],\n",
              "       [ 9.81802026e-01,  9.35137063e-01,  9.40000000e-01,\n",
              "         5.30000000e+01],\n",
              "       [ 9.82630035e-01,  9.41781334e-01,  9.60000000e-01,\n",
              "         5.20000000e+01],\n",
              "       [ 9.80936786e-01,  9.27395783e-01,  9.80000000e-01,\n",
              "         5.10000000e+01],\n",
              "       [ 9.82189622e-01,  9.38341360e-01,  1.00000000e+00,\n",
              "         5.00000000e+01],\n",
              "       [ 9.81839974e-01,  9.35434893e-01,  1.02000000e+00,\n",
              "         4.90000000e+01],\n",
              "       [ 9.81561842e-01,  9.33036558e-01,  1.04000000e+00,\n",
              "         4.80000000e+01],\n",
              "       [ 9.82859582e-01,  9.43527559e-01,  1.06000000e+00,\n",
              "         4.70000000e+01],\n",
              "       [ 9.81441785e-01,  9.31932121e-01,  1.08000000e+00,\n",
              "         4.60000000e+01],\n",
              "       [ 9.80271362e-01,  9.20833220e-01,  1.10000000e+00,\n",
              "         4.50000000e+01],\n",
              "       [ 9.77608264e-01,  8.91902501e-01,  1.12000000e+00,\n",
              "         4.40000000e+01],\n",
              "       [ 9.80564918e-01,  9.23782088e-01,  1.14000000e+00,\n",
              "         4.30000000e+01],\n",
              "       [ 9.81746884e-01,  9.34726966e-01,  1.16000000e+00,\n",
              "         4.20000000e+01],\n",
              "       [ 9.86515691e-01,  9.53769671e-01,  1.18000000e+00,\n",
              "         4.10000000e+01],\n",
              "       [ 9.86750724e-01,  9.52093655e-01,  1.20000000e+00,\n",
              "         4.00000000e+01],\n",
              "       [ 9.85451078e-01,  9.55851505e-01,  1.22000000e+00,\n",
              "         3.90000000e+01],\n",
              "       [ 9.86654356e-01,  9.52846257e-01,  1.24000000e+00,\n",
              "         3.70000000e+01],\n",
              "       [ 9.86529471e-01,  9.53685547e-01,  1.26000000e+00,\n",
              "         3.70000000e+01],\n",
              "       [ 9.84655894e-01,  9.53832502e-01,  1.28000000e+00,\n",
              "         3.50000000e+01],\n",
              "       [ 9.87781122e-01,  9.27161065e-01,  1.30000000e+00,\n",
              "         3.40000000e+01],\n",
              "       [ 9.87643919e-01,  8.65121419e-01,  1.32000000e+00,\n",
              "         3.30000000e+01],\n",
              "       [ 9.83047691e-01,  6.48261714e-01,  1.34000000e+00,\n",
              "         3.20000000e+01],\n",
              "       [ 9.86005104e-01,  7.70486583e-01,  1.36000000e+00,\n",
              "         3.10000000e+01],\n",
              "       [ 9.84510789e-01,  7.05566090e-01,  1.38000000e+00,\n",
              "         3.00000000e+01],\n",
              "       [ 9.83469090e-01,  6.64260104e-01,  1.40000000e+00,\n",
              "         2.90000000e+01],\n",
              "       [ 9.77182441e-01,  4.42562216e-01,  1.42000000e+00,\n",
              "         2.80000000e+01],\n",
              "       [ 9.76018671e-01,  4.04297580e-01,  1.44000000e+00,\n",
              "         2.70000000e+01],\n",
              "       [ 9.86600871e-01,  8.00644162e-01,  1.46000000e+00,\n",
              "         2.60000000e+01],\n",
              "       [ 9.87884697e-01,  9.19611755e-01,  1.48000000e+00,\n",
              "         2.50000000e+01],\n",
              "       [ 9.87835203e-01,  9.25275999e-01,  1.50000000e+00,\n",
              "         2.40000000e+01],\n",
              "       [ 9.86187647e-01,  9.55605606e-01,  1.52000000e+00,\n",
              "         2.30000000e+01],\n",
              "       [ 9.46038167e-01,  3.67850291e-01,  1.54000000e+00,\n",
              "         2.20000000e+01],\n",
              "       [ 9.73010455e-01,  8.20628847e-01,  1.56000000e+00,\n",
              "         2.10000000e+01],\n",
              "       [ 8.60833277e-01, -1.30034658e+00,  1.58000000e+00,\n",
              "         2.00000000e+01],\n",
              "       [ 4.12384734e-01, -1.09572396e+01,  1.60000000e+00,\n",
              "         1.90000000e+01],\n",
              "       [ 5.83923686e-01, -7.18932342e+00,  1.62000000e+00,\n",
              "         1.80000000e+01],\n",
              "       [ 4.40069885e-01, -1.03454016e+01,  1.64000000e+00,\n",
              "         1.70000000e+01],\n",
              "       [-7.38792690e-01, -3.69850613e+01,  1.66000000e+00,\n",
              "         1.60000000e+01],\n",
              "       [-3.45712585e-01, -2.80196538e+01,  1.68000000e+00,\n",
              "         1.50000000e+01],\n",
              "       [-1.29458382e-01, -2.30992231e+01,  1.70000000e+00,\n",
              "         1.50000000e+01],\n",
              "       [ 3.66515518e-01, -1.19313047e+01,  1.72000000e+00,\n",
              "         1.40000000e+01],\n",
              "       [ 5.41801002e-01, -8.02859419e+00,  1.74000000e+00,\n",
              "         1.30000000e+01],\n",
              "       [ 8.60292689e-01, -1.20667337e+00,  1.76000000e+00,\n",
              "         1.10000000e+01],\n",
              "       [ 9.02459979e-01, -2.00318115e+00,  1.78000000e+00,\n",
              "         1.00000000e+01],\n",
              "       [-1.05025160e+00, -4.47502988e+01,  1.80000000e+00,\n",
              "         9.00000000e+00],\n",
              "       [-2.52006719e+00, -7.92117567e+01,  1.82000000e+00,\n",
              "         8.00000000e+00],\n",
              "       [ 5.86320253e-01, -7.00391589e+00,  1.84000000e+00,\n",
              "         7.00000000e+00],\n",
              "       [-1.90120823e+00, -6.45916288e+01,  1.86000000e+00,\n",
              "         6.00000000e+00],\n",
              "       [-2.04716110e+01, -5.42873777e+02,  1.88000000e+00,\n",
              "         5.00000000e+00],\n",
              "       [-1.18611298e+01, -3.07428121e+02,  1.90000000e+00,\n",
              "         4.00000000e+00],\n",
              "       [-3.54194768e+02, -8.89525281e+03,  1.92000000e+00,\n",
              "         3.00000000e+00],\n",
              "       [-2.25295852e+02, -5.68448102e+03,  1.94000000e+00,\n",
              "         2.00000000e+00],\n",
              "       [-1.71570830e+03, -4.32576262e+04,  1.96000000e+00,\n",
              "         1.00000000e+00],\n",
              "       [-1.23116836e+01, -3.40934466e+02,  1.98000000e+00,\n",
              "         1.00000000e+00]])"
            ]
          },
          "metadata": {},
          "execution_count": 451
        }
      ]
    },
    {
      "cell_type": "code",
      "metadata": {
        "colab": {
          "base_uri": "https://localhost:8080/"
        },
        "id": "XuNlPgHWI5Xr",
        "outputId": "c0e210ba-ea7c-4e34-a2c8-6324640c2f8e"
      },
      "source": [
        "print('Combine 2 methods:')\n",
        "print('Max r2_Score in test1: ', Predict_threshold_multiple[np.argmax(Predict_threshold_multiple[:, 0]), :])\n",
        "print('Max r2_Score in test2: ', Predict_threshold_multiple[np.argmax(Predict_threshold_multiple[:, 1]), :])"
      ],
      "execution_count": 452,
      "outputs": [
        {
          "output_type": "stream",
          "name": "stdout",
          "text": [
            "Combine 2 methods:\n",
            "Max r2_Score in test1:  [ 0.9878847   0.91961175  1.48       25.        ]\n",
            "Max r2_Score in test2:  [ 0.98545108  0.95585151  1.22       39.        ]\n"
          ]
        }
      ]
    },
    {
      "cell_type": "markdown",
      "metadata": {
        "id": "N4g_MxM4NZiI"
      },
      "source": [
        "Kết quả dự đoán của mô hình có cải thiện hơn so với dùng từng phương pháp riêng lẻ, nhưng sự cải thiện này tương đối nhỏ, gần như không có ý nghĩa gì với những data mà mô hình dự đoán trong tương lai."
      ]
    },
    {
      "cell_type": "markdown",
      "metadata": {
        "id": "k4VBbkOGOoU3"
      },
      "source": [
        "Phải bỏ hơn phân nửa data để đổi về chưa tới 0.01 điểm trên tập test, một cuộc trao đổi quá chi là lỗ vốn. Thế nên mô hình cuối cùng team em chọn cho bài toán này là mô hình ở phương pháp 2."
      ]
    }
  ]
}